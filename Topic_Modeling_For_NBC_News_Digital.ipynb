{
 "cells": [
  {
   "cell_type": "markdown",
   "metadata": {},
   "source": [
    "<div class=\"alert\" style=\"background-color:#fff; color:white; padding:0px 10px; border-radius:5px;\"><h1 style='margin:15px 15px; color:#5d3a8e; font-size:40px'> Topic Modeling For NBC News Digital Social Media Content</h1>\n",
    "</div>"
   ]
  },
  {
   "cell_type": "markdown",
   "metadata": {
    "id": "t0GCxAfUJMEl"
   },
   "source": [
    "This is hacky way to try to understand the distribution of top-performing content on Facebook over the past 12 months. We'll be using Latent Dirichlet Allocation(LDA) for topic modeling along with the Python Gensim package. To make this worthwhile, we'll start cleaning up the text, breaking the posts into bigrams, and then determining the optimal number of topics."
   ]
  },
  {
   "cell_type": "markdown",
   "metadata": {
    "id": "g0uCG78TJMEv"
   },
   "source": [
    "<div class=\"alert alert-info\" style=\"background-color:#5d3a8e; color:white; padding:0px 10px; border-radius:5px;\"><h2 style='margin:10px 5px'> Download nltk stopwords and spacy model</h2>\n",
    "</div>\n",
    "\n",
    "Stopwords from NLTK and spacy’s en model for text pre-processing. Spacy model for lemmatization."
   ]
  },
  {
   "cell_type": "code",
   "execution_count": 1,
   "metadata": {
    "colab": {
     "base_uri": "https://localhost:8080/"
    },
    "id": "t5T9ylYgLEEv",
    "outputId": "5fefff2a-4f36-402a-8da0-aa86c0e5d55f"
   },
   "outputs": [
    {
     "name": "stderr",
     "output_type": "stream",
     "text": [
      "[nltk_data] Downloading package stopwords to\n",
      "[nltk_data]     /Users/a206679878/nltk_data...\n",
      "[nltk_data]   Package stopwords is already up-to-date!\n"
     ]
    },
    {
     "data": {
      "text/plain": [
       "True"
      ]
     },
     "execution_count": 1,
     "metadata": {},
     "output_type": "execute_result"
    }
   ],
   "source": [
    "# Run in python console\n",
    "import nltk; nltk.download('stopwords')\n",
    "\n",
    "# Run in terminal or command prompt\n",
    "#python3 -m spacy download en"
   ]
  },
  {
   "cell_type": "markdown",
   "metadata": {
    "id": "vTOmOEW0JMEw"
   },
   "source": [
    "<div class=\"alert alert-info\" style=\"background-color:#5d3a8e; color:white; padding:0px 10px; border-radius:5px;\"><h2 style='margin:10px 5px'> Import Packages</h2>\n",
    "</div>\n",
    "\n",
    "The core packages are `re`, `gensim`, `spacy` and `pyLDAvis`. `matplotlib`,`numpy` and `pandas` for data handling and visualization."
   ]
  },
  {
   "cell_type": "code",
   "execution_count": 2,
   "metadata": {},
   "outputs": [
    {
     "name": "stdout",
     "output_type": "stream",
     "text": [
      "Requirement already satisfied: spacy in /Users/a206679878/opt/anaconda3/lib/python3.8/site-packages (2.3.5)\n",
      "Requirement already satisfied: cymem<2.1.0,>=2.0.2 in /Users/a206679878/opt/anaconda3/lib/python3.8/site-packages (from spacy) (2.0.5)\n",
      "Requirement already satisfied: plac<1.2.0,>=0.9.6 in /Users/a206679878/opt/anaconda3/lib/python3.8/site-packages (from spacy) (1.1.3)\n",
      "Requirement already satisfied: blis<0.8.0,>=0.4.0 in /Users/a206679878/opt/anaconda3/lib/python3.8/site-packages (from spacy) (0.7.4)\n",
      "Requirement already satisfied: murmurhash<1.1.0,>=0.28.0 in /Users/a206679878/opt/anaconda3/lib/python3.8/site-packages (from spacy) (1.0.5)\n",
      "Requirement already satisfied: preshed<3.1.0,>=3.0.2 in /Users/a206679878/opt/anaconda3/lib/python3.8/site-packages (from spacy) (3.0.5)\n",
      "Requirement already satisfied: srsly<1.1.0,>=1.0.2 in /Users/a206679878/opt/anaconda3/lib/python3.8/site-packages (from spacy) (1.0.5)\n",
      "Requirement already satisfied: requests<3.0.0,>=2.13.0 in /Users/a206679878/opt/anaconda3/lib/python3.8/site-packages (from spacy) (2.24.0)\n",
      "Requirement already satisfied: catalogue<1.1.0,>=0.0.7 in /Users/a206679878/opt/anaconda3/lib/python3.8/site-packages (from spacy) (1.0.0)\n",
      "Requirement already satisfied: setuptools in /Users/a206679878/opt/anaconda3/lib/python3.8/site-packages (from spacy) (50.3.1.post20201107)\n",
      "Requirement already satisfied: numpy>=1.15.0 in /Users/a206679878/opt/anaconda3/lib/python3.8/site-packages (from spacy) (1.21.0)\n",
      "Requirement already satisfied: tqdm<5.0.0,>=4.38.0 in /Users/a206679878/opt/anaconda3/lib/python3.8/site-packages (from spacy) (4.50.2)\n",
      "Requirement already satisfied: wasabi<1.1.0,>=0.4.0 in /Users/a206679878/opt/anaconda3/lib/python3.8/site-packages (from spacy) (0.8.2)\n",
      "Requirement already satisfied: thinc<7.5.0,>=7.4.1 in /Users/a206679878/opt/anaconda3/lib/python3.8/site-packages (from spacy) (7.4.5)\n",
      "Requirement already satisfied: chardet<4,>=3.0.2 in /Users/a206679878/opt/anaconda3/lib/python3.8/site-packages (from requests<3.0.0,>=2.13.0->spacy) (3.0.4)\n",
      "Requirement already satisfied: idna<3,>=2.5 in /Users/a206679878/opt/anaconda3/lib/python3.8/site-packages (from requests<3.0.0,>=2.13.0->spacy) (2.10)\n",
      "Requirement already satisfied: urllib3!=1.25.0,!=1.25.1,<1.26,>=1.21.1 in /Users/a206679878/opt/anaconda3/lib/python3.8/site-packages (from requests<3.0.0,>=2.13.0->spacy) (1.25.11)\n",
      "Requirement already satisfied: certifi>=2017.4.17 in /Users/a206679878/opt/anaconda3/lib/python3.8/site-packages (from requests<3.0.0,>=2.13.0->spacy) (2020.6.20)\n"
     ]
    }
   ],
   "source": [
    "import sys\n",
    "!{sys.executable} -m pip install spacy"
   ]
  },
  {
   "cell_type": "code",
   "execution_count": 3,
   "metadata": {
    "id": "2bHmxbxeJMEx"
   },
   "outputs": [
    {
     "name": "stderr",
     "output_type": "stream",
     "text": [
      "/Users/a206679878/opt/anaconda3/lib/python3.8/site-packages/sklearn/decomposition/_lda.py:28: DeprecationWarning: `np.float` is a deprecated alias for the builtin `float`. To silence this warning, use `float` by itself. Doing this will not modify any behavior and is safe. If you specifically wanted the numpy scalar type, use `np.float64` here.\n",
      "Deprecated in NumPy 1.20; for more details and guidance: https://numpy.org/devdocs/release/1.20.0-notes.html#deprecations\n",
      "  EPS = np.finfo(np.float).eps\n"
     ]
    }
   ],
   "source": [
    "import re\n",
    "import numpy as np\n",
    "import pandas as pd\n",
    "from pprint import pprint\n",
    "\n",
    "# Gensim\n",
    "import gensim\n",
    "import gensim.corpora as corpora\n",
    "from gensim.utils import simple_preprocess\n",
    "from gensim.models import CoherenceModel\n",
    "\n",
    "# spacy for lemmatization\n",
    "import spacy\n",
    "\n",
    "# Plotting tools\n",
    "import pyLDAvis\n",
    "import pyLDAvis.gensim_models as gensimvis\n",
    "import matplotlib.pyplot as plt\n",
    "%matplotlib inline\n",
    "\n",
    "# Enable logging for gensim \n",
    "import logging\n",
    "logging.basicConfig(format='%(asctime)s : %(levelname)s : %(message)s', level=logging.ERROR)\n",
    "\n",
    "import warnings\n",
    "warnings.filterwarnings(\"ignore\",category=DeprecationWarning)"
   ]
  },
  {
   "cell_type": "markdown",
   "metadata": {
    "id": "AQEEaKhVJMEx"
   },
   "source": [
    "<div class=\"alert alert-info\" style=\"background-color:#5d3a8e; color:white; padding:0px 10px; border-radius:5px;\"><h2 style='margin:10px 5px'> Why LDA?</h2>\n",
    "</div>"
   ]
  },
  {
   "cell_type": "markdown",
   "metadata": {
    "id": "EqXiW_NrJMEy"
   },
   "source": [
    "LDA’s approach to topic modeling is it considers each document as a collection of topics in a certain proportion. And each topic as a collection of keywords, again, in a certain proportion.\n",
    "\n",
    "A topic is a collection of dominant keywords that are typical representatives. "
   ]
  },
  {
   "cell_type": "markdown",
   "metadata": {
    "id": "LU8bySG4JMEy"
   },
   "source": [
    "<div class=\"alert alert-info\" style=\"background-color:#5d3a8e; color:white; padding:0px 10px; border-radius:5px;\"><h2 style='margin:10px 5px'> Prepare Stopwords</h2>\n",
    "</div>\n",
    "\n",
    "\n",
    "Importing list in `stop_words`."
   ]
  },
  {
   "cell_type": "code",
   "execution_count": 4,
   "metadata": {
    "id": "kxK_dgu1JMEz"
   },
   "outputs": [],
   "source": [
    "# NLTK Stop words\n",
    "from nltk.corpus import stopwords\n",
    "stop_words = stopwords.words('english')\n",
    "stop_words.extend(['www', 'http://'])"
   ]
  },
  {
   "cell_type": "markdown",
   "metadata": {
    "id": "3gjPwI-UJME0"
   },
   "source": [
    "<div class=\"alert alert-info\" style=\"background-color:#5d3a8e; color:white; padding:0px 10px; border-radius:5px;\"><h2 style='margin:10px 5px'> Import Facebook Data</h2>\n",
    "</div>"
   ]
  },
  {
   "cell_type": "markdown",
   "metadata": {
    "id": "1N8yzen0_B_4"
   },
   "source": [
    "We'll be using public posts from top publishers for a 12-month period. Using CrowdTangle's historic reporting, we'll download the full post data and upload a local copy for our analysis.\n",
    "\n",
    "Import using `pandas.read_csv`."
   ]
  },
  {
   "cell_type": "code",
   "execution_count": 5,
   "metadata": {
    "colab": {
     "base_uri": "https://localhost:8080/",
     "height": 296
    },
    "id": "5LK_zPh8ZzXn",
    "outputId": "7d505b12-30d0-49df-ac79-b5d5ffa45a67"
   },
   "outputs": [
    {
     "data": {
      "text/html": [
       "<div>\n",
       "<style scoped>\n",
       "    .dataframe tbody tr th:only-of-type {\n",
       "        vertical-align: middle;\n",
       "    }\n",
       "\n",
       "    .dataframe tbody tr th {\n",
       "        vertical-align: top;\n",
       "    }\n",
       "\n",
       "    .dataframe thead th {\n",
       "        text-align: right;\n",
       "    }\n",
       "</style>\n",
       "<table border=\"1\" class=\"dataframe\">\n",
       "  <thead>\n",
       "    <tr style=\"text-align: right;\">\n",
       "      <th></th>\n",
       "      <th>Page Name</th>\n",
       "      <th>User Name</th>\n",
       "      <th>Facebook Id</th>\n",
       "      <th>Page Category</th>\n",
       "      <th>Page Admin Top Country</th>\n",
       "      <th>Page Description</th>\n",
       "      <th>Page Created</th>\n",
       "      <th>Likes at Posting</th>\n",
       "      <th>Followers at Posting</th>\n",
       "      <th>Post Created</th>\n",
       "      <th>...</th>\n",
       "      <th>Message</th>\n",
       "      <th>Link</th>\n",
       "      <th>Final Link</th>\n",
       "      <th>Image Text</th>\n",
       "      <th>Link Text</th>\n",
       "      <th>Description</th>\n",
       "      <th>Sponsor Id</th>\n",
       "      <th>Sponsor Name</th>\n",
       "      <th>Sponsor Category</th>\n",
       "      <th>Overperforming Score (weighted  —  Likes 1x Shares 3x Comments 2x )</th>\n",
       "    </tr>\n",
       "  </thead>\n",
       "  <tbody>\n",
       "    <tr>\n",
       "      <th>0</th>\n",
       "      <td>The Hill</td>\n",
       "      <td>TheHill</td>\n",
       "      <td>7533944086</td>\n",
       "      <td>NEWS_SITE</td>\n",
       "      <td>US</td>\n",
       "      <td>The Hill is the premier source for policy and ...</td>\n",
       "      <td>2008-01-10 18:20:58</td>\n",
       "      <td>1464754</td>\n",
       "      <td>1562141</td>\n",
       "      <td>2021-07-06 16:45:20 EDT</td>\n",
       "      <td>...</td>\n",
       "      <td>Former President Trump considered issuing a pa...</td>\n",
       "      <td>http://hill.cm/AY9Rs6r</td>\n",
       "      <td>https://thehill.com/homenews/media/561735-trum...</td>\n",
       "      <td>NaN</td>\n",
       "      <td>Trump discussed pardoning Ghislaine Maxwell: book</td>\n",
       "      <td>Wolff has written two other books about Trump,...</td>\n",
       "      <td>NaN</td>\n",
       "      <td>NaN</td>\n",
       "      <td>NaN</td>\n",
       "      <td>8.57</td>\n",
       "    </tr>\n",
       "    <tr>\n",
       "      <th>1</th>\n",
       "      <td>MSNBC</td>\n",
       "      <td>msnbc</td>\n",
       "      <td>273864989376427</td>\n",
       "      <td>MEDIA_NEWS_COMPANY</td>\n",
       "      <td>US</td>\n",
       "      <td>The destination for in-depth analysis of daily...</td>\n",
       "      <td>2012-05-14 16:26:44</td>\n",
       "      <td>2479926</td>\n",
       "      <td>2586695</td>\n",
       "      <td>2021-07-06 16:43:11 EDT</td>\n",
       "      <td>...</td>\n",
       "      <td>The Vice President’s life was threatened. Cops...</td>\n",
       "      <td>https://on.msnbc.com/3jM4ivl</td>\n",
       "      <td>https://www.msnbc.com/ali-velshi/watch/velshi-...</td>\n",
       "      <td>NaN</td>\n",
       "      <td>Velshi: Covering up the insurrection is the Bi...</td>\n",
       "      <td>We are witnessing an active cover-up on Capito...</td>\n",
       "      <td>NaN</td>\n",
       "      <td>NaN</td>\n",
       "      <td>NaN</td>\n",
       "      <td>4.07</td>\n",
       "    </tr>\n",
       "    <tr>\n",
       "      <th>2</th>\n",
       "      <td>MSNBC</td>\n",
       "      <td>msnbc</td>\n",
       "      <td>273864989376427</td>\n",
       "      <td>MEDIA_NEWS_COMPANY</td>\n",
       "      <td>US</td>\n",
       "      <td>The destination for in-depth analysis of daily...</td>\n",
       "      <td>2012-05-14 16:26:44</td>\n",
       "      <td>2479926</td>\n",
       "      <td>2586695</td>\n",
       "      <td>2021-07-06 16:38:31 EDT</td>\n",
       "      <td>...</td>\n",
       "      <td>LATEST: Tropical Storm Elsa as of 3:30pm ET. H...</td>\n",
       "      <td>https://www.facebook.com/msnbc/videos/30595231...</td>\n",
       "      <td>NaN</td>\n",
       "      <td>NaN</td>\n",
       "      <td>NBC News Meteorologist Bill Karins on Tropical...</td>\n",
       "      <td>NaN</td>\n",
       "      <td>NaN</td>\n",
       "      <td>NaN</td>\n",
       "      <td>NaN</td>\n",
       "      <td>-6.83</td>\n",
       "    </tr>\n",
       "    <tr>\n",
       "      <th>3</th>\n",
       "      <td>NBC News</td>\n",
       "      <td>NBCNews</td>\n",
       "      <td>155869377766434</td>\n",
       "      <td>BROADCASTING_MEDIA_PRODUCTION</td>\n",
       "      <td>US</td>\n",
       "      <td>A leading source of global news and informatio...</td>\n",
       "      <td>2010-09-30 19:35:28</td>\n",
       "      <td>10166610</td>\n",
       "      <td>10717941</td>\n",
       "      <td>2021-07-06 16:33:05 EDT</td>\n",
       "      <td>...</td>\n",
       "      <td>LATEST: Elsa could be a hurricane when it hits...</td>\n",
       "      <td>https://nbcnews.to/2V38lcn</td>\n",
       "      <td>https://www.nbcnews.com/news/weather/elsa-fore...</td>\n",
       "      <td>NaN</td>\n",
       "      <td>Elsa intensifies as it turns toward Florida co...</td>\n",
       "      <td>Hurricane-force winds, tornadoes and up to 8 i...</td>\n",
       "      <td>NaN</td>\n",
       "      <td>NaN</td>\n",
       "      <td>NaN</td>\n",
       "      <td>1.92</td>\n",
       "    </tr>\n",
       "    <tr>\n",
       "      <th>4</th>\n",
       "      <td>Washington Post</td>\n",
       "      <td>washingtonpost</td>\n",
       "      <td>6250307292</td>\n",
       "      <td>BROADCASTING_MEDIA_PRODUCTION</td>\n",
       "      <td>US</td>\n",
       "      <td>Our award-winning journalists have covered Was...</td>\n",
       "      <td>2007-11-07 18:26:05</td>\n",
       "      <td>6622347</td>\n",
       "      <td>7005382</td>\n",
       "      <td>2021-07-06 16:30:28 EDT</td>\n",
       "      <td>...</td>\n",
       "      <td>“I’m the king of the tax code,” said Trump, wh...</td>\n",
       "      <td>https://www.washingtonpost.com/politics/2021/0...</td>\n",
       "      <td>NaN</td>\n",
       "      <td>NaN</td>\n",
       "      <td>Analysis | How Trump’s claims to being ‘the ki...</td>\n",
       "      <td>\"I’m the king of the tax code,\" said Trump, wh...</td>\n",
       "      <td>NaN</td>\n",
       "      <td>NaN</td>\n",
       "      <td>NaN</td>\n",
       "      <td>3.24</td>\n",
       "    </tr>\n",
       "  </tbody>\n",
       "</table>\n",
       "<p>5 rows × 40 columns</p>\n",
       "</div>"
      ],
      "text/plain": [
       "         Page Name       User Name      Facebook Id  \\\n",
       "0         The Hill         TheHill       7533944086   \n",
       "1            MSNBC           msnbc  273864989376427   \n",
       "2            MSNBC           msnbc  273864989376427   \n",
       "3         NBC News         NBCNews  155869377766434   \n",
       "4  Washington Post  washingtonpost       6250307292   \n",
       "\n",
       "                   Page Category Page Admin Top Country  \\\n",
       "0                      NEWS_SITE                     US   \n",
       "1             MEDIA_NEWS_COMPANY                     US   \n",
       "2             MEDIA_NEWS_COMPANY                     US   \n",
       "3  BROADCASTING_MEDIA_PRODUCTION                     US   \n",
       "4  BROADCASTING_MEDIA_PRODUCTION                     US   \n",
       "\n",
       "                                    Page Description         Page Created  \\\n",
       "0  The Hill is the premier source for policy and ...  2008-01-10 18:20:58   \n",
       "1  The destination for in-depth analysis of daily...  2012-05-14 16:26:44   \n",
       "2  The destination for in-depth analysis of daily...  2012-05-14 16:26:44   \n",
       "3  A leading source of global news and informatio...  2010-09-30 19:35:28   \n",
       "4  Our award-winning journalists have covered Was...  2007-11-07 18:26:05   \n",
       "\n",
       "   Likes at Posting  Followers at Posting             Post Created  ...  \\\n",
       "0           1464754               1562141  2021-07-06 16:45:20 EDT  ...   \n",
       "1           2479926               2586695  2021-07-06 16:43:11 EDT  ...   \n",
       "2           2479926               2586695  2021-07-06 16:38:31 EDT  ...   \n",
       "3          10166610              10717941  2021-07-06 16:33:05 EDT  ...   \n",
       "4           6622347               7005382  2021-07-06 16:30:28 EDT  ...   \n",
       "\n",
       "                                             Message  \\\n",
       "0  Former President Trump considered issuing a pa...   \n",
       "1  The Vice President’s life was threatened. Cops...   \n",
       "2  LATEST: Tropical Storm Elsa as of 3:30pm ET. H...   \n",
       "3  LATEST: Elsa could be a hurricane when it hits...   \n",
       "4  “I’m the king of the tax code,” said Trump, wh...   \n",
       "\n",
       "                                                Link  \\\n",
       "0                             http://hill.cm/AY9Rs6r   \n",
       "1                       https://on.msnbc.com/3jM4ivl   \n",
       "2  https://www.facebook.com/msnbc/videos/30595231...   \n",
       "3                         https://nbcnews.to/2V38lcn   \n",
       "4  https://www.washingtonpost.com/politics/2021/0...   \n",
       "\n",
       "                                          Final Link Image Text  \\\n",
       "0  https://thehill.com/homenews/media/561735-trum...        NaN   \n",
       "1  https://www.msnbc.com/ali-velshi/watch/velshi-...        NaN   \n",
       "2                                                NaN        NaN   \n",
       "3  https://www.nbcnews.com/news/weather/elsa-fore...        NaN   \n",
       "4                                                NaN        NaN   \n",
       "\n",
       "                                           Link Text  \\\n",
       "0  Trump discussed pardoning Ghislaine Maxwell: book   \n",
       "1  Velshi: Covering up the insurrection is the Bi...   \n",
       "2  NBC News Meteorologist Bill Karins on Tropical...   \n",
       "3  Elsa intensifies as it turns toward Florida co...   \n",
       "4  Analysis | How Trump’s claims to being ‘the ki...   \n",
       "\n",
       "                                         Description  Sponsor Id  \\\n",
       "0  Wolff has written two other books about Trump,...         NaN   \n",
       "1  We are witnessing an active cover-up on Capito...         NaN   \n",
       "2                                                NaN         NaN   \n",
       "3  Hurricane-force winds, tornadoes and up to 8 i...         NaN   \n",
       "4  \"I’m the king of the tax code,\" said Trump, wh...         NaN   \n",
       "\n",
       "   Sponsor Name  Sponsor Category  \\\n",
       "0           NaN               NaN   \n",
       "1           NaN               NaN   \n",
       "2           NaN               NaN   \n",
       "3           NaN               NaN   \n",
       "4           NaN               NaN   \n",
       "\n",
       "   Overperforming Score (weighted  —  Likes 1x Shares 3x Comments 2x )  \n",
       "0                                               8.57                    \n",
       "1                                               4.07                    \n",
       "2                                              -6.83                    \n",
       "3                                               1.92                    \n",
       "4                                               3.24                    \n",
       "\n",
       "[5 rows x 40 columns]"
      ]
     },
     "execution_count": 5,
     "metadata": {},
     "output_type": "execute_result"
    }
   ],
   "source": [
    "# Import Dataset\n",
    "df = pd.read_csv('/Users/a206679878/Documents/Untitled Folder/postings.csv')\n",
    "df.head()"
   ]
  },
  {
   "cell_type": "code",
   "execution_count": 6,
   "metadata": {},
   "outputs": [
    {
     "name": "stdout",
     "output_type": "stream",
     "text": [
      "(185647, 40)\n"
     ]
    }
   ],
   "source": [
    "print(df.shape)"
   ]
  },
  {
   "cell_type": "markdown",
   "metadata": {
    "id": "1N8yzen0_B_4"
   },
   "source": [
    "For our text analysis, we'll need the \"Description\" column formatted as a string. Once that text is a string, we can start to break it up into its components."
   ]
  },
  {
   "cell_type": "code",
   "execution_count": 7,
   "metadata": {},
   "outputs": [],
   "source": [
    "df['Link Text']= df['Link Text'].map(str)"
   ]
  },
  {
   "cell_type": "code",
   "execution_count": 8,
   "metadata": {},
   "outputs": [
    {
     "name": "stdout",
     "output_type": "stream",
     "text": [
      "Index(['Page Name', 'User Name', 'Facebook Id', 'Page Category',\n",
      "       'Page Admin Top Country', 'Page Description', 'Page Created',\n",
      "       'Likes at Posting', 'Followers at Posting', 'Post Created',\n",
      "       'Post Created Date', 'Post Created Time', 'Type', 'Total Interactions',\n",
      "       'Likes', 'Comments', 'Shares', 'Love', 'Wow', 'Haha', 'Sad', 'Angry',\n",
      "       'Care', 'Video Share Status', 'Is Video Owner?', 'Post Views',\n",
      "       'Total Views', 'Total Views For All Crossposts', 'Video Length', 'URL',\n",
      "       'Message', 'Link', 'Final Link', 'Image Text', 'text', 'Description',\n",
      "       'Sponsor Id', 'Sponsor Name', 'Sponsor Category',\n",
      "       'Overperforming Score (weighted  —  Likes 1x Shares 3x Comments 2x )'],\n",
      "      dtype='object')\n"
     ]
    }
   ],
   "source": [
    "df.rename(columns = {\"Link Text\": \"text\"}, inplace=True)\n",
    "print(df.columns)"
   ]
  },
  {
   "cell_type": "code",
   "execution_count": 9,
   "metadata": {},
   "outputs": [
    {
     "data": {
      "text/plain": [
       "Page Name                                                               object\n",
       "User Name                                                               object\n",
       "Facebook Id                                                              int64\n",
       "Page Category                                                           object\n",
       "Page Admin Top Country                                                  object\n",
       "Page Description                                                        object\n",
       "Page Created                                                            object\n",
       "Likes at Posting                                                         int64\n",
       "Followers at Posting                                                     int64\n",
       "Post Created                                                            object\n",
       "Post Created Date                                                       object\n",
       "Post Created Time                                                       object\n",
       "Type                                                                    object\n",
       "Total Interactions                                                      object\n",
       "Likes                                                                    int64\n",
       "Comments                                                                 int64\n",
       "Shares                                                                   int64\n",
       "Love                                                                     int64\n",
       "Wow                                                                      int64\n",
       "Haha                                                                     int64\n",
       "Sad                                                                      int64\n",
       "Angry                                                                    int64\n",
       "Care                                                                     int64\n",
       "Video Share Status                                                      object\n",
       "Is Video Owner?                                                         object\n",
       "Post Views                                                               int64\n",
       "Total Views                                                              int64\n",
       "Total Views For All Crossposts                                           int64\n",
       "Video Length                                                            object\n",
       "URL                                                                     object\n",
       "Message                                                                 object\n",
       "Link                                                                    object\n",
       "Final Link                                                              object\n",
       "Image Text                                                              object\n",
       "text                                                                    object\n",
       "Description                                                             object\n",
       "Sponsor Id                                                             float64\n",
       "Sponsor Name                                                            object\n",
       "Sponsor Category                                                        object\n",
       "Overperforming Score (weighted  —  Likes 1x Shares 3x Comments 2x )    float64\n",
       "dtype: object"
      ]
     },
     "execution_count": 9,
     "metadata": {},
     "output_type": "execute_result"
    }
   ],
   "source": [
    "datatypes = df.dtypes\n",
    "  \n",
    "# Print the data types\n",
    "# of each column\n",
    "datatypes"
   ]
  },
  {
   "cell_type": "markdown",
   "metadata": {
    "id": "AQEEaKhVJMEx"
   },
   "source": [
    "<div class=\"alert alert-info\" style=\"background-color:#5d3a8e; color:white; padding:0px 10px; border-radius:5px;\"><h2 style='margin:10px 5px'> The Best of the Best</h2>\n",
    "</div>"
   ]
  },
  {
   "cell_type": "markdown",
   "metadata": {},
   "source": [
    "Now, we only want the best posts, so we will filter our results for posts only above a threshold. We'll go with all posts above 3000 likes, a typical engagement rate."
   ]
  },
  {
   "cell_type": "code",
   "execution_count": 10,
   "metadata": {},
   "outputs": [
    {
     "data": {
      "text/html": [
       "<div>\n",
       "<style scoped>\n",
       "    .dataframe tbody tr th:only-of-type {\n",
       "        vertical-align: middle;\n",
       "    }\n",
       "\n",
       "    .dataframe tbody tr th {\n",
       "        vertical-align: top;\n",
       "    }\n",
       "\n",
       "    .dataframe thead th {\n",
       "        text-align: right;\n",
       "    }\n",
       "</style>\n",
       "<table border=\"1\" class=\"dataframe\">\n",
       "  <thead>\n",
       "    <tr style=\"text-align: right;\">\n",
       "      <th></th>\n",
       "      <th>Page Name</th>\n",
       "      <th>User Name</th>\n",
       "      <th>Facebook Id</th>\n",
       "      <th>Page Category</th>\n",
       "      <th>Page Admin Top Country</th>\n",
       "      <th>Page Description</th>\n",
       "      <th>Page Created</th>\n",
       "      <th>Likes at Posting</th>\n",
       "      <th>Followers at Posting</th>\n",
       "      <th>Post Created</th>\n",
       "      <th>...</th>\n",
       "      <th>Message</th>\n",
       "      <th>Link</th>\n",
       "      <th>Final Link</th>\n",
       "      <th>Image Text</th>\n",
       "      <th>text</th>\n",
       "      <th>Description</th>\n",
       "      <th>Sponsor Id</th>\n",
       "      <th>Sponsor Name</th>\n",
       "      <th>Sponsor Category</th>\n",
       "      <th>Overperforming Score (weighted  —  Likes 1x Shares 3x Comments 2x )</th>\n",
       "    </tr>\n",
       "  </thead>\n",
       "  <tbody>\n",
       "    <tr>\n",
       "      <th>64</th>\n",
       "      <td>The Hill</td>\n",
       "      <td>TheHill</td>\n",
       "      <td>7533944086</td>\n",
       "      <td>NEWS_SITE</td>\n",
       "      <td>US</td>\n",
       "      <td>The Hill is the premier source for policy and ...</td>\n",
       "      <td>2008-01-10 18:20:58</td>\n",
       "      <td>1464754</td>\n",
       "      <td>1562141</td>\n",
       "      <td>2021-07-06 14:00:10 EDT</td>\n",
       "      <td>...</td>\n",
       "      <td>A New Jersey man was seen in a now-viral video...</td>\n",
       "      <td>http://hill.cm/hJGUF3Y</td>\n",
       "      <td>https://thehill.com/blogs/blog-briefing-room/n...</td>\n",
       "      <td>NaN</td>\n",
       "      <td>WATCH: 100 protesters show up at home of man w...</td>\n",
       "      <td>Mathews, during a phone interview with the Inq...</td>\n",
       "      <td>NaN</td>\n",
       "      <td>NaN</td>\n",
       "      <td>NaN</td>\n",
       "      <td>16.19</td>\n",
       "    </tr>\n",
       "    <tr>\n",
       "      <th>77</th>\n",
       "      <td>The Hill</td>\n",
       "      <td>TheHill</td>\n",
       "      <td>7533944086</td>\n",
       "      <td>NEWS_SITE</td>\n",
       "      <td>US</td>\n",
       "      <td>The Hill is the premier source for policy and ...</td>\n",
       "      <td>2008-01-10 18:20:58</td>\n",
       "      <td>1464754</td>\n",
       "      <td>1562141</td>\n",
       "      <td>2021-07-06 13:30:05 EDT</td>\n",
       "      <td>...</td>\n",
       "      <td>Asked in a new interview if he suspected that ...</td>\n",
       "      <td>http://hill.cm/xT55zWD</td>\n",
       "      <td>https://thehill.com/homenews/house/561672-kinz...</td>\n",
       "      <td>NaN</td>\n",
       "      <td>Kinzinger says he suspects some lawmakers knew...</td>\n",
       "      <td>\"...the whole reason I brought my gun and kept...</td>\n",
       "      <td>NaN</td>\n",
       "      <td>NaN</td>\n",
       "      <td>NaN</td>\n",
       "      <td>12.75</td>\n",
       "    </tr>\n",
       "    <tr>\n",
       "      <th>224</th>\n",
       "      <td>CNN</td>\n",
       "      <td>cnn</td>\n",
       "      <td>5550296508</td>\n",
       "      <td>MEDIA_NEWS_COMPANY</td>\n",
       "      <td>US</td>\n",
       "      <td>Instant breaking news alerts and the most talk...</td>\n",
       "      <td>2007-11-07 22:14:27</td>\n",
       "      <td>34564937</td>\n",
       "      <td>38372380</td>\n",
       "      <td>2021-07-06 07:11:45 EDT</td>\n",
       "      <td>...</td>\n",
       "      <td>A Republican official from a key Arizona count...</td>\n",
       "      <td>https://cnn.it/3AvEcTt</td>\n",
       "      <td>https://www.cnn.com/2021/07/05/politics/clint-...</td>\n",
       "      <td>NaN</td>\n",
       "      <td>Maricopa County official on rejecting Trump al...</td>\n",
       "      <td>NaN</td>\n",
       "      <td>NaN</td>\n",
       "      <td>NaN</td>\n",
       "      <td>NaN</td>\n",
       "      <td>4.49</td>\n",
       "    </tr>\n",
       "    <tr>\n",
       "      <th>232</th>\n",
       "      <td>Washington Post</td>\n",
       "      <td>washingtonpost</td>\n",
       "      <td>6250307292</td>\n",
       "      <td>BROADCASTING_MEDIA_PRODUCTION</td>\n",
       "      <td>US</td>\n",
       "      <td>Our award-winning journalists have covered Was...</td>\n",
       "      <td>2007-11-07 18:26:05</td>\n",
       "      <td>6622347</td>\n",
       "      <td>7005382</td>\n",
       "      <td>2021-07-06 06:40:46 EDT</td>\n",
       "      <td>...</td>\n",
       "      <td>A man police say yelled racist slurs in front ...</td>\n",
       "      <td>https://www.washingtonpost.com/nation/2021/07/...</td>\n",
       "      <td>NaN</td>\n",
       "      <td>NaN</td>\n",
       "      <td>A man who went on a racist rant gave out his a...</td>\n",
       "      <td>The New Jersey man was later arrested as prote...</td>\n",
       "      <td>NaN</td>\n",
       "      <td>NaN</td>\n",
       "      <td>NaN</td>\n",
       "      <td>13.15</td>\n",
       "    </tr>\n",
       "    <tr>\n",
       "      <th>292</th>\n",
       "      <td>CNN</td>\n",
       "      <td>cnn</td>\n",
       "      <td>5550296508</td>\n",
       "      <td>MEDIA_NEWS_COMPANY</td>\n",
       "      <td>US</td>\n",
       "      <td>Instant breaking news alerts and the most talk...</td>\n",
       "      <td>2007-11-07 22:14:27</td>\n",
       "      <td>34564937</td>\n",
       "      <td>38372380</td>\n",
       "      <td>2021-07-06 01:31:07 EDT</td>\n",
       "      <td>...</td>\n",
       "      <td>San Francisco's lavish Millennium Tower opened...</td>\n",
       "      <td>https://cnn.it/2V65Vtv</td>\n",
       "      <td>https://www.cnn.com/2021/07/05/us/san-francisc...</td>\n",
       "      <td>NaN</td>\n",
       "      <td>Surfside catastrophe raises concerns about San...</td>\n",
       "      <td>NaN</td>\n",
       "      <td>NaN</td>\n",
       "      <td>NaN</td>\n",
       "      <td>NaN</td>\n",
       "      <td>5.61</td>\n",
       "    </tr>\n",
       "    <tr>\n",
       "      <th>...</th>\n",
       "      <td>...</td>\n",
       "      <td>...</td>\n",
       "      <td>...</td>\n",
       "      <td>...</td>\n",
       "      <td>...</td>\n",
       "      <td>...</td>\n",
       "      <td>...</td>\n",
       "      <td>...</td>\n",
       "      <td>...</td>\n",
       "      <td>...</td>\n",
       "      <td>...</td>\n",
       "      <td>...</td>\n",
       "      <td>...</td>\n",
       "      <td>...</td>\n",
       "      <td>...</td>\n",
       "      <td>...</td>\n",
       "      <td>...</td>\n",
       "      <td>...</td>\n",
       "      <td>...</td>\n",
       "      <td>...</td>\n",
       "      <td>...</td>\n",
       "    </tr>\n",
       "    <tr>\n",
       "      <th>185625</th>\n",
       "      <td>Washington Post</td>\n",
       "      <td>washingtonpost</td>\n",
       "      <td>6250307292</td>\n",
       "      <td>BROADCASTING_MEDIA_PRODUCTION</td>\n",
       "      <td>US</td>\n",
       "      <td>Our award-winning journalists have covered Was...</td>\n",
       "      <td>2007-11-07 18:26:05</td>\n",
       "      <td>6465204</td>\n",
       "      <td>6908872</td>\n",
       "      <td>2020-07-06 17:40:54 EDT</td>\n",
       "      <td>...</td>\n",
       "      <td>The book will be published on July 14 because ...</td>\n",
       "      <td>https://www.washingtonpost.com/politics/tell-a...</td>\n",
       "      <td>NaN</td>\n",
       "      <td>NaN</td>\n",
       "      <td>Tell-all book by President Trump’s niece to be...</td>\n",
       "      <td>Mary Trump’s book said to show “how Donald acq...</td>\n",
       "      <td>NaN</td>\n",
       "      <td>NaN</td>\n",
       "      <td>NaN</td>\n",
       "      <td>10.70</td>\n",
       "    </tr>\n",
       "    <tr>\n",
       "      <th>185629</th>\n",
       "      <td>MSNBC</td>\n",
       "      <td>msnbc</td>\n",
       "      <td>273864989376427</td>\n",
       "      <td>MEDIA_NEWS_COMPANY</td>\n",
       "      <td>US</td>\n",
       "      <td>The destination for in-depth analysis of daily...</td>\n",
       "      <td>2012-05-14 16:26:44</td>\n",
       "      <td>2374006</td>\n",
       "      <td>2504567</td>\n",
       "      <td>2020-07-06 17:31:14 EDT</td>\n",
       "      <td>...</td>\n",
       "      <td>Sen. Grassley will not attend the Republican N...</td>\n",
       "      <td>https://on.msnbc.com/3e2B84Q</td>\n",
       "      <td>https://www.nbcnews.com/politics/politics-news...</td>\n",
       "      <td>NaN</td>\n",
       "      <td>Chuck Grassley to skip GOP convention over cor...</td>\n",
       "      <td>This would mark the first time in 40 years Gra...</td>\n",
       "      <td>NaN</td>\n",
       "      <td>NaN</td>\n",
       "      <td>NaN</td>\n",
       "      <td>8.36</td>\n",
       "    </tr>\n",
       "    <tr>\n",
       "      <th>185636</th>\n",
       "      <td>Washington Post</td>\n",
       "      <td>washingtonpost</td>\n",
       "      <td>6250307292</td>\n",
       "      <td>BROADCASTING_MEDIA_PRODUCTION</td>\n",
       "      <td>US</td>\n",
       "      <td>Our award-winning journalists have covered Was...</td>\n",
       "      <td>2007-11-07 18:26:05</td>\n",
       "      <td>6465204</td>\n",
       "      <td>6908872</td>\n",
       "      <td>2020-07-06 17:20:19 EDT</td>\n",
       "      <td>...</td>\n",
       "      <td>Disney and Colin Kaepernick announced a new pr...</td>\n",
       "      <td>https://www.washingtonpost.com/sports/2020/07/...</td>\n",
       "      <td>NaN</td>\n",
       "      <td>NaN</td>\n",
       "      <td>Colin Kaepernick and Disney announce new partn...</td>\n",
       "      <td>The larger deal between Kaepernick’s productio...</td>\n",
       "      <td>NaN</td>\n",
       "      <td>NaN</td>\n",
       "      <td>NaN</td>\n",
       "      <td>5.21</td>\n",
       "    </tr>\n",
       "    <tr>\n",
       "      <th>185642</th>\n",
       "      <td>The Guardian</td>\n",
       "      <td>theguardian</td>\n",
       "      <td>10513336322</td>\n",
       "      <td>MEDIA_NEWS_COMPANY</td>\n",
       "      <td>GB</td>\n",
       "      <td>The world's leading liberal voice, since 1821</td>\n",
       "      <td>2007-11-26 17:15:26</td>\n",
       "      <td>8388654</td>\n",
       "      <td>8716143</td>\n",
       "      <td>2020-07-06 17:06:26 EDT</td>\n",
       "      <td>...</td>\n",
       "      <td>NaN</td>\n",
       "      <td>https://www.theguardian.com/us-news/2020/jul/0...</td>\n",
       "      <td>NaN</td>\n",
       "      <td>NaN</td>\n",
       "      <td>White woman who called police over black birdw...</td>\n",
       "      <td>Amy Cooper charged with filing a false report ...</td>\n",
       "      <td>NaN</td>\n",
       "      <td>NaN</td>\n",
       "      <td>NaN</td>\n",
       "      <td>8.55</td>\n",
       "    </tr>\n",
       "    <tr>\n",
       "      <th>185645</th>\n",
       "      <td>CNN</td>\n",
       "      <td>cnn</td>\n",
       "      <td>5550296508</td>\n",
       "      <td>MEDIA_NEWS_COMPANY</td>\n",
       "      <td>US</td>\n",
       "      <td>Instant breaking news alerts and the most talk...</td>\n",
       "      <td>2007-11-07 22:14:27</td>\n",
       "      <td>33363423</td>\n",
       "      <td>37359039</td>\n",
       "      <td>2020-07-06 17:01:17 EDT</td>\n",
       "      <td>...</td>\n",
       "      <td>It isn't entirely surprising: Many galaxies se...</td>\n",
       "      <td>https://cnn.it/38xrZ2P</td>\n",
       "      <td>https://www.cnn.com/2020/07/06/world/hubble-sc...</td>\n",
       "      <td>NaN</td>\n",
       "      <td>Hubble spots galaxy moving away from us at 3 m...</td>\n",
       "      <td>NaN</td>\n",
       "      <td>NaN</td>\n",
       "      <td>NaN</td>\n",
       "      <td>NaN</td>\n",
       "      <td>1.93</td>\n",
       "    </tr>\n",
       "  </tbody>\n",
       "</table>\n",
       "<p>22164 rows × 40 columns</p>\n",
       "</div>"
      ],
      "text/plain": [
       "              Page Name       User Name      Facebook Id  \\\n",
       "64             The Hill         TheHill       7533944086   \n",
       "77             The Hill         TheHill       7533944086   \n",
       "224                 CNN             cnn       5550296508   \n",
       "232     Washington Post  washingtonpost       6250307292   \n",
       "292                 CNN             cnn       5550296508   \n",
       "...                 ...             ...              ...   \n",
       "185625  Washington Post  washingtonpost       6250307292   \n",
       "185629            MSNBC           msnbc  273864989376427   \n",
       "185636  Washington Post  washingtonpost       6250307292   \n",
       "185642     The Guardian     theguardian      10513336322   \n",
       "185645              CNN             cnn       5550296508   \n",
       "\n",
       "                        Page Category Page Admin Top Country  \\\n",
       "64                          NEWS_SITE                     US   \n",
       "77                          NEWS_SITE                     US   \n",
       "224                MEDIA_NEWS_COMPANY                     US   \n",
       "232     BROADCASTING_MEDIA_PRODUCTION                     US   \n",
       "292                MEDIA_NEWS_COMPANY                     US   \n",
       "...                               ...                    ...   \n",
       "185625  BROADCASTING_MEDIA_PRODUCTION                     US   \n",
       "185629             MEDIA_NEWS_COMPANY                     US   \n",
       "185636  BROADCASTING_MEDIA_PRODUCTION                     US   \n",
       "185642             MEDIA_NEWS_COMPANY                     GB   \n",
       "185645             MEDIA_NEWS_COMPANY                     US   \n",
       "\n",
       "                                         Page Description  \\\n",
       "64      The Hill is the premier source for policy and ...   \n",
       "77      The Hill is the premier source for policy and ...   \n",
       "224     Instant breaking news alerts and the most talk...   \n",
       "232     Our award-winning journalists have covered Was...   \n",
       "292     Instant breaking news alerts and the most talk...   \n",
       "...                                                   ...   \n",
       "185625  Our award-winning journalists have covered Was...   \n",
       "185629  The destination for in-depth analysis of daily...   \n",
       "185636  Our award-winning journalists have covered Was...   \n",
       "185642      The world's leading liberal voice, since 1821   \n",
       "185645  Instant breaking news alerts and the most talk...   \n",
       "\n",
       "               Page Created  Likes at Posting  Followers at Posting  \\\n",
       "64      2008-01-10 18:20:58           1464754               1562141   \n",
       "77      2008-01-10 18:20:58           1464754               1562141   \n",
       "224     2007-11-07 22:14:27          34564937              38372380   \n",
       "232     2007-11-07 18:26:05           6622347               7005382   \n",
       "292     2007-11-07 22:14:27          34564937              38372380   \n",
       "...                     ...               ...                   ...   \n",
       "185625  2007-11-07 18:26:05           6465204               6908872   \n",
       "185629  2012-05-14 16:26:44           2374006               2504567   \n",
       "185636  2007-11-07 18:26:05           6465204               6908872   \n",
       "185642  2007-11-26 17:15:26           8388654               8716143   \n",
       "185645  2007-11-07 22:14:27          33363423              37359039   \n",
       "\n",
       "                   Post Created  ...  \\\n",
       "64      2021-07-06 14:00:10 EDT  ...   \n",
       "77      2021-07-06 13:30:05 EDT  ...   \n",
       "224     2021-07-06 07:11:45 EDT  ...   \n",
       "232     2021-07-06 06:40:46 EDT  ...   \n",
       "292     2021-07-06 01:31:07 EDT  ...   \n",
       "...                         ...  ...   \n",
       "185625  2020-07-06 17:40:54 EDT  ...   \n",
       "185629  2020-07-06 17:31:14 EDT  ...   \n",
       "185636  2020-07-06 17:20:19 EDT  ...   \n",
       "185642  2020-07-06 17:06:26 EDT  ...   \n",
       "185645  2020-07-06 17:01:17 EDT  ...   \n",
       "\n",
       "                                                  Message  \\\n",
       "64      A New Jersey man was seen in a now-viral video...   \n",
       "77      Asked in a new interview if he suspected that ...   \n",
       "224     A Republican official from a key Arizona count...   \n",
       "232     A man police say yelled racist slurs in front ...   \n",
       "292     San Francisco's lavish Millennium Tower opened...   \n",
       "...                                                   ...   \n",
       "185625  The book will be published on July 14 because ...   \n",
       "185629  Sen. Grassley will not attend the Republican N...   \n",
       "185636  Disney and Colin Kaepernick announced a new pr...   \n",
       "185642                                                NaN   \n",
       "185645  It isn't entirely surprising: Many galaxies se...   \n",
       "\n",
       "                                                     Link  \\\n",
       "64                                 http://hill.cm/hJGUF3Y   \n",
       "77                                 http://hill.cm/xT55zWD   \n",
       "224                                https://cnn.it/3AvEcTt   \n",
       "232     https://www.washingtonpost.com/nation/2021/07/...   \n",
       "292                                https://cnn.it/2V65Vtv   \n",
       "...                                                   ...   \n",
       "185625  https://www.washingtonpost.com/politics/tell-a...   \n",
       "185629                       https://on.msnbc.com/3e2B84Q   \n",
       "185636  https://www.washingtonpost.com/sports/2020/07/...   \n",
       "185642  https://www.theguardian.com/us-news/2020/jul/0...   \n",
       "185645                             https://cnn.it/38xrZ2P   \n",
       "\n",
       "                                               Final Link Image Text  \\\n",
       "64      https://thehill.com/blogs/blog-briefing-room/n...        NaN   \n",
       "77      https://thehill.com/homenews/house/561672-kinz...        NaN   \n",
       "224     https://www.cnn.com/2021/07/05/politics/clint-...        NaN   \n",
       "232                                                   NaN        NaN   \n",
       "292     https://www.cnn.com/2021/07/05/us/san-francisc...        NaN   \n",
       "...                                                   ...        ...   \n",
       "185625                                                NaN        NaN   \n",
       "185629  https://www.nbcnews.com/politics/politics-news...        NaN   \n",
       "185636                                                NaN        NaN   \n",
       "185642                                                NaN        NaN   \n",
       "185645  https://www.cnn.com/2020/07/06/world/hubble-sc...        NaN   \n",
       "\n",
       "                                                     text  \\\n",
       "64      WATCH: 100 protesters show up at home of man w...   \n",
       "77      Kinzinger says he suspects some lawmakers knew...   \n",
       "224     Maricopa County official on rejecting Trump al...   \n",
       "232     A man who went on a racist rant gave out his a...   \n",
       "292     Surfside catastrophe raises concerns about San...   \n",
       "...                                                   ...   \n",
       "185625  Tell-all book by President Trump’s niece to be...   \n",
       "185629  Chuck Grassley to skip GOP convention over cor...   \n",
       "185636  Colin Kaepernick and Disney announce new partn...   \n",
       "185642  White woman who called police over black birdw...   \n",
       "185645  Hubble spots galaxy moving away from us at 3 m...   \n",
       "\n",
       "                                              Description  Sponsor Id  \\\n",
       "64      Mathews, during a phone interview with the Inq...         NaN   \n",
       "77      \"...the whole reason I brought my gun and kept...         NaN   \n",
       "224                                                   NaN         NaN   \n",
       "232     The New Jersey man was later arrested as prote...         NaN   \n",
       "292                                                   NaN         NaN   \n",
       "...                                                   ...         ...   \n",
       "185625  Mary Trump’s book said to show “how Donald acq...         NaN   \n",
       "185629  This would mark the first time in 40 years Gra...         NaN   \n",
       "185636  The larger deal between Kaepernick’s productio...         NaN   \n",
       "185642  Amy Cooper charged with filing a false report ...         NaN   \n",
       "185645                                                NaN         NaN   \n",
       "\n",
       "        Sponsor Name  Sponsor Category  \\\n",
       "64               NaN               NaN   \n",
       "77               NaN               NaN   \n",
       "224              NaN               NaN   \n",
       "232              NaN               NaN   \n",
       "292              NaN               NaN   \n",
       "...              ...               ...   \n",
       "185625           NaN               NaN   \n",
       "185629           NaN               NaN   \n",
       "185636           NaN               NaN   \n",
       "185642           NaN               NaN   \n",
       "185645           NaN               NaN   \n",
       "\n",
       "        Overperforming Score (weighted  —  Likes 1x Shares 3x Comments 2x )  \n",
       "64                                                  16.19                    \n",
       "77                                                  12.75                    \n",
       "224                                                  4.49                    \n",
       "232                                                 13.15                    \n",
       "292                                                  5.61                    \n",
       "...                                                   ...                    \n",
       "185625                                              10.70                    \n",
       "185629                                               8.36                    \n",
       "185636                                               5.21                    \n",
       "185642                                               8.55                    \n",
       "185645                                               1.93                    \n",
       "\n",
       "[22164 rows x 40 columns]"
      ]
     },
     "execution_count": 10,
     "metadata": {},
     "output_type": "execute_result"
    }
   ],
   "source": [
    "df_2 = df[df[\"Likes\"] > 3000.0]\n",
    "\n",
    "df_2"
   ]
  },
  {
   "cell_type": "code",
   "execution_count": 11,
   "metadata": {
    "scrolled": true
   },
   "outputs": [
    {
     "name": "stdout",
     "output_type": "stream",
     "text": [
      "(22164, 40)\n"
     ]
    }
   ],
   "source": [
    "print(df_2.shape)"
   ]
  },
  {
   "cell_type": "markdown",
   "metadata": {},
   "source": [
    "Let's replace our data with the trimmed down version."
   ]
  },
  {
   "cell_type": "code",
   "execution_count": 12,
   "metadata": {},
   "outputs": [],
   "source": [
    "df = df_2"
   ]
  },
  {
   "cell_type": "code",
   "execution_count": 13,
   "metadata": {},
   "outputs": [
    {
     "name": "stdout",
     "output_type": "stream",
     "text": [
      "(22164, 40)\n"
     ]
    }
   ],
   "source": [
    "print(df.shape)"
   ]
  },
  {
   "cell_type": "markdown",
   "metadata": {
    "id": "_Pvuv-EDJME5"
   },
   "source": [
    "<div class=\"alert alert-info\" style=\"background-color:#5d3a8e; color:white; padding:0px 10px; border-radius:5px;\"><h2 style='margin:10px 5px'> Remove newline characters</h2>\n",
    "</div>\n",
    "\n",
    "Using [regular expressions]."
   ]
  },
  {
   "cell_type": "code",
   "execution_count": 14,
   "metadata": {
    "colab": {
     "base_uri": "https://localhost:8080/"
    },
    "id": "H9UFTq4GJME5",
    "outputId": "f85bd407-2e06-4416-f0da-4a62dbebc92c"
   },
   "outputs": [
    {
     "name": "stdout",
     "output_type": "stream",
     "text": [
      "['WATCH: 100 protesters show up at home of man whose racist rant at neighbor '\n",
      " 'went viral',\n",
      " 'Kinzinger says he suspects some lawmakers knew what was going to happen on '\n",
      " 'Jan. 6']\n"
     ]
    }
   ],
   "source": [
    "# Convert to list\n",
    "data = df.text.values.tolist()\n",
    "\n",
    "# Remove new line characters\n",
    "data = [re.sub('\\s+', ' ', sent) for sent in data]\n",
    "\n",
    "# Remove single quotes\n",
    "data = [re.sub(\"\\'\",\" \", sent) for sent in data]\n",
    "\n",
    "pprint(data[:2])"
   ]
  },
  {
   "cell_type": "markdown",
   "metadata": {
    "id": "GMWsrdMYJME6"
   },
   "source": [
    "<div class=\"alert alert-info\" style=\"background-color:#5d3a8e; color:white; padding:0px 10px; border-radius:5px;\"><h2 style='margin:10px 5px'> Tokenize words and Clean-up text </h2>\n",
    "</div>\n",
    "\n",
    "Tokenize each sentence into a list of words, removing punctuations and unneccessary characters.\n",
    "\n",
    "Using Gensim's `simple_preprocess()` and `deacc=True` to remove the punctuations."
   ]
  },
  {
   "cell_type": "code",
   "execution_count": 15,
   "metadata": {
    "colab": {
     "base_uri": "https://localhost:8080/",
     "height": 212
    },
    "id": "hEawaeOJJME6",
    "outputId": "932f8566-a89c-4c10-a074-1f1fec6840e9"
   },
   "outputs": [
    {
     "name": "stdout",
     "output_type": "stream",
     "text": [
      "[['watch', 'protesters', 'show', 'up', 'at', 'home', 'of', 'man', 'whose', 'racist', 'rant', 'at', 'neighbor', 'went', 'viral']]\n"
     ]
    }
   ],
   "source": [
    "def sent_to_words(sentences):\n",
    "    for sentence in sentences:\n",
    "        yield(gensim.utils.simple_preprocess(str(sentence).encode('utf-8'), deacc=True))  # deacc=True removes punctuations\n",
    "\n",
    "data_words = list(sent_to_words(data))\n",
    "print(data_words[:1])\n"
   ]
  },
  {
   "cell_type": "markdown",
   "metadata": {
    "id": "ZSg33gKvJME6"
   },
   "source": [
    "<div class=\"alert alert-info\" style=\"background-color:#5d3a8e; color:white; padding:0px 10px; border-radius:5px;\"><h2 style='margin:10px 5px'> Create Bigram and Trigram Models</h2>\n",
    "</div>\n"
   ]
  },
  {
   "cell_type": "code",
   "execution_count": 16,
   "metadata": {
    "id": "yrwK3tkBJME7",
    "scrolled": true
   },
   "outputs": [
    {
     "name": "stdout",
     "output_type": "stream",
     "text": [
      "['watch', 'protesters', 'show', 'up', 'at', 'home', 'of', 'man', 'whose', 'racist', 'rant', 'at', 'neighbor', 'went_viral']\n"
     ]
    }
   ],
   "source": [
    "# Build the bigram and trigram models\n",
    "bigram = gensim.models.Phrases(data_words, min_count=5, threshold=100) # higher threshold fewer phrases.\n",
    "trigram = gensim.models.Phrases(bigram[data_words], threshold=100)  \n",
    "\n",
    "# Parser for sentences\n",
    "bigram_mod = gensim.models.phrases.Phraser(bigram)\n",
    "trigram_mod = gensim.models.phrases.Phraser(trigram)\n",
    "\n",
    "# See trigram example\n",
    "print(trigram_mod[bigram_mod[data_words[0]]])"
   ]
  },
  {
   "cell_type": "markdown",
   "metadata": {
    "id": "mSKmvrrMJME7"
   },
   "source": [
    "<div class=\"alert alert-info\" style=\"background-color:#5d3a8e; color:white; padding:0px 10px; border-radius:5px;\"><h2 style='margin:10px 5px'> Remove Stopwords, Make Bigrams and Lemmatize</h2>\n",
    "</div>\n",
    "\n",
    "\n",
    "Remove the stopwords, make bigrams and lemmatization and call them sequentially. Spacy!"
   ]
  },
  {
   "cell_type": "code",
   "execution_count": 17,
   "metadata": {
    "id": "pIAmYQLkJME7"
   },
   "outputs": [],
   "source": [
    "# Define functions for stopwords, bigrams, trigrams and lemmatization\n",
    "def remove_stopwords(texts):\n",
    "    return [[word for word in simple_preprocess(str(doc)) if word not in stop_words] for doc in texts]\n",
    "\n",
    "def make_bigrams(texts):\n",
    "    return [bigram_mod[doc] for doc in texts]\n",
    "\n",
    "def make_trigrams(texts):\n",
    "    return [trigram_mod[bigram_mod[doc]] for doc in texts]\n",
    "\n",
    "def lemmatization(texts, allowed_postags=['NOUN', 'ADJ', 'VERB', 'ADV']):\n",
    "    \"\"\"https://spacy.io/api/annotation\"\"\"\n",
    "    texts_out = []\n",
    "    for sent in texts:\n",
    "        doc = nlp(\" \".join(sent)) \n",
    "        texts_out.append([token.lemma_ for token in doc if token.pos_ in allowed_postags])\n",
    "    return texts_out"
   ]
  },
  {
   "cell_type": "code",
   "execution_count": 18,
   "metadata": {},
   "outputs": [
    {
     "name": "stdout",
     "output_type": "stream",
     "text": [
      "Collecting https://github.com/explosion/spacy-models/releases/download/en_core_web_sm-2.2.0/en_core_web_sm-2.2.0.tar.gz\n",
      "  Downloading https://github.com/explosion/spacy-models/releases/download/en_core_web_sm-2.2.0/en_core_web_sm-2.2.0.tar.gz (12.0 MB)\n",
      "\u001b[K     |████████████████████████████████| 12.0 MB 3.3 MB/s eta 0:00:01\n",
      "\u001b[?25hRequirement already satisfied: spacy>=2.2.0 in /Users/a206679878/opt/anaconda3/lib/python3.8/site-packages (from en-core-web-sm==2.2.0) (2.3.5)\n",
      "Requirement already satisfied: blis<0.8.0,>=0.4.0 in /Users/a206679878/opt/anaconda3/lib/python3.8/site-packages (from spacy>=2.2.0->en-core-web-sm==2.2.0) (0.7.4)\n",
      "Requirement already satisfied: requests<3.0.0,>=2.13.0 in /Users/a206679878/opt/anaconda3/lib/python3.8/site-packages (from spacy>=2.2.0->en-core-web-sm==2.2.0) (2.24.0)\n",
      "Requirement already satisfied: wasabi<1.1.0,>=0.4.0 in /Users/a206679878/opt/anaconda3/lib/python3.8/site-packages (from spacy>=2.2.0->en-core-web-sm==2.2.0) (0.8.2)\n",
      "Requirement already satisfied: srsly<1.1.0,>=1.0.2 in /Users/a206679878/opt/anaconda3/lib/python3.8/site-packages (from spacy>=2.2.0->en-core-web-sm==2.2.0) (1.0.5)\n",
      "Requirement already satisfied: tqdm<5.0.0,>=4.38.0 in /Users/a206679878/opt/anaconda3/lib/python3.8/site-packages (from spacy>=2.2.0->en-core-web-sm==2.2.0) (4.50.2)\n",
      "Requirement already satisfied: preshed<3.1.0,>=3.0.2 in /Users/a206679878/opt/anaconda3/lib/python3.8/site-packages (from spacy>=2.2.0->en-core-web-sm==2.2.0) (3.0.5)\n",
      "Requirement already satisfied: numpy>=1.15.0 in /Users/a206679878/opt/anaconda3/lib/python3.8/site-packages (from spacy>=2.2.0->en-core-web-sm==2.2.0) (1.21.0)\n",
      "Requirement already satisfied: plac<1.2.0,>=0.9.6 in /Users/a206679878/opt/anaconda3/lib/python3.8/site-packages (from spacy>=2.2.0->en-core-web-sm==2.2.0) (1.1.3)\n",
      "Requirement already satisfied: thinc<7.5.0,>=7.4.1 in /Users/a206679878/opt/anaconda3/lib/python3.8/site-packages (from spacy>=2.2.0->en-core-web-sm==2.2.0) (7.4.5)\n",
      "Requirement already satisfied: catalogue<1.1.0,>=0.0.7 in /Users/a206679878/opt/anaconda3/lib/python3.8/site-packages (from spacy>=2.2.0->en-core-web-sm==2.2.0) (1.0.0)\n",
      "Requirement already satisfied: setuptools in /Users/a206679878/opt/anaconda3/lib/python3.8/site-packages (from spacy>=2.2.0->en-core-web-sm==2.2.0) (50.3.1.post20201107)\n",
      "Requirement already satisfied: murmurhash<1.1.0,>=0.28.0 in /Users/a206679878/opt/anaconda3/lib/python3.8/site-packages (from spacy>=2.2.0->en-core-web-sm==2.2.0) (1.0.5)\n",
      "Requirement already satisfied: cymem<2.1.0,>=2.0.2 in /Users/a206679878/opt/anaconda3/lib/python3.8/site-packages (from spacy>=2.2.0->en-core-web-sm==2.2.0) (2.0.5)\n",
      "Requirement already satisfied: chardet<4,>=3.0.2 in /Users/a206679878/opt/anaconda3/lib/python3.8/site-packages (from requests<3.0.0,>=2.13.0->spacy>=2.2.0->en-core-web-sm==2.2.0) (3.0.4)\n",
      "Requirement already satisfied: idna<3,>=2.5 in /Users/a206679878/opt/anaconda3/lib/python3.8/site-packages (from requests<3.0.0,>=2.13.0->spacy>=2.2.0->en-core-web-sm==2.2.0) (2.10)\n",
      "Requirement already satisfied: urllib3!=1.25.0,!=1.25.1,<1.26,>=1.21.1 in /Users/a206679878/opt/anaconda3/lib/python3.8/site-packages (from requests<3.0.0,>=2.13.0->spacy>=2.2.0->en-core-web-sm==2.2.0) (1.25.11)\n",
      "Requirement already satisfied: certifi>=2017.4.17 in /Users/a206679878/opt/anaconda3/lib/python3.8/site-packages (from requests<3.0.0,>=2.13.0->spacy>=2.2.0->en-core-web-sm==2.2.0) (2020.6.20)\n",
      "Building wheels for collected packages: en-core-web-sm\n",
      "  Building wheel for en-core-web-sm (setup.py) ... \u001b[?25ldone\n",
      "\u001b[?25h  Created wheel for en-core-web-sm: filename=en_core_web_sm-2.2.0-py3-none-any.whl size=12019122 sha256=0501e14727038c595e222702e791b1af40eb2df9d819712069d35336cd11c0aa\n",
      "  Stored in directory: /Users/a206679878/Library/Caches/pip/wheels/fc/31/e9/092e6f05b2817c9cb45804a3d1bf2b9bf6575742c01819337c\n",
      "Successfully built en-core-web-sm\n",
      "Installing collected packages: en-core-web-sm\n",
      "  Attempting uninstall: en-core-web-sm\n",
      "    Found existing installation: en-core-web-sm 2.3.1\n",
      "    Uninstalling en-core-web-sm-2.3.1:\n",
      "      Successfully uninstalled en-core-web-sm-2.3.1\n",
      "Successfully installed en-core-web-sm-2.2.0\n"
     ]
    }
   ],
   "source": [
    "import sys\n",
    "!{sys.executable} -m pip install https://github.com/explosion/spacy-models/releases/download/en_core_web_sm-2.2.0/en_core_web_sm-2.2.0.tar.gz"
   ]
  },
  {
   "cell_type": "code",
   "execution_count": 19,
   "metadata": {},
   "outputs": [
    {
     "name": "stdout",
     "output_type": "stream",
     "text": [
      "Requirement already satisfied: spacy==2.3.5 in /Users/a206679878/opt/anaconda3/lib/python3.8/site-packages (2.3.5)\n",
      "Requirement already satisfied: preshed<3.1.0,>=3.0.2 in /Users/a206679878/opt/anaconda3/lib/python3.8/site-packages (from spacy==2.3.5) (3.0.5)\n",
      "Requirement already satisfied: catalogue<1.1.0,>=0.0.7 in /Users/a206679878/opt/anaconda3/lib/python3.8/site-packages (from spacy==2.3.5) (1.0.0)\n",
      "Requirement already satisfied: tqdm<5.0.0,>=4.38.0 in /Users/a206679878/opt/anaconda3/lib/python3.8/site-packages (from spacy==2.3.5) (4.50.2)\n",
      "Requirement already satisfied: thinc<7.5.0,>=7.4.1 in /Users/a206679878/opt/anaconda3/lib/python3.8/site-packages (from spacy==2.3.5) (7.4.5)\n",
      "Requirement already satisfied: numpy>=1.15.0 in /Users/a206679878/opt/anaconda3/lib/python3.8/site-packages (from spacy==2.3.5) (1.21.0)\n",
      "Requirement already satisfied: murmurhash<1.1.0,>=0.28.0 in /Users/a206679878/opt/anaconda3/lib/python3.8/site-packages (from spacy==2.3.5) (1.0.5)\n",
      "Requirement already satisfied: srsly<1.1.0,>=1.0.2 in /Users/a206679878/opt/anaconda3/lib/python3.8/site-packages (from spacy==2.3.5) (1.0.5)\n",
      "Requirement already satisfied: setuptools in /Users/a206679878/opt/anaconda3/lib/python3.8/site-packages (from spacy==2.3.5) (50.3.1.post20201107)\n",
      "Requirement already satisfied: wasabi<1.1.0,>=0.4.0 in /Users/a206679878/opt/anaconda3/lib/python3.8/site-packages (from spacy==2.3.5) (0.8.2)\n",
      "Requirement already satisfied: plac<1.2.0,>=0.9.6 in /Users/a206679878/opt/anaconda3/lib/python3.8/site-packages (from spacy==2.3.5) (1.1.3)\n",
      "Requirement already satisfied: blis<0.8.0,>=0.4.0 in /Users/a206679878/opt/anaconda3/lib/python3.8/site-packages (from spacy==2.3.5) (0.7.4)\n",
      "Requirement already satisfied: requests<3.0.0,>=2.13.0 in /Users/a206679878/opt/anaconda3/lib/python3.8/site-packages (from spacy==2.3.5) (2.24.0)\n",
      "Requirement already satisfied: cymem<2.1.0,>=2.0.2 in /Users/a206679878/opt/anaconda3/lib/python3.8/site-packages (from spacy==2.3.5) (2.0.5)\n",
      "Requirement already satisfied: idna<3,>=2.5 in /Users/a206679878/opt/anaconda3/lib/python3.8/site-packages (from requests<3.0.0,>=2.13.0->spacy==2.3.5) (2.10)\n",
      "Requirement already satisfied: urllib3!=1.25.0,!=1.25.1,<1.26,>=1.21.1 in /Users/a206679878/opt/anaconda3/lib/python3.8/site-packages (from requests<3.0.0,>=2.13.0->spacy==2.3.5) (1.25.11)\n",
      "Requirement already satisfied: chardet<4,>=3.0.2 in /Users/a206679878/opt/anaconda3/lib/python3.8/site-packages (from requests<3.0.0,>=2.13.0->spacy==2.3.5) (3.0.4)\n",
      "Requirement already satisfied: certifi>=2017.4.17 in /Users/a206679878/opt/anaconda3/lib/python3.8/site-packages (from requests<3.0.0,>=2.13.0->spacy==2.3.5) (2020.6.20)\n",
      "Collecting https://github.com/explosion/spacy-models/releases/download/en_core_web_sm-2.3.1/en_core_web_sm-2.3.1.tar.gz\n",
      "  Downloading https://github.com/explosion/spacy-models/releases/download/en_core_web_sm-2.3.1/en_core_web_sm-2.3.1.tar.gz (12.0 MB)\n",
      "\u001b[K     |████████████████████████████████| 12.0 MB 2.5 MB/s eta 0:00:01    |██████████████                  | 5.2 MB 8.1 MB/s eta 0:00:01\n",
      "\u001b[?25hRequirement already satisfied: spacy<2.4.0,>=2.3.0 in /Users/a206679878/opt/anaconda3/lib/python3.8/site-packages (from en-core-web-sm==2.3.1) (2.3.5)\n",
      "Requirement already satisfied: plac<1.2.0,>=0.9.6 in /Users/a206679878/opt/anaconda3/lib/python3.8/site-packages (from spacy<2.4.0,>=2.3.0->en-core-web-sm==2.3.1) (1.1.3)\n",
      "Requirement already satisfied: srsly<1.1.0,>=1.0.2 in /Users/a206679878/opt/anaconda3/lib/python3.8/site-packages (from spacy<2.4.0,>=2.3.0->en-core-web-sm==2.3.1) (1.0.5)\n",
      "Requirement already satisfied: numpy>=1.15.0 in /Users/a206679878/opt/anaconda3/lib/python3.8/site-packages (from spacy<2.4.0,>=2.3.0->en-core-web-sm==2.3.1) (1.21.0)\n",
      "Requirement already satisfied: wasabi<1.1.0,>=0.4.0 in /Users/a206679878/opt/anaconda3/lib/python3.8/site-packages (from spacy<2.4.0,>=2.3.0->en-core-web-sm==2.3.1) (0.8.2)\n",
      "Requirement already satisfied: requests<3.0.0,>=2.13.0 in /Users/a206679878/opt/anaconda3/lib/python3.8/site-packages (from spacy<2.4.0,>=2.3.0->en-core-web-sm==2.3.1) (2.24.0)\n",
      "Requirement already satisfied: cymem<2.1.0,>=2.0.2 in /Users/a206679878/opt/anaconda3/lib/python3.8/site-packages (from spacy<2.4.0,>=2.3.0->en-core-web-sm==2.3.1) (2.0.5)\n",
      "Requirement already satisfied: blis<0.8.0,>=0.4.0 in /Users/a206679878/opt/anaconda3/lib/python3.8/site-packages (from spacy<2.4.0,>=2.3.0->en-core-web-sm==2.3.1) (0.7.4)\n",
      "Requirement already satisfied: tqdm<5.0.0,>=4.38.0 in /Users/a206679878/opt/anaconda3/lib/python3.8/site-packages (from spacy<2.4.0,>=2.3.0->en-core-web-sm==2.3.1) (4.50.2)\n",
      "Requirement already satisfied: catalogue<1.1.0,>=0.0.7 in /Users/a206679878/opt/anaconda3/lib/python3.8/site-packages (from spacy<2.4.0,>=2.3.0->en-core-web-sm==2.3.1) (1.0.0)\n",
      "Requirement already satisfied: preshed<3.1.0,>=3.0.2 in /Users/a206679878/opt/anaconda3/lib/python3.8/site-packages (from spacy<2.4.0,>=2.3.0->en-core-web-sm==2.3.1) (3.0.5)\n",
      "Requirement already satisfied: murmurhash<1.1.0,>=0.28.0 in /Users/a206679878/opt/anaconda3/lib/python3.8/site-packages (from spacy<2.4.0,>=2.3.0->en-core-web-sm==2.3.1) (1.0.5)\n",
      "Requirement already satisfied: thinc<7.5.0,>=7.4.1 in /Users/a206679878/opt/anaconda3/lib/python3.8/site-packages (from spacy<2.4.0,>=2.3.0->en-core-web-sm==2.3.1) (7.4.5)\n",
      "Requirement already satisfied: setuptools in /Users/a206679878/opt/anaconda3/lib/python3.8/site-packages (from spacy<2.4.0,>=2.3.0->en-core-web-sm==2.3.1) (50.3.1.post20201107)\n",
      "Requirement already satisfied: idna<3,>=2.5 in /Users/a206679878/opt/anaconda3/lib/python3.8/site-packages (from requests<3.0.0,>=2.13.0->spacy<2.4.0,>=2.3.0->en-core-web-sm==2.3.1) (2.10)\n",
      "Requirement already satisfied: chardet<4,>=3.0.2 in /Users/a206679878/opt/anaconda3/lib/python3.8/site-packages (from requests<3.0.0,>=2.13.0->spacy<2.4.0,>=2.3.0->en-core-web-sm==2.3.1) (3.0.4)\n",
      "Requirement already satisfied: urllib3!=1.25.0,!=1.25.1,<1.26,>=1.21.1 in /Users/a206679878/opt/anaconda3/lib/python3.8/site-packages (from requests<3.0.0,>=2.13.0->spacy<2.4.0,>=2.3.0->en-core-web-sm==2.3.1) (1.25.11)\n",
      "Requirement already satisfied: certifi>=2017.4.17 in /Users/a206679878/opt/anaconda3/lib/python3.8/site-packages (from requests<3.0.0,>=2.13.0->spacy<2.4.0,>=2.3.0->en-core-web-sm==2.3.1) (2020.6.20)\n",
      "Building wheels for collected packages: en-core-web-sm\n",
      "  Building wheel for en-core-web-sm (setup.py) ... \u001b[?25ldone\n",
      "\u001b[?25h  Created wheel for en-core-web-sm: filename=en_core_web_sm-2.3.1-py3-none-any.whl size=12047106 sha256=f498ed194b92424e5d910d27ccb5ef2def6ed3b0b32451fbb41ea358c879b3bb\n",
      "  Stored in directory: /Users/a206679878/Library/Caches/pip/wheels/ee/4d/f7/563214122be1540b5f9197b52cb3ddb9c4a8070808b22d5a84\n",
      "Successfully built en-core-web-sm\n",
      "Installing collected packages: en-core-web-sm\n",
      "  Attempting uninstall: en-core-web-sm\n",
      "    Found existing installation: en-core-web-sm 2.2.0\n",
      "    Uninstalling en-core-web-sm-2.2.0:\n",
      "      Successfully uninstalled en-core-web-sm-2.2.0\n",
      "Successfully installed en-core-web-sm-2.3.1\n",
      "Requirement already satisfied: pyresparser in /Users/a206679878/opt/anaconda3/lib/python3.8/site-packages (1.0.6)\n",
      "Requirement already satisfied: pdfminer.six>=20181108 in /Users/a206679878/opt/anaconda3/lib/python3.8/site-packages (from pyresparser) (20201018)\n",
      "Requirement already satisfied: pycryptodome>=3.8.2 in /Users/a206679878/opt/anaconda3/lib/python3.8/site-packages (from pyresparser) (3.10.1)\n",
      "Requirement already satisfied: cymem>=2.0.2 in /Users/a206679878/opt/anaconda3/lib/python3.8/site-packages (from pyresparser) (2.0.5)\n",
      "Requirement already satisfied: pyrsistent>=0.15.2 in /Users/a206679878/opt/anaconda3/lib/python3.8/site-packages (from pyresparser) (0.17.3)\n",
      "Requirement already satisfied: preshed>=2.0.1 in /Users/a206679878/opt/anaconda3/lib/python3.8/site-packages (from pyresparser) (3.0.5)\n",
      "Requirement already satisfied: numpy>=1.16.4 in /Users/a206679878/opt/anaconda3/lib/python3.8/site-packages (from pyresparser) (1.21.0)\n",
      "Requirement already satisfied: thinc>=7.0.4 in /Users/a206679878/opt/anaconda3/lib/python3.8/site-packages (from pyresparser) (7.4.5)\n",
      "Requirement already satisfied: attrs>=19.1.0 in /Users/a206679878/opt/anaconda3/lib/python3.8/site-packages (from pyresparser) (20.3.0)\n"
     ]
    },
    {
     "name": "stdout",
     "output_type": "stream",
     "text": [
      "Requirement already satisfied: six>=1.12.0 in /Users/a206679878/opt/anaconda3/lib/python3.8/site-packages (from pyresparser) (1.15.0)\n",
      "Requirement already satisfied: blis>=0.2.4 in /Users/a206679878/opt/anaconda3/lib/python3.8/site-packages (from pyresparser) (0.7.4)\n",
      "Requirement already satisfied: python-dateutil>=2.8.0 in /Users/a206679878/opt/anaconda3/lib/python3.8/site-packages (from pyresparser) (2.8.1)\n",
      "Requirement already satisfied: wasabi>=0.2.2 in /Users/a206679878/opt/anaconda3/lib/python3.8/site-packages (from pyresparser) (0.8.2)\n",
      "Requirement already satisfied: pytz>=2019.1 in /Users/a206679878/opt/anaconda3/lib/python3.8/site-packages (from pyresparser) (2020.1)\n",
      "Requirement already satisfied: tqdm>=4.32.2 in /Users/a206679878/opt/anaconda3/lib/python3.8/site-packages (from pyresparser) (4.50.2)\n",
      "Requirement already satisfied: sortedcontainers>=2.1.0 in /Users/a206679878/opt/anaconda3/lib/python3.8/site-packages (from pyresparser) (2.2.2)\n",
      "Requirement already satisfied: requests>=2.22.0 in /Users/a206679878/opt/anaconda3/lib/python3.8/site-packages (from pyresparser) (2.24.0)\n",
      "Requirement already satisfied: jsonschema>=3.0.1 in /Users/a206679878/opt/anaconda3/lib/python3.8/site-packages (from pyresparser) (3.2.0)\n",
      "Requirement already satisfied: nltk>=3.4.3 in /Users/a206679878/opt/anaconda3/lib/python3.8/site-packages (from pyresparser) (3.5)\n",
      "Requirement already satisfied: idna>=2.8 in /Users/a206679878/opt/anaconda3/lib/python3.8/site-packages (from pyresparser) (2.10)\n",
      "Requirement already satisfied: srsly>=0.0.7 in /Users/a206679878/opt/anaconda3/lib/python3.8/site-packages (from pyresparser) (1.0.5)\n",
      "Requirement already satisfied: spacy>=2.1.4 in /Users/a206679878/opt/anaconda3/lib/python3.8/site-packages (from pyresparser) (2.3.5)\n",
      "Requirement already satisfied: urllib3>=1.25.3 in /Users/a206679878/opt/anaconda3/lib/python3.8/site-packages (from pyresparser) (1.25.11)\n",
      "Requirement already satisfied: chardet>=3.0.4 in /Users/a206679878/opt/anaconda3/lib/python3.8/site-packages (from pyresparser) (3.0.4)\n",
      "Requirement already satisfied: certifi>=2019.6.16 in /Users/a206679878/opt/anaconda3/lib/python3.8/site-packages (from pyresparser) (2020.6.20)\n",
      "Requirement already satisfied: pandas>=0.24.2 in /Users/a206679878/opt/anaconda3/lib/python3.8/site-packages (from pyresparser) (1.2.5)\n",
      "Requirement already satisfied: docx2txt>=0.7 in /Users/a206679878/opt/anaconda3/lib/python3.8/site-packages (from pyresparser) (0.8)\n",
      "Requirement already satisfied: cryptography in /Users/a206679878/opt/anaconda3/lib/python3.8/site-packages (from pdfminer.six>=20181108->pyresparser) (3.1.1)\n",
      "Requirement already satisfied: murmurhash<1.1.0,>=0.28.0 in /Users/a206679878/opt/anaconda3/lib/python3.8/site-packages (from preshed>=2.0.1->pyresparser) (1.0.5)\n",
      "Requirement already satisfied: catalogue<1.1.0,>=0.0.7 in /Users/a206679878/opt/anaconda3/lib/python3.8/site-packages (from thinc>=7.0.4->pyresparser) (1.0.0)\n",
      "Requirement already satisfied: plac<1.2.0,>=0.9.6 in /Users/a206679878/opt/anaconda3/lib/python3.8/site-packages (from thinc>=7.0.4->pyresparser) (1.1.3)\n",
      "Requirement already satisfied: setuptools in /Users/a206679878/opt/anaconda3/lib/python3.8/site-packages (from jsonschema>=3.0.1->pyresparser) (50.3.1.post20201107)\n",
      "Requirement already satisfied: regex in /Users/a206679878/opt/anaconda3/lib/python3.8/site-packages (from nltk>=3.4.3->pyresparser) (2020.10.15)\n",
      "Requirement already satisfied: click in /Users/a206679878/opt/anaconda3/lib/python3.8/site-packages (from nltk>=3.4.3->pyresparser) (7.1.2)\n",
      "Requirement already satisfied: joblib in /Users/a206679878/opt/anaconda3/lib/python3.8/site-packages (from nltk>=3.4.3->pyresparser) (0.17.0)\n",
      "Requirement already satisfied: cffi!=1.11.3,>=1.8 in /Users/a206679878/opt/anaconda3/lib/python3.8/site-packages (from cryptography->pdfminer.six>=20181108->pyresparser) (1.14.3)\n",
      "Requirement already satisfied: pycparser in /Users/a206679878/opt/anaconda3/lib/python3.8/site-packages (from cffi!=1.11.3,>=1.8->cryptography->pdfminer.six>=20181108->pyresparser) (2.20)\n"
     ]
    }
   ],
   "source": [
    "import sys\n",
    "!{sys.executable} -m pip install spacy==2.3.5\n",
    "\n",
    "!{sys.executable} -m pip install https://github.com/explosion/spacy-models/releases/download/en_core_web_sm-2.3.1/en_core_web_sm-2.3.1.tar.gz\n",
    "\n",
    "!{sys.executable} -m pip install pyresparser"
   ]
  },
  {
   "cell_type": "code",
   "execution_count": 20,
   "metadata": {
    "id": "MGC-N8_EJME7"
   },
   "outputs": [
    {
     "name": "stdout",
     "output_type": "stream",
     "text": [
      "[['protester', 'show', 'home', 'man', 'racist', 'rant', 'neighbor']]\n"
     ]
    }
   ],
   "source": [
    "# Remove Stop Words\n",
    "data_words_nostops = remove_stopwords(data_words)\n",
    "\n",
    "# Form Bigrams\n",
    "data_words_bigrams = make_bigrams(data_words_nostops)\n",
    "\n",
    "# Initialize spacy 'en' model, keeping only tagger component (for efficiency)\n",
    "# python3 -m spacy download en\n",
    "nlp = spacy.load('en_core_web_sm', disable=['parser', 'ner'])\n",
    "\n",
    "# Do lemmatization keeping only noun, adj, vb, adv\n",
    "data_lemmatized = lemmatization(data_words_bigrams, allowed_postags=['NOUN', 'ADJ', 'VERB', 'ADV'])\n",
    "\n",
    "print(data_lemmatized[:1])"
   ]
  },
  {
   "cell_type": "markdown",
   "metadata": {
    "id": "R7uMrXUpJME8"
   },
   "source": [
    "<div class=\"alert alert-info\" style=\"background-color:#5d3a8e; color:white; padding:0px 10px; border-radius:5px;\"><h2 style='margin:10px 5px'> Use id2word to create the Dictionary and Corpus</h2>\n",
    "</div>"
   ]
  },
  {
   "cell_type": "code",
   "execution_count": 21,
   "metadata": {
    "id": "DqlOgG27JME8"
   },
   "outputs": [
    {
     "name": "stdout",
     "output_type": "stream",
     "text": [
      "[[(0, 1), (1, 1), (2, 1), (3, 1), (4, 1), (5, 1), (6, 1)]]\n"
     ]
    }
   ],
   "source": [
    "# Create Dictionary\n",
    "id2word = corpora.Dictionary(data_lemmatized)\n",
    "\n",
    "# Create Corpus\n",
    "texts = data_lemmatized\n",
    "\n",
    "# Term Document Frequency\n",
    "corpus = [id2word.doc2bow(text) for text in texts]\n",
    "\n",
    "# View\n",
    "print(corpus[:1])"
   ]
  },
  {
   "cell_type": "markdown",
   "metadata": {
    "id": "LjFNNXzAJME9"
   },
   "source": [
    "(0, 1) above implies, word id 0 occurs once in the first document. "
   ]
  },
  {
   "cell_type": "markdown",
   "metadata": {
    "id": "vl0gK6hEJME-"
   },
   "source": [
    "Pass the id as a key to the dictionary."
   ]
  },
  {
   "cell_type": "code",
   "execution_count": 22,
   "metadata": {
    "id": "RLtyx0RpJME-",
    "scrolled": true
   },
   "outputs": [
    {
     "data": {
      "text/plain": [
       "'home'"
      ]
     },
     "execution_count": 22,
     "metadata": {},
     "output_type": "execute_result"
    }
   ],
   "source": [
    "id2word[0]"
   ]
  },
  {
   "cell_type": "code",
   "execution_count": 23,
   "metadata": {
    "id": "02ezXeDuJME_"
   },
   "outputs": [
    {
     "data": {
      "text/plain": [
       "[(0, 1), (1, 1), (2, 1), (3, 1), (4, 1), (5, 1), (6, 1)]"
      ]
     },
     "execution_count": 23,
     "metadata": {},
     "output_type": "execute_result"
    }
   ],
   "source": [
    "corpus[:1][0][:10]"
   ]
  },
  {
   "cell_type": "code",
   "execution_count": 24,
   "metadata": {
    "id": "U6ZzD5UiJME_",
    "scrolled": true
   },
   "outputs": [
    {
     "data": {
      "text/plain": [
       "[[('home', 1),\n",
       "  ('man', 1),\n",
       "  ('neighbor', 1),\n",
       "  ('protester', 1),\n",
       "  ('racist', 1),\n",
       "  ('rant', 1),\n",
       "  ('show', 1)]]"
      ]
     },
     "execution_count": 24,
     "metadata": {},
     "output_type": "execute_result"
    }
   ],
   "source": [
    "# Human readable format of corpus (term-frequency)\n",
    "[[(id2word[id], freq) for id, freq in cp] for cp in corpus[:1]]"
   ]
  },
  {
   "cell_type": "markdown",
   "metadata": {
    "id": "DAuJo71iJMFA"
   },
   "source": [
    "<div class=\"alert alert-info\" style=\"background-color:#5d3a8e; color:white; padding:0px 10px; border-radius:5px;\"><h2 style='margin:10px 5px'> Building the Topic Model</h2>\n",
    "</div>"
   ]
  },
  {
   "cell_type": "markdown",
   "metadata": {
    "id": "rJ0KiNu8JMFA"
   },
   "source": [
    "From the documentation `alpha` and `eta` are hyperparameters that affect sparsity of the topics. Both default to 1.0/num_topics prior.\n",
    "\n",
    "`chunksize` is the number of documents to be used in each training chunk.  `update_every` determines how often the model parameters should be updated and `passes` is the total number of training passes."
   ]
  },
  {
   "cell_type": "code",
   "execution_count": 25,
   "metadata": {
    "id": "VAPlP5krJMFA"
   },
   "outputs": [],
   "source": [
    "# Build LDA model\n",
    "lda_model = gensim.models.ldamodel.LdaModel(corpus=corpus,\n",
    "                                           id2word=id2word,\n",
    "                                           num_topics=20, \n",
    "                                           random_state=100,\n",
    "                                           update_every=1,\n",
    "                                           chunksize=100,\n",
    "                                           passes=10,\n",
    "                                           alpha='auto',\n",
    "                                           per_word_topics=True)"
   ]
  },
  {
   "cell_type": "markdown",
   "metadata": {
    "id": "YVvKis8MJMFA"
   },
   "source": [
    "<div class=\"alert alert-info\" style=\"background-color:#5d3a8e; color:white; padding:0px 10px; border-radius:5px;\"><h2 style='margin:10px 5px'> View the topics in LDA model</h2>\n",
    "</div>\n",
    "\n",
    "The above LDA model is built with 20 different topics where each topic is a combination of keywords and each keyword contributes a certain weightage to the topic.\n",
    "\n",
    "The keywords for each topic and the weightage(importance) of each keyword."
   ]
  },
  {
   "cell_type": "code",
   "execution_count": 26,
   "metadata": {
    "id": "_xrMa9_nJMFB"
   },
   "outputs": [
    {
     "name": "stdout",
     "output_type": "stream",
     "text": [
      "[(0,\n",
      "  '0.382*\"new\" + 0.093*\"join\" + 0.091*\"response\" + 0.073*\"worker\" + '\n",
      "  '0.068*\"set\" + 0.031*\"boy\" + 0.016*\"politic\" + 0.006*\"rescue\" + '\n",
      "  '0.000*\"state\" + 0.000*\"lead\"'),\n",
      " (1,\n",
      "  '0.137*\"people\" + 0.112*\"make\" + 0.104*\"face\" + 0.087*\"claim\" + '\n",
      "  '0.083*\"support\" + 0.080*\"could\" + 0.057*\"officer\" + 0.035*\"keep\" + '\n",
      "  '0.031*\"full\" + 0.029*\"suspend\"'),\n",
      " (2,\n",
      "  '0.197*\"raise\" + 0.119*\"arrest\" + 0.106*\"late\" + 0.100*\"concern\" + '\n",
      "  '0.092*\"turn\" + 0.002*\"alleged\" + 0.000*\"convention\" + 0.000*\"campaign\" + '\n",
      "  '0.000*\"federal\" + 0.000*\"democratic\"'),\n",
      " (3,\n",
      "  '0.370*\"back\" + 0.194*\"city\" + 0.099*\"watch\" + 0.000*\"reopen\" + '\n",
      "  '0.000*\"black_live\" + 0.000*\"paint\" + 0.000*\"federal\" + 0.000*\"hit\" + '\n",
      "  '0.000*\"tower\" + 0.000*\"leg\"'),\n",
      " (4,\n",
      "  '0.242*\"covid\" + 0.142*\"vote\" + 0.111*\"report\" + 0.077*\"honor\" + '\n",
      "  '0.050*\"vaccine\" + 0.049*\"way\" + 0.048*\"last\" + 0.039*\"month\" + '\n",
      "  '0.037*\"expert\" + 0.028*\"political\"'),\n",
      " (5,\n",
      "  '0.146*\"find\" + 0.082*\"couple\" + 0.079*\"send\" + 0.076*\"protect\" + '\n",
      "  '0.074*\"drop\" + 0.068*\"bad\" + 0.045*\"fine\" + 0.044*\"girl\" + 0.040*\"least\" + '\n",
      "  '0.039*\"act\"'),\n",
      " (6,\n",
      "  '0.142*\"black\" + 0.139*\"analysis\" + 0.122*\"charge\" + 0.096*\"become\" + '\n",
      "  '0.062*\"accuse\" + 0.047*\"history\" + 0.047*\"threat\" + 0.042*\"still\" + '\n",
      "  '0.034*\"year_old\" + 0.030*\"step\"'),\n",
      " (7,\n",
      "  '0.134*\"poll\" + 0.129*\"give\" + 0.115*\"see\" + 0.111*\"virus\" + 0.073*\"voting\" '\n",
      "  '+ 0.069*\"prosecutor\" + 0.032*\"seek\" + 0.031*\"violence\" + 0.027*\"evidence\" + '\n",
      "  '0.020*\"celebrate\"'),\n",
      " (8,\n",
      "  '0.197*\"opinion\" + 0.177*\"protester\" + 0.119*\"show\" + 0.091*\"use\" + '\n",
      "  '0.084*\"attack\" + 0.083*\"home\" + 0.050*\"racist\" + 0.014*\"launch\" + '\n",
      "  '0.000*\"federal\" + 0.000*\"portland\"'),\n",
      " (9,\n",
      "  '0.231*\"rule\" + 0.209*\"case\" + 0.102*\"require\" + 0.064*\"issue\" + '\n",
      "  '0.061*\"delay\" + 0.037*\"patient\" + 0.020*\"agency\" + 0.020*\"dozen\" + '\n",
      "  '0.019*\"criminal\" + 0.019*\"plead\"'),\n",
      " (10,\n",
      "  '0.113*\"child\" + 0.107*\"man\" + 0.105*\"come\" + 0.082*\"white\" + 0.073*\"try\" + '\n",
      "  '0.059*\"power\" + 0.050*\"remark\" + 0.034*\"female\" + 0.025*\"chinese\" + '\n",
      "  '0.018*\"story\"'),\n",
      " (11,\n",
      "  '0.140*\"former\" + 0.120*\"want\" + 0.107*\"tell\" + 0.063*\"speak\" + '\n",
      "  '0.054*\"handle\" + 0.046*\"test\" + 0.045*\"away\" + 0.041*\"right\" + 0.039*\"gun\" '\n",
      "  '+ 0.031*\"stay\"'),\n",
      " (12,\n",
      "  '0.099*\"big\" + 0.086*\"lie\" + 0.085*\"republican\" + 0.058*\"player\" + '\n",
      "  '0.054*\"throw\" + 0.049*\"strip\" + 0.046*\"team\" + 0.036*\"learn\" + 0.035*\"tie\" '\n",
      "  '+ 0.032*\"doctor\"'),\n",
      " (13,\n",
      "  '0.520*\"trump\" + 0.109*\"biden\" + 0.083*\"pandemic\" + 0.043*\"plan\" + '\n",
      "  '0.037*\"record\" + 0.027*\"job\" + 0.024*\"bill\" + 0.016*\"approve\" + '\n",
      "  '0.014*\"visit\" + 0.013*\"slam\"'),\n",
      " (14,\n",
      "  '0.744*\"say\" + 0.037*\"fire\" + 0.019*\"company\" + 0.016*\"oil\" + '\n",
      "  '0.013*\"responsible\" + 0.009*\"gas\" + 0.003*\"eye\" + 0.001*\"leak\" + '\n",
      "  '0.000*\"mask\" + 0.000*\"school\"'),\n",
      " (15,\n",
      "  '0.469*\"call\" + 0.167*\"official\" + 0.035*\"reject\" + 0.032*\"study\" + '\n",
      "  '0.022*\"provide\" + 0.015*\"protection\" + 0.011*\"strong\" + 0.011*\"ally\" + '\n",
      "  '0.000*\"mask\" + 0.000*\"woman\"'),\n",
      " (16,\n",
      "  '0.214*\"go\" + 0.107*\"know\" + 0.077*\"fail\" + 0.057*\"low\" + 0.049*\"body\" + '\n",
      "  '0.048*\"lawmaker\" + 0.040*\"place\" + 0.039*\"mile\" + 0.014*\"suspect\" + '\n",
      "  '0.011*\"happen\"'),\n",
      " (17,\n",
      "  '0.231*\"order\" + 0.203*\"student\" + 0.063*\"end\" + 0.058*\"offer\" + '\n",
      "  '0.048*\"attempt\" + 0.032*\"probe\" + 0.016*\"supreme_court\" + 0.000*\"college\" + '\n",
      "  '0.000*\"school\" + 0.000*\"close\"'),\n",
      " (18,\n",
      "  '0.263*\"first\" + 0.131*\"year\" + 0.124*\"time\" + 0.075*\"public\" + 0.063*\"pay\" '\n",
      "  '+ 0.056*\"return\" + 0.036*\"military\" + 0.034*\"open\" + 0.032*\"change\" + '\n",
      "  '0.025*\"free\"'),\n",
      " (19,\n",
      "  '0.340*\"day\" + 0.138*\"need\" + 0.119*\"break\" + 0.000*\"hour\" + '\n",
      "  '0.000*\"election\" + 0.000*\"death\" + 0.000*\"single\" + 0.000*\"leave\" + '\n",
      "  '0.000*\"coronavirus\" + 0.000*\"opening\"')]\n"
     ]
    }
   ],
   "source": [
    "# Print the Keyword in the 10 topics\n",
    "pprint(lda_model.print_topics())\n",
    "doc_lda = lda_model[corpus]"
   ]
  },
  {
   "cell_type": "markdown",
   "metadata": {
    "id": "y9ZOlWfRJMFB"
   },
   "source": [
    "Topic 0 is a represented as '0.382*\"new\" + 0.093*\"join\" + 0.091*\"response\" + 0.073*\"worker\" + '\n",
    "  '0.068*\"set\" + 0.031*\"boy\" + 0.016*\"politic\" + 0.006*\"rescue\" + '\n",
    "  '0.000*\"state\" + 0.000*\"lead\"'."
   ]
  },
  {
   "cell_type": "markdown",
   "metadata": {
    "id": "efQl15CYJMFB"
   },
   "source": [
    "<div class=\"alert alert-info\" style=\"background-color:#5d3a8e; color:white; padding:0px 10px; border-radius:5px;\"><h2 style='margin:10px 5px'> Compute Model Perplexity and Coherence Score</h2>\n",
    "</div>\n"
   ]
  },
  {
   "cell_type": "code",
   "execution_count": 27,
   "metadata": {
    "id": "wuud9M0VJMFC",
    "scrolled": true
   },
   "outputs": [
    {
     "name": "stdout",
     "output_type": "stream",
     "text": [
      "\n",
      "Perplexity:  -21.5281969692066\n",
      "\n",
      "Coherence Score:  0.4581361164158878\n"
     ]
    }
   ],
   "source": [
    "# Compute Perplexity\n",
    "print('\\nPerplexity: ', lda_model.log_perplexity(corpus))  # a measure of how good the model is.\n",
    "\n",
    "# Compute Coherence Score\n",
    "coherence_model_lda = CoherenceModel(model=lda_model, texts=data_lemmatized, dictionary=id2word, coherence='c_v')\n",
    "coherence_lda = coherence_model_lda.get_coherence()\n",
    "print('\\nCoherence Score: ', coherence_lda)"
   ]
  },
  {
   "cell_type": "markdown",
   "metadata": {
    "id": "UqNrGJbJJMFC"
   },
   "source": [
    "<div class=\"alert alert-info\" style=\"background-color:#5d3a8e; color:white; padding:0px 10px; border-radius:5px;\"><h2 style='margin:10px 5px'> Visualize the topics-keywords</h2>\n",
    "</div>\n",
    "Pulling in pyLDAvis interactive chart."
   ]
  },
  {
   "cell_type": "code",
   "execution_count": 28,
   "metadata": {
    "id": "VwiiQ6bEJMFD"
   },
   "outputs": [
    {
     "data": {
      "text/html": [
       "\n",
       "<link rel=\"stylesheet\" type=\"text/css\" href=\"https://cdn.jsdelivr.net/gh/bmabey/pyLDAvis@3.3.1/pyLDAvis/js/ldavis.v1.0.0.css\">\n",
       "\n",
       "\n",
       "<div id=\"ldavis_el176541404059900113927020288209\"></div>\n",
       "<script type=\"text/javascript\">\n",
       "\n",
       "var ldavis_el176541404059900113927020288209_data = {\"mdsDat\": {\"x\": [0.4274113155040989, 0.03948952743116043, 0.06442710056788815, 0.09405396743444867, 0.0390659600905163, 0.045449073301091984, -0.02627050278445839, 0.0015927102117455224, -0.027770343171267396, -0.04054939189382362, -0.056526048855742, -0.04979762154550341, -0.04172220503421808, -0.005698726439990262, -0.05736603927861148, -0.07546714708513218, -0.07959516485497989, -0.08830920333549905, -0.08574365944208856, -0.07667360081963506], \"y\": [0.1689912063206498, -0.04300139362832186, -0.11130272891987739, -0.3508524670232685, -0.04258258054711049, -0.05502460246391991, 0.02374316909126374, 0.004757454218761424, 0.024354939001971547, 0.029878403039582332, 0.035735984405418815, 0.03376327890892879, 0.030371294404342365, 0.010902881977319557, 0.03590903109191582, 0.04015192646274465, 0.0407453281335862, 0.04174017527539651, 0.041529521088006026, 0.040189179162610555], \"topics\": [1, 2, 3, 4, 5, 6, 7, 8, 9, 10, 11, 12, 13, 14, 15, 16, 17, 18, 19, 20], \"cluster\": [1, 1, 1, 1, 1, 1, 1, 1, 1, 1, 1, 1, 1, 1, 1, 1, 1, 1, 1, 1], \"Freq\": [19.52443314437361, 8.724583883695832, 7.714319885536801, 7.276659964861312, 6.582084043247393, 6.424237833301542, 4.494140759222637, 4.45430760304694, 4.443703583996737, 4.0549368173739655, 3.450280151138949, 3.445390383864589, 3.416338000059994, 3.3954508453567214, 2.8154957995594647, 2.750320944433056, 2.280516973315162, 1.8110701970548717, 1.733372590959965, 1.2083565956004556]}, \"tinfo\": {\"Term\": [\"trump\", \"say\", \"call\", \"covid\", \"first\", \"new\", \"biden\", \"vote\", \"opinion\", \"people\", \"rule\", \"pandemic\", \"year\", \"black\", \"day\", \"protester\", \"analysis\", \"case\", \"time\", \"report\", \"make\", \"official\", \"charge\", \"go\", \"face\", \"order\", \"back\", \"former\", \"poll\", \"give\", \"trump\", \"biden\", \"pandemic\", \"plan\", \"record\", \"job\", \"bill\", \"approve\", \"visit\", \"slam\", \"office\", \"remain\", \"miss\", \"border\", \"drug\", \"abortion\", \"damage\", \"add\", \"mask\", \"school\", \"coronavirus\", \"lead\", \"take\", \"state\", \"election\", \"woman\", \"campaign\", \"get\", \"reopen\", \"win\", \"ban\", \"covid\", \"vote\", \"report\", \"honor\", \"vaccine\", \"way\", \"last\", \"month\", \"expert\", \"political\", \"friend\", \"divide\", \"marriage\", \"disease\", \"mail\", \"mask\", \"death\", \"remove\", \"long\", \"allow\", \"ban\", \"coronavirus\", \"election\", \"state\", \"week\", \"life\", \"school\", \"reopen\", \"nearly\", \"voter\", \"take\", \"woman\", \"get\", \"die\", \"people\", \"make\", \"face\", \"claim\", \"support\", \"could\", \"officer\", \"keep\", \"full\", \"suspend\", \"resign\", \"criticism\", \"panel\", \"level\", \"weekend\", \"play\", \"request\", \"mask\", \"take\", \"federal\", \"wear\", \"false\", \"coronavirus\", \"paint\", \"president\", \"black_live\", \"refuse\", \"state\", \"speech\", \"environmental\", \"school\", \"woman\", \"voter\", \"get\", \"first\", \"year\", \"time\", \"public\", \"pay\", \"return\", \"military\", \"open\", \"change\", \"free\", \"major\", \"car\", \"worth\", \"school\", \"close\", \"policy\", \"woman\", \"state\", \"coronavirus\", \"mask\", \"share\", \"win\", \"work\", \"taxis\", \"national\", \"take\", \"flag\", \"far\", \"candace\", \"health\", \"confederate\", \"name\", \"country\", \"election\", \"death\", \"get\", \"wear\", \"say\", \"fire\", \"company\", \"oil\", \"responsible\", \"gas\", \"eye\", \"leak\", \"mask\", \"school\", \"state\", \"ban\", \"reopen\", \"get\", \"wear\", \"election\", \"spread\", \"leader\", \"photo\", \"customer\", \"mandate\", \"consider\", \"surge\", \"demand\", \"look\", \"president\", \"coronavirus\", \"threaten\", \"control\", \"may\", \"refuse\", \"country\", \"take\", \"federal\", \"woman\", \"help\", \"campaign\", \"lead\", \"black\", \"analysis\", \"charge\", \"become\", \"accuse\", \"history\", \"threat\", \"still\", \"year_old\", \"step\", \"member\", \"young\", \"huge\", \"teen\", \"agree\", \"trip\", \"black_live\", \"woman\", \"painting\", \"state\", \"felony\", \"warn\", \"policy\", \"shoot\", \"school\", \"take\", \"police\", \"country\", \"world\", \"get\", \"win\", \"mask\", \"coronavirus\", \"reopen\", \"former\", \"want\", \"tell\", \"speak\", \"handle\", \"test\", \"away\", \"right\", \"gun\", \"stay\", \"thing\", \"racism\", \"buy\", \"rip\", \"parent\", \"fed\", \"run\", \"crony\", \"professional\", \"corrupt\", \"brandish\", \"aim\", \"jeep\", \"voter\", \"seem\", \"choice\", \"hubble\", \"endorse\", \"spot\", \"bring\", \"stop\", \"week\", \"speech\", \"group\", \"die\", \"move\", \"campaign\", \"take\", \"police\", \"get\", \"help\", \"school\", \"coronavirus\", \"opinion\", \"protester\", \"show\", \"use\", \"attack\", \"home\", \"racist\", \"launch\", \"federal\", \"portland\", \"replace\", \"authority\", \"matter\", \"camouflage\", \"masked\", \"statue\", \"video\", \"attorney\", \"future\", \"investigation\", \"brandish\", \"gather\", \"agent\", \"felony\", \"pointed_gun\", \"nurse\", \"disaster\", \"postmaster_general\", \"sue\", \"unfold\", \"let\", \"force\", \"police\", \"campaign\", \"well\", \"fight\", \"result\", \"black_live\", \"coronavirus\", \"get\", \"death\", \"election\", \"school\", \"take\", \"state\", \"mask\", \"poll\", \"give\", \"see\", \"virus\", \"voting\", \"prosecutor\", \"seek\", \"violence\", \"evidence\", \"celebrate\", \"trial\", \"access\", \"address\", \"mail\", \"withdrawal\", \"notice\", \"formal\", \"lead\", \"lawsuit\", \"personal\", \"grant\", \"video\", \"emerge\", \"transmission\", \"airborne\", \"confirm\", \"percent\", \"blame\", \"option\", \"follow\", \"coronavirus\", \"take\", \"get\", \"voter\", \"surge\", \"school\", \"national\", \"woman\", \"state\", \"death\", \"call\", \"official\", \"reject\", \"study\", \"provide\", \"protection\", \"strong\", \"ally\", \"confederate\", \"emergency\", \"top\", \"symbol\", \"undermine\", \"police\", \"propose\", \"bizarre\", \"look\", \"racially\", \"biased\", \"unity\", \"illegal\", \"declare\", \"global\", \"wear\", \"court\", \"risk\", \"preserve\", \"urgent\", \"hard\", \"divisive\", \"taboo\", \"woman\", \"mask\", \"would\", \"health\", \"protest\", \"death\", \"school\", \"coronavirus\", \"state\", \"federal\", \"take\", \"child\", \"man\", \"come\", \"white\", \"try\", \"power\", \"remark\", \"female\", \"chinese\", \"story\", \"together\", \"reach\", \"study_find\", \"drive\", \"real\", \"care\", \"statewide\", \"much\", \"police\", \"pilot\", \"deal\", \"black_live\", \"nationalist\", \"wave\", \"dress\", \"toxic\", \"deliver\", \"paint\", \"catch\", \"twitter\", \"old\", \"large\", \"reopen\", \"election\", \"may\", \"school\", \"woman\", \"announce\", \"mask\", \"lead\", \"big\", \"lie\", \"republican\", \"player\", \"throw\", \"strip\", \"team\", \"learn\", \"tie\", \"doctor\", \"ahead\", \"enough\", \"almost\", \"oppose\", \"failure\", \"space\", \"safety\", \"performance\", \"credit\", \"title\", \"visa\", \"entirely\", \"coursework\", \"pitch\", \"online\", \"opening\", \"season\", \"national\", \"fumble\", \"convention\", \"name\", \"state\", \"fight\", \"new\", \"join\", \"response\", \"worker\", \"set\", \"boy\", \"politic\", \"rescue\", \"beret\", \"single\", \"nationwide\", \"host\", \"ad\", \"green\", \"special\", \"polling\", \"dog\", \"forge\", \"thanksgiving\", \"name\", \"jump\", \"force\", \"situation\", \"ask\", \"extend\", \"reveal\", \"far\", \"officially\", \"little\", \"industry\", \"really\", \"lead\", \"good\", \"state\", \"national\", \"woman\", \"campaign\", \"take\", \"protest\", \"mask\", \"win\", \"federal\", \"election\", \"rule\", \"case\", \"require\", \"issue\", \"delay\", \"patient\", \"agency\", \"dozen\", \"criminal\", \"plead\", \"airline\", \"building\", \"several\", \"medium\", \"unveil\", \"rioter\", \"guilty\", \"coronavirus\", \"customer\", \"surge\", \"sue\", \"visa\", \"rise\", \"federal\", \"election\", \"mask\", \"law\", \"coursework\", \"entirely\", \"block\", \"reopen\", \"state\", \"school\", \"find\", \"couple\", \"send\", \"protect\", \"drop\", \"bad\", \"fine\", \"girl\", \"least\", \"act\", \"restore\", \"ruling\", \"lobster\", \"brandish\", \"felony\", \"instead\", \"pointed_gun\", \"voting_right\", \"urgent\", \"economy\", \"felon\", \"adopt\", \"employee\", \"dog\", \"cook\", \"administration\", \"teach\", \"punishable\", \"pollution\", \"ignoring\", \"even\", \"mom\", \"percent\", \"federal\", \"name\", \"mask\", \"death\", \"school\", \"work\", \"get\", \"police\", \"online\", \"go\", \"know\", \"fail\", \"low\", \"body\", \"lawmaker\", \"place\", \"mile\", \"suspect\", \"happen\", \"rate\", \"vaccination\", \"camera\", \"incompetence\", \"decide\", \"kid\", \"horribly\", \"mad\", \"nee\", \"fall\", \"experiment\", \"tomorrow\", \"wrong\", \"hit\", \"hubble\", \"tammy_duckworth\", \"deep\", \"leg\", \"spot\", \"comeback\", \"move\", \"school\", \"die\", \"online\", \"lose\", \"hour\", \"mask\", \"coronavirus\", \"order\", \"student\", \"end\", \"offer\", \"attempt\", \"probe\", \"supreme_court\", \"college\", \"lift\", \"bar\", \"indoor\", \"restaurant\", \"bizarre\", \"garbage\", \"collect\", \"head\", \"close\", \"teacher\", \"operation\", \"visa\", \"would\", \"chaos\", \"consulate\", \"crowd\", \"learning\", \"suspension\", \"census\", \"photo\", \"escalate\", \"restrain\", \"bike\", \"force\", \"release\", \"school\", \"book\", \"reopen\", \"family\", \"election\", \"mask\", \"death\", \"day\", \"need\", \"break\", \"single\", \"transition\", \"university\", \"hour\", \"learning\", \"international_student\", \"opening\", \"mostly\", \"brand\", \"rhetoric\", \"inventor\", \"pitch\", \"leave\", \"retire\", \"sad\", \"mammoth\", \"straight\", \"racial\", \"sale\", \"depressing\", \"bike\", \"fundraise\", \"seat\", \"bidder\", \"flight\", \"candidate\", \"bill_gate\", \"funeral\", \"online\", \"death\", \"may\", \"high\", \"national\", \"election\", \"fight\", \"coronavirus\", \"mask\", \"ban\", \"take\", \"get\", \"raise\", \"arrest\", \"late\", \"concern\", \"turn\", \"alleged\", \"million\", \"attorney\", \"scheme\", \"bribery\", \"convention\", \"pipeline\", \"challenger\", \"shatter\", \"environmental\", \"connection\", \"portland\", \"investigation\", \"speaker\", \"draw\", \"nearly\", \"camouflage\", \"masked\", \"powerful\", \"race\", \"democratic\", \"authority\", \"ring\", \"due\", \"gloved\", \"campaign\", \"large\", \"federal\", \"state\", \"video\", \"rename\", \"health\", \"back\", \"city\", \"watch\", \"paint\", \"leg\", \"tower\", \"hit\", \"reopen\", \"roll\", \"black_live\", \"incompetence\", \"kid\", \"manner\", \"reckless\", \"decide\", \"matter_mural\", \"bring\", \"dnc\", \"lose\", \"aim\", \"serve\", \"restriction\", \"international_student\", \"jeep\", \"mayor\", \"tammy_duckworth\", \"walk\", \"suggest\", \"federal\", \"bike\", \"push\", \"school\", \"speech\"], \"Freq\": [11131.0, 5363.0, 2084.0, 2314.0, 2101.0, 1432.0, 2330.0, 1356.0, 962.0, 1161.0, 860.0, 1768.0, 1050.0, 1000.0, 676.0, 866.0, 977.0, 778.0, 991.0, 1061.0, 947.0, 744.0, 857.0, 647.0, 877.0, 579.0, 492.0, 689.0, 653.0, 631.0, 11129.465971366453, 2328.4681952127135, 1766.7466774141371, 927.2179251495704, 787.4631017355254, 575.6054071525709, 517.3566723538345, 334.6070347995992, 296.5443054748198, 271.9878575212803, 246.5411501060526, 238.40944454588933, 151.3932785787276, 141.52557403851623, 137.91723810837962, 81.34771471715698, 62.15054288940587, 52.33790327574455, 0.15903136484860192, 0.15903343608457246, 0.15897124066078067, 0.1588686415493943, 0.1588959079609503, 0.15887292015891094, 0.1588383898352892, 0.1588233952537559, 0.1587816690868562, 0.15877823647513034, 0.15878060915858958, 0.15874510642371406, 0.15874567042224125, 2312.1409354805674, 1354.0370580712674, 1059.2960010508318, 739.0748196811368, 474.4790814019685, 464.5423433582865, 456.2194397859869, 372.4884234794626, 350.4909095663185, 270.291840321124, 161.63860221006018, 23.46667122283468, 22.444918524760293, 7.7523960048382925, 0.17651081624542836, 0.17662269812804632, 0.17650442001538277, 0.1764300638411029, 0.17642347641939835, 0.17641104896156523, 0.17644730585253013, 0.176535601636855, 0.17648867277510752, 0.17652628538874512, 0.17642057378239395, 0.176408858948017, 0.1765665051613687, 0.1764679371706391, 0.17640015103700385, 0.17643232337889073, 0.1764781398528042, 0.17645842973087025, 0.17644249129893602, 0.1764215297406888, 1159.7249315345823, 945.0907303510719, 875.4755106597718, 738.8007394348559, 702.9318716894938, 674.6015294223869, 485.0199138870856, 293.74116070392944, 257.7278721188726, 241.27977528952295, 180.4600790224057, 176.26312475441415, 128.88296240739217, 119.9118977108571, 104.23948258338554, 89.88706952429122, 85.3584131479128, 0.14140775367553884, 0.14127827474996102, 0.14126341348930418, 0.14123410591528912, 0.1411983128686813, 0.14128442211734749, 0.14116811392639522, 0.14118583371288676, 0.14119467055350482, 0.14115419013926483, 0.1412439417031075, 0.14115978424358652, 0.1411303229853868, 0.14127698380280984, 0.14120267749952573, 0.1411695739261495, 0.14117350824127686, 2099.7334424018013, 1047.981478393891, 989.4831956916876, 598.6708179777212, 499.7036459804823, 448.53040740497266, 283.80270052429853, 273.11824278210304, 256.1059007582379, 201.01891295980795, 148.41231091814052, 68.25438453961483, 30.626207310601323, 0.12169723023690407, 0.12153361531824854, 0.12149185085799545, 0.12154302355660476, 0.12156872587803091, 0.12156745018469448, 0.12158886878588293, 0.1214663659842971, 0.12149280037974018, 0.12147799943773448, 0.12145536312927034, 0.12146564840679536, 0.12151905356874343, 0.12145701573200163, 0.12144633180030898, 0.12143960541726231, 0.12145938591223467, 0.12146017597231235, 0.12147004085089694, 0.12147515087250028, 0.12149358319156027, 0.12147627435242726, 0.12148197148289566, 0.12147178768097695, 5361.013762371584, 268.51370028094465, 138.53121035419372, 115.36329419827692, 93.42912289487795, 64.2901284500843, 20.12385328605121, 10.280404531907699, 0.13499718888344245, 0.13498551850434526, 0.13494169557519606, 0.1348625730274742, 0.13488848389162705, 0.134872014233036, 0.1348523712803533, 0.13487353531615426, 0.13480942690783274, 0.1348097153891138, 0.13479304903874018, 0.13479308837709666, 0.1347857583300008, 0.13478800061632173, 0.1348027656127975, 0.1347915935195494, 0.13479900224335828, 0.1348157079320884, 0.13488468118383135, 0.1347739961614051, 0.13477747104956325, 0.13481480314988875, 0.13479206557982748, 0.13481039725395993, 0.13483127280847984, 0.13482277572347423, 0.13481949752709863, 0.13479784831823408, 0.1347990415817148, 0.13479510774606407, 998.3586609212588, 975.1357413147612, 855.3119240439048, 678.0925823326788, 435.62063711787476, 328.896014319415, 327.8732360508313, 296.3077053689461, 241.33874012872351, 211.07417784775106, 207.96419381033553, 182.60847445232483, 74.31592452135835, 70.00889202717211, 61.638182791718954, 26.709666682461425, 0.1264450862549765, 0.12645660474774478, 0.12638424301650938, 0.12645966354749102, 0.1263423412994834, 0.1263645591922009, 0.1263372347676895, 0.12633265296723276, 0.12644772270998791, 0.1263868538748702, 0.12634804935256638, 0.12634318598895308, 0.12631183009197278, 0.12636252425847852, 0.1263344063377986, 0.1263934834073746, 0.12636285701493627, 0.1263396792478214, 687.3574327943012, 592.6635024491346, 526.2258362034595, 307.8861112212433, 263.8792041529803, 226.86315603008464, 222.46424026259362, 202.68134952103944, 193.2423761596348, 151.70046193362958, 102.94321761202357, 97.11696090778786, 89.99307319302471, 84.38575012167483, 71.91548567249701, 48.753801709413864, 0.1247999116801911, 0.1247829364161777, 0.12478303490135921, 0.12478379592321635, 0.12478393917438946, 0.12478978561289196, 0.12477853144260459, 0.12482506121427003, 0.12477719741605502, 0.12478247980306341, 0.12477845086381972, 0.1247930445770802, 0.12478028626947518, 0.12478582829923483, 0.1248107629565541, 0.12480581183788353, 0.12480368992988185, 0.12479367130096254, 0.12480869476774234, 0.12479654527762304, 0.12480771886912553, 0.12481409354632889, 0.12479909693914404, 0.12480614310622135, 0.12479646469883816, 0.12481688694420451, 0.12480294681442135, 960.6863803535912, 864.2786878003055, 582.7735511453595, 442.8415767506891, 410.0910228217778, 403.3443169719359, 241.6240679760786, 67.68573270603427, 0.10737026975817063, 0.10728902972585594, 0.10726970249588527, 0.10727026154799187, 0.10727858521268997, 0.10725858357065421, 0.10725858357065421, 0.10726437819010823, 0.10728427334602844, 0.10725912487507488, 0.10725781154631654, 0.10726346418428317, 0.10725593916545162, 0.10725480331355251, 0.10725743884491215, 0.10726310035672174, 0.10725347223710825, 0.1072575897002425, 0.10725175071157368, 0.10725226539446546, 0.1072801292613653, 0.1072488223433963, 0.10726495498990074, 0.1072671202075834, 0.1072804132243401, 0.10728126511326441, 0.10726710245989748, 0.10727156600290724, 0.10726050032073395, 0.10727170798439463, 0.10728054633198451, 0.107271388526048, 0.10726840691481286, 0.10726866425625875, 0.1072755414845541, 0.10726855777014321, 0.1072683980409699, 0.10726735092750041, 651.7781675158419, 629.126886151319, 562.014726162254, 540.1906971310135, 357.28192101996615, 334.0494889082915, 155.02842527813516, 151.7880937708682, 132.10977540833215, 96.84592373234948, 80.93252994794393, 64.15375113826904, 56.532724372117706, 0.125197152177972, 0.12513965377648986, 0.12513094270226993, 0.12513094270226993, 0.1251658755263267, 0.12511709705178217, 0.1251062790307489, 0.12510331337031833, 0.12512987152342786, 0.1250979663288256, 0.12509809911959116, 0.12509929423648108, 0.1250992765310457, 0.12511421991852864, 0.12509969260877774, 0.12509001658832816, 0.12510194119907433, 0.12518562593952248, 0.12514325683259506, 0.12513209355557137, 0.12512070896060506, 0.12510996176131342, 0.12514106135860467, 0.12510635870520823, 0.1251171767262415, 0.1251188410371697, 0.1251113427852751, 2082.079361288432, 742.1047157442206, 156.88821460601255, 142.13900071201022, 97.77023899586086, 67.36141737657873, 47.516418442802454, 46.7458189030827, 0.12547477584245628, 0.12545703607342068, 0.1254681193899584, 0.12544128354627157, 0.12544023337779497, 0.12547766784487646, 0.1254428103296722, 0.1254359923127933, 0.12545659984959193, 0.12542862497701895, 0.12542862497701895, 0.12543188857751547, 0.12542921468700965, 0.12543790685070833, 0.12543181587354402, 0.12547487278108488, 0.12545070274968484, 0.12543541068102163, 0.12542865728989513, 0.12542333374354067, 0.12543180779532498, 0.12542122532836839, 0.12542243706122602, 0.12548990634673846, 0.12553159803525973, 0.1254390135667183, 0.12543831883987994, 0.1254414774235288, 0.1254496929723035, 0.12547801520829566, 0.12546137407705096, 0.12545987960652655, 0.12543969213711856, 0.12543975676287097, 428.3512549848231, 404.73297479368125, 397.7704549551945, 309.85803483472165, 274.1151025803828, 223.8366030964919, 189.67542568168253, 127.34641867274149, 93.70288753792799, 69.21815655450553, 61.322783837837356, 58.633010176648945, 56.88612290789372, 52.76481205793832, 19.364935895313128, 0.11996575076408372, 0.11994539108408259, 0.11994427755668212, 0.11998142263120141, 0.1199401946228804, 0.11994748066636494, 0.1199840208618025, 0.11993435204084092, 0.11994000216135439, 0.11993461323862621, 0.11993358219473689, 0.11993708774396059, 0.11995563278671652, 0.11993095646963209, 0.11993649661213071, 0.11993448951335949, 0.11994249041394063, 0.1199765973457994, 0.1199807490158604, 0.11995550906144979, 0.11998682530118146, 0.11995747491846544, 0.11994554230385301, 0.11996062303914083, 0.11994660084224605, 374.77197358043304, 324.89108200821704, 322.09034650354783, 220.1891926745295, 202.41949739295524, 183.19871585303426, 172.03937937916066, 137.10218673149276, 131.70312585742846, 121.50148072989492, 117.31885570907545, 101.15041310504823, 97.32077229853525, 82.6584430015755, 79.76900634032745, 68.87543596253632, 51.58797063360061, 18.26332389512261, 15.619138551766467, 3.4810848410619526, 0.11251359887860057, 0.11248122879898782, 0.11248110524906564, 0.11247406290350104, 0.1124843930497727, 0.11245513230986831, 0.11245185137304581, 0.11247080255833224, 0.1124404230052436, 0.11246437796237856, 0.11247037699748916, 0.11250808717929417, 0.11246535949787148, 1430.038516073136, 346.7567571301034, 341.96031055559104, 273.25363522508763, 253.2150512916256, 114.5819666781157, 58.857365828612615, 24.21831440227135, 0.10651708631252887, 0.10651820249761024, 0.10651708631252887, 0.1065211699164851, 0.10652621997337763, 0.10651189332949787, 0.10650725163300097, 0.10650919134488017, 0.10651113105675938, 0.10650190211181831, 0.10650308635696562, 0.1065318689588504, 0.1065010445549875, 0.10651909408447402, 0.1064988870508973, 0.10651227446586713, 0.10649699498106424, 0.10650411406396126, 0.10650378056963818, 0.10650400516785577, 0.10649925457525336, 0.10649536834548835, 0.10649926138125995, 0.10653983198656505, 0.1065094840031637, 0.10656133896740116, 0.10650875576045818, 0.10652433470955118, 0.10651584761932882, 0.10652377661701048, 0.10650858561029333, 0.10651491519642547, 0.1065068909146515, 0.10650887146257026, 0.10650782333755483, 858.3406105204988, 776.7035947286817, 379.97021930850434, 237.09779455095193, 227.66063660707528, 138.115831831958, 75.93664750186389, 75.45294626320481, 71.74615632380119, 70.02127317665443, 30.726087196580757, 22.958956075874983, 20.671207700847678, 14.219488040854747, 6.043969268654416, 2.662399118865483, 2.0076257809458533, 0.08418485489703129, 0.08409919735886072, 0.08409916353688403, 0.08410205869808889, 0.08409020747745595, 0.08408365954276835, 0.08411041949072719, 0.0841149110492319, 0.08415155377878018, 0.08406977900353388, 0.0840580765995984, 0.0840580765995984, 0.0840580765995984, 0.08409299440833538, 0.08409590309833091, 0.08410159195481053, 448.82751991942234, 253.03180463887182, 242.26613037080523, 233.97159501307695, 229.00572236476077, 208.74010882293095, 137.7774125856702, 134.7832473378151, 123.40252230953409, 120.7065892501794, 85.47472139770153, 31.133329121445897, 0.09894440740844379, 0.09894049231763098, 0.09894779525206979, 0.09893621825001012, 0.09893674549719694, 0.09894004359662091, 0.0989350179213082, 0.09894082885838854, 0.09893409804323756, 0.09892898262372282, 0.0989333015634447, 0.09893515253761122, 0.09892467490202621, 0.0989326509179801, 0.09893247142957608, 0.0989257406144251, 0.09892525823933929, 0.0989263015156877, 0.09893353714197498, 0.09893149546137919, 0.09893910128249978, 0.098966619098442, 0.09894422792003976, 0.09897346209384547, 0.098945798443575, 0.09896117835619496, 0.09893672306114644, 0.09894224232957023, 0.0989370820379545, 0.09893517497366172, 645.5924017438363, 321.50886588700604, 231.97167782437583, 172.4594950423745, 147.31210486518447, 145.10689763466243, 121.632632236681, 117.3342628918688, 41.78793023797301, 34.6103913476943, 32.65315056356307, 11.162829240902939, 1.4821045477819903, 0.11713039027697233, 0.1171305108187497, 0.11713057656881008, 0.11711641838914101, 0.11711641838914101, 0.1171202976427036, 0.11714360603910924, 0.11711658276429197, 0.1171138212617559, 0.11711784297378264, 0.11713715157484834, 0.11710805717312903, 0.11710816675656299, 0.11710520800384577, 0.11710823250662337, 0.11710828729834036, 0.11710030962434727, 0.11712589735617951, 0.11720007438263455, 0.11712448372988128, 0.11711774434869207, 0.11711505955455978, 0.11711141042620854, 0.11713214361191587, 0.11712481248018321, 577.5734025210993, 506.3129637357795, 156.69866673408401, 144.50518186765328, 121.13555166657373, 79.23782366218052, 41.02990308725767, 0.10328630987328653, 0.10324854653514867, 0.10324488469076235, 0.10324121375991353, 0.10324225870310069, 0.1032388331067393, 0.10323587091996525, 0.10323587091996525, 0.10323590726581523, 0.10325846895219548, 0.10324576607762456, 0.10322476726279381, 0.10324894633949855, 0.10324246769173813, 0.10322373140606915, 0.10321732545000871, 0.10322062383589514, 0.10322131440704492, 0.10321511743962192, 0.10321575349199671, 0.10322803838929276, 0.10321529008240936, 0.10321302755324759, 0.10321557176274677, 0.10323010101627961, 0.10322800204344278, 0.10327996752246357, 0.10322344063926923, 0.10324480291259988, 0.10322656638236824, 0.10323545294269038, 0.10324195884983829, 0.10322829281024268, 674.1825620820306, 274.37589480739024, 235.54646075718253, 0.09469641753029218, 0.09469226111152758, 0.09469212400743639, 0.0947023490862375, 0.0946921312234412, 0.09469213843944599, 0.0946937259605019, 0.09468683467591825, 0.09468683467591825, 0.09468683467591825, 0.09468683467591825, 0.09469148178300922, 0.09469604951404739, 0.09468684189192304, 0.0946817473925345, 0.0946776414858035, 0.09467746830168831, 0.09468688518795185, 0.0946776559178131, 0.09467104605741662, 0.09467321085885652, 0.094671644985815, 0.0946716666338294, 0.09466901836006793, 0.09467324693888052, 0.094671644985815, 0.09466901836006793, 0.09467745386967871, 0.09469218895147959, 0.09469948433233204, 0.09469238378360918, 0.09467712193345793, 0.09468243291299047, 0.09470119452546955, 0.09468741195630222, 0.09469464239311147, 0.09469162610310522, 0.09468075879987695, 0.09468071550384814, 0.09467940940697941, 373.9737442389704, 225.11168832584022, 200.6990545272514, 190.28240978870076, 175.0989165523283, 4.646232438651686, 0.08633608936324817, 0.08633591670256174, 0.08633245658240567, 0.08633048134415289, 0.08634759547139195, 0.0863300117070858, 0.08633001861351325, 0.08633218723173483, 0.08633001861351325, 0.08632345060100141, 0.08633410031214049, 0.08633000480065835, 0.08632076400072054, 0.08632532914926978, 0.08633471498418419, 0.08631825696755356, 0.08631825696755356, 0.08632150298845846, 0.08633082666552576, 0.08633737395875522, 0.08631968659803721, 0.08631309095981554, 0.0863169240270543, 0.08631281470271725, 0.0863421601129831, 0.08632214528621199, 0.0863399155240595, 0.08633424534711709, 0.08632293952536958, 0.08632001120012771, 0.08632014932867685, 489.8958339618963, 256.6528853731866, 130.50397364022106, 0.05289447057975643, 0.05288407594368453, 0.05288633397254869, 0.05289227514017848, 0.05290830762657007, 0.052878235881824776, 0.05289525053855386, 0.05287521233784462, 0.052877003354342415, 0.052871370318583216, 0.052871370318583216, 0.05287521233784462, 0.05287674336807661, 0.052875173821360796, 0.05287378722794315, 0.05288336338873379, 0.05287330577189535, 0.05286762940509185, 0.052868226410591114, 0.052868226410591114, 0.05286528952869956, 0.05286766792157567, 0.05286528952869956, 0.05287123551088983, 0.05286762940509185, 0.052892434020674256, 0.05286051348470543, 0.05287099959742641, 0.05288301674037938, 0.05286809160289773], \"Total\": [11131.0, 5363.0, 2084.0, 2314.0, 2101.0, 1432.0, 2330.0, 1356.0, 962.0, 1161.0, 860.0, 1768.0, 1050.0, 1000.0, 676.0, 866.0, 977.0, 778.0, 991.0, 1061.0, 947.0, 744.0, 857.0, 647.0, 877.0, 579.0, 492.0, 689.0, 653.0, 631.0, 11131.623884695991, 2330.626108542251, 1768.9045907436755, 929.3758384791089, 789.6210150650638, 577.7633204821094, 519.514585683373, 336.76494812913757, 298.70221880435815, 274.1457708508187, 248.69906343559097, 240.5673578842804, 153.55119190826596, 143.6834873838137, 140.07515143791798, 83.50562804669532, 64.30845621894423, 54.49581660528291, 2.319010891856696, 2.319056805895848, 2.318518935475307, 2.317570174536537, 2.3180363435057068, 2.3184396836024037, 2.317937614441368, 2.317936903380713, 2.3174504748470737, 2.3177395558165874, 2.317792847296626, 2.3173175686064003, 2.317347581201616, 2314.281077960169, 1356.1772005508699, 1061.4361435304343, 741.2149621607393, 476.6192238815708, 466.6824858378888, 458.3595822655892, 374.62856595906493, 352.63105204592085, 272.43198280072636, 163.77874468966252, 25.606813702437023, 24.585061004362636, 9.89253851284206, 2.3173808027095006, 2.319010891856696, 2.317528521357556, 2.316979736034039, 2.317004465683838, 2.3168488046904296, 2.317347581201616, 2.318518935475307, 2.317937614441368, 2.3184396836024037, 2.317081564611424, 2.3169850927149547, 2.319056805895848, 2.317792847296626, 2.3169345594821755, 2.3173851543139086, 2.3180363435057068, 2.317936903380713, 2.3177395558165874, 2.317308141642883, 1161.9002915162307, 947.2660903327204, 877.6508706414203, 740.9760994165044, 705.1072316711424, 676.7768894040354, 487.1952738687339, 295.9165206855778, 259.90323210052094, 243.4551352711713, 182.63543900405404, 178.4384847360625, 131.0583223890405, 122.08725769250545, 106.4148425738866, 92.06242950593956, 87.53377312956114, 2.319010891856696, 2.3180363435057068, 2.3178080372468686, 2.317432349421573, 2.316919514160042, 2.318518935475307, 2.317005464402502, 2.3173075155439946, 2.31747462407999, 2.316964293476539, 2.3184396836024037, 2.3170735650115626, 2.3166263177595403, 2.319056805895848, 2.317936903380713, 2.3173851543139086, 2.3177395558165874, 2101.928472880683, 1050.1765088727732, 991.6782261705699, 600.8658484566035, 501.8986764593644, 450.7254378838548, 285.99773100318066, 275.31327326098517, 258.30093123712004, 203.2139434386901, 150.60734139702268, 70.44941501849698, 32.82123778948349, 2.319056805895848, 2.3171066186392317, 2.316853709945168, 2.317936903380713, 2.3184396836024037, 2.318518935475307, 2.319010891856696, 2.3167319073053476, 2.3173175686064003, 2.317065523289807, 2.316770090324786, 2.3170163566950306, 2.3180363435057068, 2.3168738903811064, 2.3166783160313837, 2.3165524199237666, 2.3169453773979694, 2.31696811705449, 2.317183275354637, 2.3173342046121355, 2.317937614441368, 2.317528521357556, 2.3177395558165874, 2.317432349421573, 5363.195456347145, 270.6953942565073, 140.7129043297564, 117.54498817383963, 95.61081794517169, 66.471822425647, 22.305547276110435, 12.46209850747041, 2.319010891856696, 2.319056805895848, 2.3184396836024037, 2.317347581201616, 2.317792847296626, 2.3177395558165874, 2.317432349421573, 2.317937614441368, 2.316982960702426, 2.317056438780376, 2.3167767824338483, 2.316800647131277, 2.316675359233778, 2.3167574313495805, 2.317046520726426, 2.316869697216542, 2.317020192888374, 2.3173075155439946, 2.318518935475307, 2.3166264355073154, 2.316688209755262, 2.3173422769904883, 2.316964293476539, 2.3173342046121355, 2.3180363435057068, 2.3178080372468686, 2.317936903380713, 2.3172564366395676, 2.3174504748470737, 2.317570174536537, 1000.5488337661669, 977.3259141596693, 857.502096888813, 680.282755177587, 437.8108099627828, 331.086187164323, 330.0634088957393, 298.4978782138541, 243.52891297363152, 213.26435069265906, 210.15436665524354, 184.79864729723283, 76.50609736626636, 72.19906487208011, 63.828355636626966, 28.899839527369434, 2.31747462407999, 2.317936903380713, 2.316636560824466, 2.3184396836024037, 2.3167436777865147, 2.3172299876354363, 2.316853709945168, 2.3167959635085844, 2.319056805895848, 2.3180363435057068, 2.3173256652532728, 2.3173342046121355, 2.3167885455343145, 2.3177395558165874, 2.3173175686064003, 2.319010891856696, 2.318518935475307, 2.317792847296626, 689.5491105556915, 594.855180210525, 528.4175139648498, 310.0777889826334, 266.07088191437043, 229.05483379147472, 224.6559180239837, 204.87302728242952, 195.43405393224293, 153.89213969501967, 105.1348953734137, 99.30863866917798, 92.18475095441484, 86.57742788306496, 74.10716343388714, 50.945479607658335, 2.3166383209079258, 2.316500169970604, 2.3165078284798244, 2.316554463343817, 2.316566084208592, 2.3167122088464613, 2.31651681825018, 2.3173851543139086, 2.316506343578347, 2.3166045032279308, 2.3165305657657798, 2.3168090306605227, 2.316592082151274, 2.316701591935687, 2.3171736080839307, 2.317081564611424, 2.3170735650115626, 2.3169042635216166, 2.317308141642883, 2.317017284158625, 2.3174504748470737, 2.3180363435057068, 2.3173256652532728, 2.3177395558165874, 2.3172564366395676, 2.319056805895848, 2.318518935475307, 962.895576807638, 866.4878842543524, 584.9827475994064, 445.05077320473566, 412.30021927582436, 405.55351342598243, 243.83326443012513, 69.89492916008082, 2.3178080372468686, 2.316788486348993, 2.3166072585401563, 2.316655400718263, 2.3169162878778153, 2.3164987659512475, 2.3164987659512475, 2.316626267585851, 2.317067938109603, 2.3165767592580164, 2.3165867221060665, 2.3167270025196207, 2.316566084208592, 2.316541670519158, 2.3166031579575392, 2.3167436777865147, 2.3165357278608076, 2.3166373237033735, 2.316522729983523, 2.3165721103353856, 2.3171869940668612, 2.3165118619696723, 2.3168642592492317, 2.3169271810910477, 2.3173256652532728, 2.3174504748470737, 2.3169854921616597, 2.3173013444014674, 2.316780394345948, 2.31747462407999, 2.318518935475307, 2.3177395558165874, 2.317528521357556, 2.317937614441368, 2.319056805895848, 2.3180363435057068, 2.3184396836024037, 2.319010891856696, 653.9695341911772, 631.3182528266543, 564.2060928375893, 542.3820638063488, 359.4732876953012, 336.24085558362657, 157.2197919534702, 153.97946044620323, 134.3011420836672, 99.03729040768455, 83.12389662327901, 66.34511781360412, 58.72409104745278, 2.3173808027095006, 2.3166487958286672, 2.3165767264545627, 2.3165767938377, 2.317570174536537, 2.316750356121742, 2.3165802707097787, 2.3165540655528316, 2.317067938109603, 2.316510524812065, 2.316527780477167, 2.31655662325194, 2.316622967160147, 2.3169088357183, 2.3166962146200487, 2.316527431868939, 2.3167687690707313, 2.318518935475307, 2.3180363435057068, 2.3177395558165874, 2.3173851543139086, 2.317046520726426, 2.319056805895848, 2.3170163566950306, 2.317936903380713, 2.3184396836024037, 2.317528521357556, 2084.2703941430036, 744.2957485987924, 159.07924746058424, 144.3300335665819, 99.96127185043257, 69.55245023115043, 49.70745129737417, 48.936851757654416, 2.31696811705449, 2.3166552730391987, 2.3169104550016146, 2.3165960453737604, 2.3165845465192203, 2.3173256652532728, 2.3166852109381257, 2.316587570472397, 2.317020192888374, 2.3165036551903935, 2.3165036551903935, 2.316567936006128, 2.31655238627628, 2.3167206946805528, 2.316634000883856, 2.317432349421573, 2.3169942245629707, 2.3167133551434693, 2.3165913887838836, 2.316538385810156, 2.316702680661, 2.316509075539197, 2.316532675538957, 2.317936903380713, 2.319010891856696, 2.316944750114863, 2.3169453773979694, 2.3171325531754494, 2.317528521357556, 2.319056805895848, 2.318518935475307, 2.3184396836024037, 2.3178080372468686, 2.3180363435057068, 430.5477806301812, 406.9295004390394, 399.96698060055263, 312.0545604800798, 276.31162822574095, 226.03312874185005, 191.87195132704068, 129.54294431809964, 95.89941318328614, 71.41468219986368, 63.519309483195514, 60.8295358220071, 59.08264855325188, 54.96133770329648, 21.561461540671278, 2.316876389072685, 2.316593154129241, 2.3165728591018184, 2.3173256652532728, 2.3165945209055, 2.316755214498501, 2.31747462407999, 2.316525049497618, 2.3166375787898508, 2.3165438356261494, 2.316528482169576, 2.316636703324562, 2.317005464402502, 2.3165397877810365, 2.316650337946032, 2.3166218627495185, 2.3168089634239726, 2.317792847296626, 2.317937614441368, 2.3173422769904883, 2.319056805895848, 2.317936903380713, 2.3171800584180824, 2.319010891856696, 2.317570174536537, 376.97598858165105, 327.09509700943505, 324.29436150476585, 222.39320767574753, 204.62351239417328, 185.40273089784597, 174.2433943803787, 139.3062017327108, 133.9071408586465, 123.70549573111296, 119.52287071029349, 103.35442810626627, 99.52478729975329, 84.86245800279355, 81.97302134154549, 71.07945098720407, 53.79198563481866, 20.467338896340653, 17.823153552984508, 5.685099842279997, 2.3170510110703066, 2.3166225276585397, 2.31662217058246, 2.316671869746437, 2.3171705887669325, 2.316666128487107, 2.316622727812923, 2.3170163566950306, 2.316474208776888, 2.316982737672934, 2.317183275354637, 2.3184396836024037, 2.3173013444014674, 1432.2484661110068, 348.9667071679741, 344.17026059346176, 275.46358526295836, 255.4250013294963, 116.79191671598642, 61.06731586648333, 26.42826444014206, 2.316564031618143, 2.316610524473578, 2.316649655511518, 2.3167405914075245, 2.316851037704983, 2.316565096128608, 2.3165236872703, 2.316569148686393, 2.316668266507417, 2.316517474547579, 2.316543336544822, 2.317183275354637, 2.316531368465964, 2.3169271810910477, 2.316520934196245, 2.3168532691439143, 2.316527310178843, 2.316683245518855, 2.3166783160313837, 2.316694339800774, 2.3166044861142465, 2.3165206921073787, 2.3166058087562544, 2.317570174536537, 2.316869502164965, 2.3184396836024037, 2.3170163566950306, 2.317936903380713, 2.3174504748470737, 2.3180363435057068, 2.3171325531754494, 2.319010891856696, 2.3173175686064003, 2.3178080372468686, 2.317937614441368, 860.573019194349, 778.9360034025318, 382.20262798235444, 239.33020322480203, 229.89304528092538, 140.3482405058081, 78.16905618693205, 77.68535493705495, 73.97856499765133, 72.25368185050458, 32.958495870430895, 25.191366643351092, 22.903616374697812, 16.451896714704883, 8.27637794250455, 4.894807792715618, 4.2400344616019945, 2.318518935475307, 2.316800647131277, 2.317046520726426, 2.3171869940668612, 2.3170510110703066, 2.3169067657345477, 2.3178080372468686, 2.317937614441368, 2.319010891856696, 2.3167993871199806, 2.31662217058246, 2.3166225276585397, 2.3167417589957924, 2.317792847296626, 2.3184396836024037, 2.319056805895848, 451.045039792679, 255.24932451212845, 244.48365024406186, 236.18911488633358, 231.2232422380174, 210.95762869618758, 139.99493245892683, 137.00076721107175, 125.62004218279075, 122.92410912343607, 87.69224127095819, 33.35084903750001, 2.316482432114103, 2.316566084208592, 2.3167436777865147, 2.3164890988108175, 2.3165357278608076, 2.316614799706981, 2.316538385810156, 2.316723882914342, 2.3165908251146257, 2.3165120062955995, 2.3166186035296352, 2.316668266507417, 2.3164575652795274, 2.3166463863114606, 2.316651922398366, 2.3164959894583697, 2.3165046298565333, 2.316535880617579, 2.316734110041382, 2.3166859958474477, 2.3169088357183, 2.3178080372468686, 2.317183275354637, 2.319010891856696, 2.317528521357556, 2.319056805895848, 2.317065523289807, 2.3177395558165874, 2.3173256652532728, 2.3171705887669325, 647.7917584123425, 323.7082225555121, 234.17103449288194, 174.6588517108806, 149.51146231767282, 147.30625430316854, 123.83198890518712, 119.53361959840545, 43.98728690647911, 36.80974801620041, 34.85250723206917, 13.362185943353785, 3.681461216288097, 2.316610548943389, 2.3166758186179415, 2.31669627303186, 2.3164904860382802, 2.316492806369212, 2.316595527752736, 2.317057711064455, 2.3165508299182265, 2.316549093698527, 2.316670729863309, 2.317056833300933, 2.3165305657657798, 2.316545054946247, 2.31650975785803, 2.3165865925410527, 2.316592082151274, 2.3164870756699143, 2.317017284158625, 2.319056805895848, 2.317308141642883, 2.3171705887669325, 2.3171376322355415, 2.3168286616375453, 2.319010891856696, 2.318518935475307, 579.7866326344616, 508.5261938491418, 158.91189684744631, 146.71841198101558, 123.34878177993603, 81.45105377554282, 43.24313320061999, 2.3168050442534125, 2.3166021527205065, 2.3166327333483787, 2.316573228343517, 2.316634348919335, 2.316587570472397, 2.316531483874838, 2.316532179182712, 2.3165976999992663, 2.3171066186392317, 2.3169339885173295, 2.3165082789921745, 2.3170510110703066, 2.316944750114863, 2.316539403253796, 2.3164814277065897, 2.3165765351783136, 2.3166054662674544, 2.3164699452167334, 2.316491507361018, 2.3167767824338483, 2.31651043809265, 2.3164634312108503, 2.316530940410124, 2.3169271810910477, 2.3169754341704576, 2.319056805895848, 2.316807959156955, 2.317792847296626, 2.3169528512125677, 2.317937614441368, 2.319010891856696, 2.317528521357556, 676.4043371420536, 276.59766986741323, 237.76823581720552, 2.316610524473578, 2.3165234284467466, 2.3165397477536933, 2.3168286616375453, 2.3166054662674544, 2.3166229807765855, 2.316666128487107, 2.3165304052305022, 2.3165328792614797, 2.3165448046034265, 2.3165524129061055, 2.316671869746437, 2.316804746417602, 2.316603195741903, 2.3165035583721973, 2.3164925838463706, 2.3164991283273033, 2.316753790051336, 2.3166010160130104, 2.3164660645992865, 2.316530940410124, 2.31651453182549, 2.316545032516599, 2.316483983132777, 2.3165893016683166, 2.316552037094259, 2.3164922410280364, 2.3167160832969107, 2.3171705887669325, 2.317528521357556, 2.3173422769904883, 2.316764336991943, 2.3170163566950306, 2.317937614441368, 2.3173013444014674, 2.318518935475307, 2.319010891856696, 2.317347581201616, 2.3180363435057068, 2.3177395558165874, 376.2038716576609, 227.34181574453066, 202.92918194594185, 192.5125372073912, 177.32904397101873, 6.876359857342147, 2.316571149334256, 2.3165767592580164, 2.3165068478316075, 2.3165131320322576, 2.316982737672934, 2.3165185855141406, 2.316528801313441, 2.31662565453436, 2.3166263177595403, 2.316482838158703, 2.316788486348993, 2.3167270025196207, 2.316500204107804, 2.3166364199353717, 2.3169345594821755, 2.3164987659512475, 2.3164987659512475, 2.316596798007458, 2.316864761887598, 2.317043852830591, 2.316655400718263, 2.3164950182002144, 2.316602144366401, 2.316492459581783, 2.3174504748470737, 2.3168089634239726, 2.3178080372468686, 2.3184396836024037, 2.317067938109603, 2.3167624187505655, 2.3169453773979694, 492.15940991852585, 258.9164613298162, 132.76754959685064, 2.317005464402502, 2.3165865925410527, 2.316734007533867, 2.317056833300933, 2.317792847296626, 2.3165277432523443, 2.31747462407999, 2.316610548943389, 2.31669627303186, 2.3164660930534597, 2.3164993275342534, 2.3166758186179415, 2.316760156492418, 2.316701591935687, 2.3166862189514927, 2.3171376322355415, 2.3167122088464613, 2.3165690847778238, 2.3166100642122633, 2.3166229807765855, 2.31651681825018, 2.3166288120007854, 2.316545054946247, 2.316818013672757, 2.3166947983016057, 2.3178080372468686, 2.316530940410124, 2.3169939605932917, 2.319056805895848, 2.3170735650115626], \"Category\": [\"Default\", \"Default\", \"Default\", \"Default\", \"Default\", \"Default\", \"Default\", \"Default\", \"Default\", \"Default\", \"Default\", \"Default\", \"Default\", \"Default\", \"Default\", \"Default\", \"Default\", \"Default\", \"Default\", \"Default\", \"Default\", \"Default\", \"Default\", \"Default\", \"Default\", \"Default\", \"Default\", \"Default\", \"Default\", \"Default\", \"Topic1\", \"Topic1\", \"Topic1\", \"Topic1\", \"Topic1\", \"Topic1\", \"Topic1\", \"Topic1\", \"Topic1\", \"Topic1\", \"Topic1\", \"Topic1\", \"Topic1\", \"Topic1\", \"Topic1\", \"Topic1\", \"Topic1\", \"Topic1\", \"Topic1\", \"Topic1\", \"Topic1\", \"Topic1\", \"Topic1\", \"Topic1\", \"Topic1\", \"Topic1\", \"Topic1\", \"Topic1\", \"Topic1\", \"Topic1\", \"Topic1\", \"Topic2\", \"Topic2\", \"Topic2\", \"Topic2\", \"Topic2\", \"Topic2\", \"Topic2\", \"Topic2\", \"Topic2\", \"Topic2\", \"Topic2\", \"Topic2\", \"Topic2\", \"Topic2\", \"Topic2\", \"Topic2\", \"Topic2\", \"Topic2\", \"Topic2\", \"Topic2\", \"Topic2\", \"Topic2\", \"Topic2\", \"Topic2\", \"Topic2\", \"Topic2\", \"Topic2\", \"Topic2\", \"Topic2\", \"Topic2\", \"Topic2\", \"Topic2\", \"Topic2\", \"Topic2\", \"Topic3\", \"Topic3\", \"Topic3\", \"Topic3\", \"Topic3\", \"Topic3\", \"Topic3\", \"Topic3\", \"Topic3\", \"Topic3\", \"Topic3\", \"Topic3\", \"Topic3\", \"Topic3\", \"Topic3\", \"Topic3\", \"Topic3\", \"Topic3\", \"Topic3\", \"Topic3\", \"Topic3\", \"Topic3\", \"Topic3\", \"Topic3\", \"Topic3\", \"Topic3\", \"Topic3\", \"Topic3\", \"Topic3\", \"Topic3\", \"Topic3\", \"Topic3\", \"Topic3\", \"Topic3\", \"Topic4\", \"Topic4\", \"Topic4\", \"Topic4\", \"Topic4\", \"Topic4\", \"Topic4\", \"Topic4\", \"Topic4\", \"Topic4\", \"Topic4\", \"Topic4\", \"Topic4\", \"Topic4\", \"Topic4\", \"Topic4\", \"Topic4\", \"Topic4\", \"Topic4\", \"Topic4\", \"Topic4\", \"Topic4\", \"Topic4\", \"Topic4\", \"Topic4\", \"Topic4\", \"Topic4\", \"Topic4\", \"Topic4\", \"Topic4\", \"Topic4\", \"Topic4\", \"Topic4\", \"Topic4\", \"Topic4\", \"Topic4\", \"Topic4\", \"Topic5\", \"Topic5\", \"Topic5\", \"Topic5\", \"Topic5\", \"Topic5\", \"Topic5\", \"Topic5\", \"Topic5\", \"Topic5\", \"Topic5\", \"Topic5\", \"Topic5\", \"Topic5\", \"Topic5\", \"Topic5\", \"Topic5\", \"Topic5\", \"Topic5\", \"Topic5\", \"Topic5\", \"Topic5\", \"Topic5\", \"Topic5\", \"Topic5\", \"Topic5\", \"Topic5\", \"Topic5\", \"Topic5\", \"Topic5\", \"Topic5\", \"Topic5\", \"Topic5\", \"Topic5\", \"Topic5\", \"Topic5\", \"Topic5\", \"Topic5\", \"Topic6\", \"Topic6\", \"Topic6\", \"Topic6\", \"Topic6\", \"Topic6\", \"Topic6\", \"Topic6\", \"Topic6\", \"Topic6\", \"Topic6\", \"Topic6\", \"Topic6\", \"Topic6\", \"Topic6\", \"Topic6\", \"Topic6\", \"Topic6\", \"Topic6\", \"Topic6\", \"Topic6\", \"Topic6\", \"Topic6\", \"Topic6\", \"Topic6\", \"Topic6\", \"Topic6\", \"Topic6\", \"Topic6\", \"Topic6\", \"Topic6\", \"Topic6\", \"Topic6\", \"Topic6\", \"Topic7\", \"Topic7\", \"Topic7\", \"Topic7\", \"Topic7\", \"Topic7\", \"Topic7\", \"Topic7\", \"Topic7\", \"Topic7\", \"Topic7\", \"Topic7\", \"Topic7\", \"Topic7\", \"Topic7\", \"Topic7\", \"Topic7\", \"Topic7\", \"Topic7\", \"Topic7\", \"Topic7\", \"Topic7\", \"Topic7\", \"Topic7\", \"Topic7\", \"Topic7\", \"Topic7\", \"Topic7\", \"Topic7\", \"Topic7\", \"Topic7\", \"Topic7\", \"Topic7\", \"Topic7\", \"Topic7\", \"Topic7\", \"Topic7\", \"Topic7\", \"Topic7\", \"Topic7\", \"Topic7\", \"Topic7\", \"Topic7\", \"Topic8\", \"Topic8\", \"Topic8\", \"Topic8\", \"Topic8\", \"Topic8\", \"Topic8\", \"Topic8\", \"Topic8\", \"Topic8\", \"Topic8\", \"Topic8\", \"Topic8\", \"Topic8\", \"Topic8\", \"Topic8\", \"Topic8\", \"Topic8\", \"Topic8\", \"Topic8\", \"Topic8\", \"Topic8\", \"Topic8\", \"Topic8\", \"Topic8\", \"Topic8\", \"Topic8\", \"Topic8\", \"Topic8\", \"Topic8\", \"Topic8\", \"Topic8\", \"Topic8\", \"Topic8\", \"Topic8\", \"Topic8\", \"Topic8\", \"Topic8\", \"Topic8\", \"Topic8\", \"Topic8\", \"Topic8\", \"Topic8\", \"Topic8\", \"Topic8\", \"Topic8\", \"Topic9\", \"Topic9\", \"Topic9\", \"Topic9\", \"Topic9\", \"Topic9\", \"Topic9\", \"Topic9\", \"Topic9\", \"Topic9\", \"Topic9\", \"Topic9\", \"Topic9\", \"Topic9\", \"Topic9\", \"Topic9\", \"Topic9\", \"Topic9\", \"Topic9\", \"Topic9\", \"Topic9\", \"Topic9\", \"Topic9\", \"Topic9\", \"Topic9\", \"Topic9\", \"Topic9\", \"Topic9\", \"Topic9\", \"Topic9\", \"Topic9\", \"Topic9\", \"Topic9\", \"Topic9\", \"Topic9\", \"Topic9\", \"Topic9\", \"Topic9\", \"Topic9\", \"Topic9\", \"Topic10\", \"Topic10\", \"Topic10\", \"Topic10\", \"Topic10\", \"Topic10\", \"Topic10\", \"Topic10\", \"Topic10\", \"Topic10\", \"Topic10\", \"Topic10\", \"Topic10\", \"Topic10\", \"Topic10\", \"Topic10\", \"Topic10\", \"Topic10\", \"Topic10\", \"Topic10\", \"Topic10\", \"Topic10\", \"Topic10\", \"Topic10\", \"Topic10\", \"Topic10\", \"Topic10\", \"Topic10\", \"Topic10\", \"Topic10\", \"Topic10\", \"Topic10\", \"Topic10\", \"Topic10\", \"Topic10\", \"Topic10\", \"Topic10\", \"Topic10\", \"Topic10\", \"Topic10\", \"Topic10\", \"Topic10\", \"Topic11\", \"Topic11\", \"Topic11\", \"Topic11\", \"Topic11\", \"Topic11\", \"Topic11\", \"Topic11\", \"Topic11\", \"Topic11\", \"Topic11\", \"Topic11\", \"Topic11\", \"Topic11\", \"Topic11\", \"Topic11\", \"Topic11\", \"Topic11\", \"Topic11\", \"Topic11\", \"Topic11\", \"Topic11\", \"Topic11\", \"Topic11\", \"Topic11\", \"Topic11\", \"Topic11\", \"Topic11\", \"Topic11\", \"Topic11\", \"Topic11\", \"Topic11\", \"Topic11\", \"Topic11\", \"Topic11\", \"Topic11\", \"Topic11\", \"Topic11\", \"Topic11\", \"Topic11\", \"Topic12\", \"Topic12\", \"Topic12\", \"Topic12\", \"Topic12\", \"Topic12\", \"Topic12\", \"Topic12\", \"Topic12\", \"Topic12\", \"Topic12\", \"Topic12\", \"Topic12\", \"Topic12\", \"Topic12\", \"Topic12\", \"Topic12\", \"Topic12\", \"Topic12\", \"Topic12\", \"Topic12\", \"Topic12\", \"Topic12\", \"Topic12\", \"Topic12\", \"Topic12\", \"Topic12\", \"Topic12\", \"Topic12\", \"Topic12\", \"Topic12\", \"Topic12\", \"Topic12\", \"Topic13\", \"Topic13\", \"Topic13\", \"Topic13\", \"Topic13\", \"Topic13\", \"Topic13\", \"Topic13\", \"Topic13\", \"Topic13\", \"Topic13\", \"Topic13\", \"Topic13\", \"Topic13\", \"Topic13\", \"Topic13\", \"Topic13\", \"Topic13\", \"Topic13\", \"Topic13\", \"Topic13\", \"Topic13\", \"Topic13\", \"Topic13\", \"Topic13\", \"Topic13\", \"Topic13\", \"Topic13\", \"Topic13\", \"Topic13\", \"Topic13\", \"Topic13\", \"Topic13\", \"Topic13\", \"Topic13\", \"Topic13\", \"Topic13\", \"Topic13\", \"Topic13\", \"Topic13\", \"Topic13\", \"Topic13\", \"Topic13\", \"Topic14\", \"Topic14\", \"Topic14\", \"Topic14\", \"Topic14\", \"Topic14\", \"Topic14\", \"Topic14\", \"Topic14\", \"Topic14\", \"Topic14\", \"Topic14\", \"Topic14\", \"Topic14\", \"Topic14\", \"Topic14\", \"Topic14\", \"Topic14\", \"Topic14\", \"Topic14\", \"Topic14\", \"Topic14\", \"Topic14\", \"Topic14\", \"Topic14\", \"Topic14\", \"Topic14\", \"Topic14\", \"Topic14\", \"Topic14\", \"Topic14\", \"Topic14\", \"Topic14\", \"Topic15\", \"Topic15\", \"Topic15\", \"Topic15\", \"Topic15\", \"Topic15\", \"Topic15\", \"Topic15\", \"Topic15\", \"Topic15\", \"Topic15\", \"Topic15\", \"Topic15\", \"Topic15\", \"Topic15\", \"Topic15\", \"Topic15\", \"Topic15\", \"Topic15\", \"Topic15\", \"Topic15\", \"Topic15\", \"Topic15\", \"Topic15\", \"Topic15\", \"Topic15\", \"Topic15\", \"Topic15\", \"Topic15\", \"Topic15\", \"Topic15\", \"Topic15\", \"Topic15\", \"Topic15\", \"Topic15\", \"Topic15\", \"Topic15\", \"Topic15\", \"Topic15\", \"Topic15\", \"Topic15\", \"Topic15\", \"Topic16\", \"Topic16\", \"Topic16\", \"Topic16\", \"Topic16\", \"Topic16\", \"Topic16\", \"Topic16\", \"Topic16\", \"Topic16\", \"Topic16\", \"Topic16\", \"Topic16\", \"Topic16\", \"Topic16\", \"Topic16\", \"Topic16\", \"Topic16\", \"Topic16\", \"Topic16\", \"Topic16\", \"Topic16\", \"Topic16\", \"Topic16\", \"Topic16\", \"Topic16\", \"Topic16\", \"Topic16\", \"Topic16\", \"Topic16\", \"Topic16\", \"Topic16\", \"Topic16\", \"Topic16\", \"Topic16\", \"Topic16\", \"Topic16\", \"Topic16\", \"Topic17\", \"Topic17\", \"Topic17\", \"Topic17\", \"Topic17\", \"Topic17\", \"Topic17\", \"Topic17\", \"Topic17\", \"Topic17\", \"Topic17\", \"Topic17\", \"Topic17\", \"Topic17\", \"Topic17\", \"Topic17\", \"Topic17\", \"Topic17\", \"Topic17\", \"Topic17\", \"Topic17\", \"Topic17\", \"Topic17\", \"Topic17\", \"Topic17\", \"Topic17\", \"Topic17\", \"Topic17\", \"Topic17\", \"Topic17\", \"Topic17\", \"Topic17\", \"Topic17\", \"Topic17\", \"Topic17\", \"Topic17\", \"Topic17\", \"Topic17\", \"Topic17\", \"Topic17\", \"Topic18\", \"Topic18\", \"Topic18\", \"Topic18\", \"Topic18\", \"Topic18\", \"Topic18\", \"Topic18\", \"Topic18\", \"Topic18\", \"Topic18\", \"Topic18\", \"Topic18\", \"Topic18\", \"Topic18\", \"Topic18\", \"Topic18\", \"Topic18\", \"Topic18\", \"Topic18\", \"Topic18\", \"Topic18\", \"Topic18\", \"Topic18\", \"Topic18\", \"Topic18\", \"Topic18\", \"Topic18\", \"Topic18\", \"Topic18\", \"Topic18\", \"Topic18\", \"Topic18\", \"Topic18\", \"Topic18\", \"Topic18\", \"Topic18\", \"Topic18\", \"Topic18\", \"Topic18\", \"Topic18\", \"Topic18\", \"Topic18\", \"Topic19\", \"Topic19\", \"Topic19\", \"Topic19\", \"Topic19\", \"Topic19\", \"Topic19\", \"Topic19\", \"Topic19\", \"Topic19\", \"Topic19\", \"Topic19\", \"Topic19\", \"Topic19\", \"Topic19\", \"Topic19\", \"Topic19\", \"Topic19\", \"Topic19\", \"Topic19\", \"Topic19\", \"Topic19\", \"Topic19\", \"Topic19\", \"Topic19\", \"Topic19\", \"Topic19\", \"Topic19\", \"Topic19\", \"Topic19\", \"Topic19\", \"Topic19\", \"Topic19\", \"Topic19\", \"Topic19\", \"Topic19\", \"Topic19\", \"Topic20\", \"Topic20\", \"Topic20\", \"Topic20\", \"Topic20\", \"Topic20\", \"Topic20\", \"Topic20\", \"Topic20\", \"Topic20\", \"Topic20\", \"Topic20\", \"Topic20\", \"Topic20\", \"Topic20\", \"Topic20\", \"Topic20\", \"Topic20\", \"Topic20\", \"Topic20\", \"Topic20\", \"Topic20\", \"Topic20\", \"Topic20\", \"Topic20\", \"Topic20\", \"Topic20\", \"Topic20\", \"Topic20\", \"Topic20\", \"Topic20\", \"Topic20\", \"Topic20\"], \"logprob\": [30.0, 29.0, 28.0, 27.0, 26.0, 25.0, 24.0, 23.0, 22.0, 21.0, 20.0, 19.0, 18.0, 17.0, 16.0, 15.0, 14.0, 13.0, 12.0, 11.0, 10.0, 9.0, 8.0, 7.0, 6.0, 5.0, 4.0, 3.0, 2.0, 1.0, -0.653, -2.2174, -2.4935, -3.1382, -3.3016, -3.615, -3.7216, -4.1574, -4.2782, -4.3646, -4.4628, -4.4964, -4.9505, -5.0179, -5.0437, -5.5716, -5.8408, -6.0127, -11.809, -11.809, -11.8094, -11.8101, -11.8099, -11.81, -11.8102, -11.8103, -11.8106, -11.8106, -11.8106, -11.8108, -11.8108, -1.4189, -1.954, -2.1995, -2.5595, -3.0026, -3.0238, -3.0419, -3.2446, -3.3055, -3.5654, -4.0795, -6.0093, -6.0538, -7.1169, -10.8992, -10.8986, -10.8993, -10.8997, -10.8997, -10.8998, -10.8996, -10.8991, -10.8994, -10.8991, -10.8997, -10.8998, -10.8989, -10.8995, -10.8999, -10.8997, -10.8994, -10.8995, -10.8996, -10.8997, -1.9859, -2.1905, -2.267, -2.4368, -2.4865, -2.5277, -2.8576, -3.3591, -3.4899, -3.5558, -3.8463, -3.8698, -4.1829, -4.255, -4.3951, -4.5432, -4.5949, -10.9979, -10.9988, -10.9989, -10.9991, -10.9994, -10.9988, -10.9996, -10.9995, -10.9994, -10.9997, -10.9991, -10.9997, -10.9999, -10.9988, -10.9993, -10.9996, -10.9996, -1.3338, -2.0288, -2.0862, -2.5887, -2.7694, -2.8774, -3.3351, -3.3735, -3.4378, -3.68, -3.9834, -4.7601, -5.5615, -11.0896, -11.0909, -11.0913, -11.0909, -11.0907, -11.0907, -11.0905, -11.0915, -11.0913, -11.0914, -11.0916, -11.0915, -11.0911, -11.0916, -11.0917, -11.0917, -11.0916, -11.0916, -11.0915, -11.0914, -11.0913, -11.0914, -11.0914, -11.0915, -0.2962, -3.2902, -3.952, -4.135, -4.3459, -4.7197, -5.8812, -6.5528, -10.8856, -10.8856, -10.886, -10.8866, -10.8864, -10.8865, -10.8866, -10.8865, -10.887, -10.887, -10.8871, -10.8871, -10.8871, -10.8871, -10.887, -10.8871, -10.887, -10.8869, -10.8864, -10.8872, -10.8872, -10.8869, -10.8871, -10.8869, -10.8868, -10.8869, -10.8869, -10.887, -10.887, -10.8871, -1.9527, -1.9762, -2.1073, -2.3395, -2.782, -3.063, -3.0662, -3.1674, -3.3726, -3.5066, -3.5214, -3.6514, -4.5505, -4.6102, -4.7375, -5.5738, -10.9267, -10.9266, -10.9272, -10.9266, -10.9275, -10.9274, -10.9276, -10.9276, -10.9267, -10.9272, -10.9275, -10.9275, -10.9278, -10.9274, -10.9276, -10.9271, -10.9274, -10.9276, -1.9686, -2.1169, -2.2358, -2.7718, -2.926, -3.0771, -3.0967, -3.1898, -3.2375, -3.4796, -3.8673, -3.9256, -4.0018, -4.0661, -4.226, -4.6147, -10.5825, -10.5827, -10.5827, -10.5827, -10.5827, -10.5826, -10.5827, -10.5823, -10.5827, -10.5827, -10.5827, -10.5826, -10.5827, -10.5826, -10.5824, -10.5825, -10.5825, -10.5826, -10.5825, -10.5826, -10.5825, -10.5824, -10.5825, -10.5825, -10.5826, -10.5824, -10.5825, -1.6249, -1.7307, -2.1248, -2.3994, -2.4762, -2.4928, -3.0052, -4.2777, -10.7241, -10.7248, -10.725, -10.725, -10.7249, -10.7251, -10.7251, -10.725, -10.7249, -10.7251, -10.7251, -10.725, -10.7251, -10.7251, -10.7251, -10.7251, -10.7251, -10.7251, -10.7252, -10.7252, -10.7249, -10.7252, -10.725, -10.725, -10.7249, -10.7249, -10.725, -10.725, -10.7251, -10.725, -10.7249, -10.725, -10.725, -10.725, -10.7249, -10.725, -10.725, -10.725, -2.0105, -2.0459, -2.1587, -2.1983, -2.6117, -2.6789, -3.4466, -3.4677, -3.6066, -3.9171, -4.0966, -4.3289, -4.4554, -10.5681, -10.5685, -10.5686, -10.5686, -10.5683, -10.5687, -10.5688, -10.5688, -10.5686, -10.5689, -10.5689, -10.5688, -10.5688, -10.5687, -10.5688, -10.5689, -10.5688, -10.5682, -10.5685, -10.5686, -10.5687, -10.5688, -10.5685, -10.5688, -10.5687, -10.5687, -10.5687, -0.7575, -1.7892, -3.3431, -3.4418, -3.816, -4.1886, -4.5376, -4.5539, -10.4743, -10.4744, -10.4743, -10.4746, -10.4746, -10.4743, -10.4746, -10.4746, -10.4744, -10.4747, -10.4747, -10.4746, -10.4747, -10.4746, -10.4746, -10.4743, -10.4745, -10.4746, -10.4747, -10.4747, -10.4746, -10.4747, -10.4747, -10.4742, -10.4738, -10.4746, -10.4746, -10.4746, -10.4745, -10.4743, -10.4744, -10.4744, -10.4746, -10.4746, -2.1772, -2.2339, -2.2513, -2.5011, -2.6236, -2.8262, -2.9919, -3.3903, -3.697, -3.9999, -4.121, -4.1659, -4.1961, -4.2713, -5.2737, -10.3577, -10.3579, -10.3579, -10.3576, -10.3579, -10.3579, -10.3576, -10.358, -10.3579, -10.358, -10.358, -10.358, -10.3578, -10.358, -10.358, -10.358, -10.3579, -10.3576, -10.3576, -10.3578, -10.3575, -10.3578, -10.3579, -10.3578, -10.3579, -2.3094, -2.4523, -2.4609, -2.8413, -2.9254, -3.0252, -3.088, -3.315, -3.3552, -3.4358, -3.4709, -3.6191, -3.6577, -3.821, -3.8566, -4.0034, -4.2925, -5.3309, -5.4873, -6.9884, -10.4204, -10.4207, -10.4207, -10.4208, -10.4207, -10.4209, -10.421, -10.4208, -10.4211, -10.4209, -10.4208, -10.4205, -10.4209, -0.9618, -2.3787, -2.3926, -2.6169, -2.693, -3.486, -4.1522, -5.0402, -10.4667, -10.4667, -10.4667, -10.4667, -10.4666, -10.4668, -10.4668, -10.4668, -10.4668, -10.4669, -10.4669, -10.4666, -10.4669, -10.4667, -10.4669, -10.4668, -10.4669, -10.4669, -10.4669, -10.4669, -10.4669, -10.4669, -10.4669, -10.4665, -10.4668, -10.4663, -10.4668, -10.4667, -10.4667, -10.4667, -10.4668, -10.4668, -10.4668, -10.4668, -10.4668, -1.4661, -1.5661, -2.2811, -2.7527, -2.7933, -3.2931, -3.8912, -3.8976, -3.948, -3.9723, -4.796, -5.0874, -5.1924, -5.5665, -6.4221, -7.2419, -7.5242, -10.6959, -10.6969, -10.6969, -10.6969, -10.697, -10.6971, -10.6968, -10.6967, -10.6963, -10.6973, -10.6974, -10.6974, -10.6974, -10.697, -10.6969, -10.6969, -1.9272, -2.5003, -2.5438, -2.5786, -2.6001, -2.6928, -3.1082, -3.1302, -3.2184, -3.2405, -3.5856, -4.5956, -10.347, -10.3471, -10.347, -10.3471, -10.3471, -10.3471, -10.3471, -10.3471, -10.3472, -10.3472, -10.3472, -10.3471, -10.3472, -10.3472, -10.3472, -10.3472, -10.3472, -10.3472, -10.3472, -10.3472, -10.3471, -10.3468, -10.347, -10.3468, -10.347, -10.3469, -10.3471, -10.3471, -10.3471, -10.3471, -1.5403, -2.2374, -2.5638, -2.8603, -3.0179, -3.033, -3.2094, -3.2454, -4.2778, -4.4663, -4.5245, -5.5978, -7.617, -10.1549, -10.1549, -10.1549, -10.155, -10.155, -10.155, -10.1548, -10.155, -10.155, -10.155, -10.1548, -10.1551, -10.1551, -10.1551, -10.1551, -10.1551, -10.1552, -10.1549, -10.1543, -10.1549, -10.155, -10.155, -10.1551, -10.1549, -10.1549, -1.4643, -1.596, -2.7688, -2.8498, -3.0262, -3.4507, -4.1088, -10.0934, -10.0937, -10.0938, -10.0938, -10.0938, -10.0938, -10.0939, -10.0939, -10.0939, -10.0936, -10.0938, -10.094, -10.0937, -10.0938, -10.094, -10.094, -10.094, -10.094, -10.0941, -10.094, -10.0939, -10.0941, -10.0941, -10.094, -10.0939, -10.0939, -10.0934, -10.094, -10.0938, -10.0939, -10.0939, -10.0938, -10.0939, -1.0791, -1.9781, -2.1307, -9.9497, -9.9498, -9.9498, -9.9496, -9.9498, -9.9498, -9.9497, -9.9498, -9.9498, -9.9498, -9.9498, -9.9498, -9.9497, -9.9498, -9.9499, -9.9499, -9.9499, -9.9498, -9.9499, -9.95, -9.95, -9.95, -9.95, -9.95, -9.95, -9.95, -9.95, -9.9499, -9.9498, -9.9497, -9.9498, -9.9499, -9.9499, -9.9497, -9.9498, -9.9497, -9.9498, -9.9499, -9.9499, -9.9499, -1.6246, -2.1322, -2.247, -2.3003, -2.3834, -6.0127, -9.9983, -9.9983, -9.9983, -9.9984, -9.9982, -9.9984, -9.9984, -9.9983, -9.9984, -9.9984, -9.9983, -9.9984, -9.9985, -9.9984, -9.9983, -9.9985, -9.9985, -9.9985, -9.9983, -9.9983, -9.9985, -9.9986, -9.9985, -9.9986, -9.9982, -9.9984, -9.9982, -9.9983, -9.9984, -9.9985, -9.9985, -0.9938, -1.6402, -2.3166, -10.1274, -10.1276, -10.1276, -10.1275, -10.1272, -10.1277, -10.1274, -10.1278, -10.1278, -10.1279, -10.1279, -10.1278, -10.1278, -10.1278, -10.1278, -10.1276, -10.1278, -10.1279, -10.1279, -10.1279, -10.128, -10.1279, -10.128, -10.1279, -10.1279, -10.1275, -10.1281, -10.1279, -10.1276, -10.1279], \"loglift\": [30.0, 29.0, 28.0, 27.0, 26.0, 25.0, 24.0, 23.0, 22.0, 21.0, 20.0, 19.0, 18.0, 17.0, 16.0, 15.0, 14.0, 13.0, 12.0, 11.0, 10.0, 9.0, 8.0, 7.0, 6.0, 5.0, 4.0, 3.0, 2.0, 1.0, 1.6333, 1.6326, 1.6323, 1.6312, 1.6308, 1.6298, 1.6293, 1.6271, 1.6263, 1.6256, 1.6248, 1.6245, 1.6194, 1.6184, 1.618, 1.6073, 1.5994, 1.5931, -1.0463, -1.0463, -1.0465, -1.0467, -1.0467, -1.047, -1.047, -1.0471, -1.0472, -1.0473, -1.0473, -1.0474, -1.0474, 2.4381, 2.4374, 2.437, 2.4361, 2.4345, 2.4344, 2.4343, 2.4333, 2.4329, 2.4311, 2.4259, 2.3517, 2.348, 2.1952, -0.1358, -0.1359, -0.1359, -0.1361, -0.1361, -0.1361, -0.1361, -0.1361, -0.1362, -0.1362, -0.1362, -0.1362, -0.1362, -0.1362, -0.1362, -0.1362, -0.1363, -0.1363, -0.1363, -0.1363, 2.5602, 2.5598, 2.5596, 2.5592, 2.559, 2.5589, 2.5576, 2.5547, 2.5537, 2.5531, 2.5501, 2.5498, 2.5454, 2.5441, 2.5414, 2.5382, 2.5369, -0.2352, -0.2357, -0.2357, -0.2357, -0.2357, -0.2358, -0.236, -0.236, -0.236, -0.2361, -0.2361, -0.2361, -0.2361, -0.2361, -0.2361, -0.2361, -0.2363, 2.6195, 2.6184, 2.6183, 2.6168, 2.6161, 2.6156, 2.6128, 2.6125, 2.612, 2.6096, 2.6058, 2.5888, 2.5513, -0.3269, -0.3274, -0.3276, -0.3277, -0.3277, -0.3277, -0.3278, -0.3278, -0.3278, -0.3278, -0.3279, -0.3279, -0.3279, -0.3279, -0.3279, -0.3279, -0.3279, -0.3279, -0.3279, -0.328, -0.3281, -0.328, -0.3281, -0.328, 2.7204, 2.7127, 2.7052, 2.7021, 2.6977, 2.6874, 2.6179, 2.5284, -0.1228, -0.1229, -0.123, -0.1231, -0.1231, -0.1232, -0.1232, -0.1233, -0.1233, -0.1234, -0.1234, -0.1234, -0.1234, -0.1234, -0.1234, -0.1234, -0.1234, -0.1234, -0.1234, -0.1234, -0.1235, -0.1235, -0.1235, -0.1235, -0.1236, -0.1236, -0.1237, -0.1235, -0.1236, -0.1237, 2.7429, 2.7428, 2.7425, 2.7419, 2.7401, 2.7385, 2.7384, 2.7377, 2.7361, 2.7348, 2.7346, 2.7332, 2.716, 2.7143, 2.7102, 2.6663, -0.1633, -0.1634, -0.1635, -0.1636, -0.1638, -0.1639, -0.1639, -0.1639, -0.164, -0.164, -0.164, -0.1641, -0.1641, -0.1641, -0.1641, -0.1644, -0.1644, -0.1643, 3.0992, 3.0987, 3.0982, 3.0953, 3.0941, 3.0928, 3.0926, 3.0916, 3.0911, 3.0881, 3.0813, 3.0801, 3.0783, 3.0768, 3.0724, 3.0584, 0.1812, 0.1812, 0.1812, 0.1811, 0.1811, 0.1811, 0.1811, 0.1811, 0.1811, 0.1811, 0.1811, 0.1811, 0.1811, 0.1811, 0.1811, 0.1811, 0.1811, 0.1811, 0.181, 0.181, 0.1809, 0.1807, 0.1809, 0.1808, 0.1809, 0.1803, 0.1804, 3.109, 3.1087, 3.1075, 3.1063, 3.1059, 3.1058, 3.1022, 3.0792, 0.0392, 0.0389, 0.0388, 0.0388, 0.0387, 0.0387, 0.0387, 0.0387, 0.0387, 0.0387, 0.0387, 0.0387, 0.0387, 0.0387, 0.0387, 0.0387, 0.0387, 0.0387, 0.0387, 0.0386, 0.0386, 0.0386, 0.0386, 0.0386, 0.0386, 0.0385, 0.0386, 0.0385, 0.0386, 0.0384, 0.0381, 0.0383, 0.0384, 0.0382, 0.0378, 0.0382, 0.038, 0.0377, 3.1103, 3.1102, 3.1098, 3.1096, 3.1076, 3.1071, 3.0996, 3.0993, 3.0972, 3.0913, 3.087, 3.0801, 3.0757, 0.1954, 0.1952, 0.1952, 0.1952, 0.195, 0.195, 0.195, 0.195, 0.195, 0.195, 0.195, 0.195, 0.1949, 0.1949, 0.1949, 0.1949, 0.1949, 0.1948, 0.1947, 0.1947, 0.1948, 0.1948, 0.1942, 0.1948, 0.1945, 0.1943, 0.1946, 3.2042, 3.2023, 3.1914, 3.1899, 3.1831, 3.1732, 3.1602, 3.1594, 0.2893, 0.2893, 0.2893, 0.2892, 0.2892, 0.2892, 0.2892, 0.2892, 0.2892, 0.2892, 0.2892, 0.2892, 0.2891, 0.2891, 0.2891, 0.2891, 0.2891, 0.2891, 0.2891, 0.2891, 0.2891, 0.2891, 0.2891, 0.289, 0.2889, 0.2891, 0.289, 0.289, 0.2889, 0.2884, 0.2885, 0.2886, 0.2887, 0.2886, 3.3616, 3.3613, 3.3612, 3.3597, 3.3587, 3.3569, 3.3552, 3.3496, 3.3435, 3.3355, 3.3315, 3.3299, 3.3288, 3.3259, 3.2593, 0.4059, 0.4059, 0.4059, 0.4059, 0.4059, 0.4058, 0.4058, 0.4058, 0.4058, 0.4058, 0.4058, 0.4058, 0.4058, 0.4058, 0.4058, 0.4058, 0.4058, 0.4056, 0.4056, 0.4057, 0.4052, 0.4054, 0.4056, 0.405, 0.4055, 3.3623, 3.3614, 3.3613, 3.3582, 3.3573, 3.3562, 3.3554, 3.3522, 3.3515, 3.3502, 3.3495, 3.3466, 3.3457, 3.3418, 3.3409, 3.3366, 3.3263, 3.2542, 3.2361, 2.8776, 0.3432, 0.3431, 0.3431, 0.343, 0.3428, 0.3428, 0.3428, 0.3428, 0.3428, 0.3427, 0.3427, 0.3425, 0.3426, 3.3751, 3.3702, 3.3702, 3.3685, 3.3679, 3.3575, 3.3397, 3.2893, 0.2971, 0.2971, 0.297, 0.297, 0.297, 0.297, 0.297, 0.297, 0.297, 0.2969, 0.2969, 0.2969, 0.2969, 0.2969, 0.2969, 0.2969, 0.2969, 0.2969, 0.2969, 0.2969, 0.2969, 0.2969, 0.2969, 0.2968, 0.2969, 0.2967, 0.2968, 0.2965, 0.2967, 0.2965, 0.2967, 0.296, 0.2966, 0.2965, 0.2964, 3.3801, 3.3799, 3.3769, 3.3734, 3.373, 3.3667, 3.3538, 3.3536, 3.3521, 3.3513, 3.3126, 3.2899, 3.2802, 3.2369, 3.0684, 2.7738, 2.6351, 0.0671, 0.0668, 0.0667, 0.0667, 0.0666, 0.0666, 0.0665, 0.0665, 0.0665, 0.0664, 0.0664, 0.0664, 0.0663, 0.0663, 0.066, 0.0658, 3.5651, 3.5613, 3.5609, 3.5606, 3.5604, 3.5595, 3.5541, 3.5537, 3.5522, 3.5518, 3.5444, 3.5012, 0.4168, 0.4167, 0.4167, 0.4167, 0.4167, 0.4167, 0.4167, 0.4166, 0.4166, 0.4166, 0.4166, 0.4166, 0.4166, 0.4166, 0.4166, 0.4166, 0.4166, 0.4166, 0.4166, 0.4166, 0.4165, 0.4164, 0.4165, 0.416, 0.4163, 0.4158, 0.4165, 0.4162, 0.4163, 0.4164, 3.5901, 3.5866, 3.584, 3.5808, 3.5786, 3.5784, 3.5755, 3.5749, 3.5422, 3.5318, 3.5283, 3.4136, 2.6836, 0.6089, 0.6089, 0.6088, 0.6088, 0.6088, 0.6088, 0.6088, 0.6088, 0.6088, 0.6087, 0.6087, 0.6087, 0.6087, 0.6087, 0.6087, 0.6087, 0.6087, 0.6087, 0.6084, 0.6085, 0.6085, 0.6085, 0.6086, 0.6079, 0.608, 3.7769, 3.7764, 3.7667, 3.7656, 3.7627, 3.7532, 3.7282, 0.6703, 0.6701, 0.67, 0.67, 0.67, 0.67, 0.67, 0.67, 0.6699, 0.6699, 0.6699, 0.6699, 0.6699, 0.6698, 0.6698, 0.6698, 0.6698, 0.6698, 0.6698, 0.6698, 0.6698, 0.6698, 0.6698, 0.6698, 0.6697, 0.6697, 0.6693, 0.6697, 0.6695, 0.6697, 0.6693, 0.6689, 0.6695, 4.008, 4.0032, 4.0019, 0.8141, 0.8141, 0.8141, 0.814, 0.814, 0.814, 0.814, 0.814, 0.814, 0.814, 0.814, 0.814, 0.814, 0.814, 0.814, 0.8139, 0.8139, 0.8139, 0.8139, 0.8139, 0.8139, 0.8138, 0.8138, 0.8138, 0.8138, 0.8138, 0.8138, 0.8138, 0.8138, 0.8137, 0.8137, 0.8138, 0.8137, 0.8135, 0.8137, 0.8132, 0.813, 0.8136, 0.8133, 0.8134, 4.0492, 4.0452, 4.0441, 4.0434, 4.0424, 3.6631, 0.7655, 0.7655, 0.7655, 0.7655, 0.7655, 0.7655, 0.7655, 0.7654, 0.7654, 0.7654, 0.7654, 0.7654, 0.7654, 0.7654, 0.7653, 0.7653, 0.7653, 0.7653, 0.7653, 0.7653, 0.7653, 0.7653, 0.7653, 0.7653, 0.7652, 0.7652, 0.765, 0.7647, 0.7651, 0.7652, 0.7652, 4.4113, 4.4071, 4.3987, 0.6362, 0.6362, 0.6361, 0.6361, 0.6361, 0.6361, 0.636, 0.636, 0.636, 0.636, 0.636, 0.636, 0.6359, 0.6359, 0.6359, 0.6359, 0.6359, 0.6359, 0.6359, 0.6358, 0.6358, 0.6358, 0.6358, 0.6358, 0.6358, 0.6358, 0.6357, 0.6357, 0.6351, 0.6356]}, \"token.table\": {\"Topic\": [1, 9, 6, 15, 1, 9, 14, 6, 12, 14, 19, 10, 12, 6, 1, 19, 8, 17, 7, 20, 15, 6, 1, 12, 1, 6, 16, 1, 13, 18, 14, 7, 10, 16, 4, 14, 9, 4, 6, 11, 11, 20, 3, 11, 5, 19, 3, 15, 2, 12, 14, 3, 1, 18, 14, 2, 2, 12, 14, 11, 15, 1, 17, 12, 9, 2, 5, 3, 16, 12, 7, 11, 15, 15, 5, 4, 7, 4, 2, 3, 5, 15, 9, 16, 14, 7, 7, 16, 6, 8, 2, 6, 14, 1, 13, 3, 16, 2, 19, 8, 16, 5, 12, 15, 3, 12, 16, 4, 3, 11, 2, 14, 6, 16, 4, 1, 2, 18, 13, 17, 1, 3, 10, 5, 4, 8, 12, 17, 1, 3, 7, 14, 4, 3, 12, 16, 1, 3, 12, 14, 13, 2, 9, 11, 17, 9, 15, 10, 8, 10, 4, 7, 8, 19, 16, 11, 11, 1, 10, 1, 11, 2, 12, 3, 14, 13, 3, 13, 5, 15, 4, 7, 14, 7, 14, 15, 12, 5, 9, 9, 15, 13, 14, 8, 1, 12, 7, 7, 6, 6, 11, 12, 10, 17, 10, 11, 3, 17, 16, 3, 12, 6, 7, 7, 7, 6, 12, 12, 4, 12, 11, 9, 6, 1, 11, 19, 14, 8, 16, 2, 9, 9, 1, 2, 9, 7, 20, 2, 3, 11, 13, 4, 4, 6, 6], \"Freq\": [0.9699945009060442, 0.964652744755195, 0.9958639441476177, 0.9843471786197454, 0.95420168444561, 0.9706408219063006, 0.9722517285900829, 0.9713551192351603, 0.9788921509724396, 0.9405769038086479, 0.727128903043274, 0.9604214066069041, 0.9746315730155843, 0.9976201243352181, 0.9947591097620386, 0.9896991420744073, 0.9944210088467463, 0.9809582085364537, 0.9881778408183302, 0.9956123770570935, 0.9907202754018113, 0.9966444024044222, 0.9988732175733268, 0.9947583171302619, 0.9951597399713711, 0.9974525643525336, 0.9832022088558225, 0.988283362170096, 0.9846571854767656, 0.992563195789681, 0.913011204418738, 0.9763002998674347, 0.9989107007663768, 0.2716312739016898, 0.9652315776099224, 0.9975145539632588, 0.9794290574863458, 0.9910920521033361, 0.9970821098888375, 0.9940824671620602, 0.9801936933685306, 0.9925981479896139, 0.9973331131489119, 0.9950821425368684, 0.9878269563270311, 0.9869487086719735, 0.9973744827403901, 0.9911877356916509, 0.9990143470549482, 0.8977086996661587, 0.9732548881190903, 0.9863343115714674, 0.9641033799492111, 0.9964454143623437, 0.9917655391505554, 0.808690306296483, 0.8981984352786176, 0.9862132581819967, 0.9654329321243267, 0.9643142291425916, 0.9903848669515288, 0.9851854421243463, 0.9879688249566254, 0.9772198622796741, 0.982865804058214, 0.9925387964824544, 0.8966379417832213, 0.9969795841033201, 0.9907288512535997, 0.9759308451822853, 0.9618125175650347, 0.9803698740098472, 0.9954659964920155, 0.9857499666317413, 0.993736892860095, 0.9990825221192994, 0.9963032211677609, 0.9891053566442006, 0.9891393434903107, 0.9926771510875831, 0.9628139813917108, 0.9853959415571064, 0.9963279173122674, 0.9972340518552847, 0.4716942794008208, 0.9875453950666816, 0.9922168036597221, 0.950835088156433, 0.9936989604362818, 0.9937036338203282, 0.9970117141803473, 0.9672431681586288, 0.9902636474903533, 0.9969480227982662, 0.9943641982814497, 0.9935234414045637, 0.9947229559322696, 0.9948521153328437, 0.9904933241860909, 0.9728888893249916, 0.9843438127316572, 0.8024330728894091, 0.9834450892779651, 0.9791431197023616, 0.982903558225851, 0.9935948382333147, 0.9847768854264431, 0.9826878200435837, 0.9976077573599996, 0.9952583913504486, 0.894852365674264, 0.8509657119040048, 0.9897486467232073, 0.9788041255094793, 0.9930148711453992, 0.9833853982078492, 0.992983541037946, 0.9906084896931402, 0.9984301144918576, 0.9882876868839207, 0.9931681952793884, 0.9954940575443156, 0.9969155425069747, 0.9783488159437662, 0.9915976689623959, 0.9980313786320189, 0.9780532163853628, 0.9969184652872326, 0.998923293684893, 0.9842946075341139, 0.9715659952931947, 0.983268472071006, 0.9962170124201988, 0.9983644969107023, 0.8794499417419728, 0.985205850916359, 0.9974436192757099, 0.9775974899097519, 0.9892388454631363, 0.9688087611207478, 0.9661469341307996, 0.9910730642719535, 0.9969883395353988, 0.9910051736523452, 0.9699076480668101, 0.993335564234938, 0.9907315166179986, 0.9633017927813093, 0.9971287720237505, 0.980379682909926, 0.9968947337223505, 0.9767528917915325, 0.9924814834661311, 0.9941418155853898, 0.946847231972895, 0.9699235610253464, 0.8812018593526415, 0.9966806670351246, 0.9869294864429163, 0.9893279042225032, 0.9902437468629796, 0.9977048609609888, 0.9929250650732263, 0.9710537654327909, 0.994237015077625, 0.908118656613192, 0.9855699473310022, 0.9936942239294019, 0.972693278843521, 0.9692989797964052, 0.996171864867544, 0.9908576189492849, 0.6128943417276889, 0.9702297937685774, 0.9970101093841429, 0.929511568510394, 0.9666867542874503, 0.9995906439798782, 0.9960899166712397, 0.9858809636758255, 0.9898412419743304, 0.9905060142238462, 0.9168857728161749, 0.9966105879061511, 0.9921728836299053, 0.9707446954313361, 0.9932991363572004, 0.9877047671260568, 0.9893824228695293, 0.9916318392988223, 0.9661878744610827, 0.9870404773100682, 0.9656499930531669, 0.9950323230549433, 0.983856211288782, 0.9647502506361955, 0.9970114734660314, 0.9481274127336401, 0.954821334839217, 0.9899154508758394, 0.9871249387194484, 0.9695416432889215, 0.9954249927359322, 0.9910290747527057, 0.9796937509108553, 0.9937484469949497, 0.9871788321709604, 0.9857577359473332, 0.9972992992082602, 0.5276952178902906, 0.9603378956148443, 0.9744490247743727, 0.9342612430228133, 0.9997642855415193, 0.9916339813833228, 0.9868659757089799, 0.7249548101454046, 0.9953920466423002, 0.823218599608793, 0.9945045777628524, 0.9871446461725016, 0.9956081442117907, 0.9943012850350701, 0.9983946046652418, 0.9931196898908449, 0.9968812909893995, 0.9866868854458953, 0.9963947954145568, 0.977307276734353, 0.9934160216184025, 0.9910565846276682, 0.9445103868060989, 0.9979274828046674, 0.9896155534767843, 0.9902669888360175], \"Term\": [\"abortion\", \"access\", \"accuse\", \"act\", \"add\", \"address\", \"agency\", \"agree\", \"ahead\", \"airline\", \"alleged\", \"ally\", \"almost\", \"analysis\", \"approve\", \"arrest\", \"attack\", \"attempt\", \"away\", \"back\", \"bad\", \"become\", \"biden\", \"big\", \"bill\", \"black\", \"body\", \"border\", \"boy\", \"break\", \"building\", \"buy\", \"call\", \"camera\", \"car\", \"case\", \"celebrate\", \"change\", \"charge\", \"child\", \"chinese\", \"city\", \"claim\", \"come\", \"company\", \"concern\", \"could\", \"couple\", \"covid\", \"credit\", \"criminal\", \"criticism\", \"damage\", \"day\", \"delay\", \"disease\", \"divide\", \"doctor\", \"dozen\", \"drive\", \"drop\", \"drug\", \"end\", \"enough\", \"evidence\", \"expert\", \"eye\", \"face\", \"fail\", \"failure\", \"fed\", \"female\", \"find\", \"fine\", \"fire\", \"first\", \"former\", \"free\", \"friend\", \"full\", \"gas\", \"girl\", \"give\", \"go\", \"guilty\", \"gun\", \"handle\", \"happen\", \"history\", \"home\", \"honor\", \"huge\", \"issue\", \"job\", \"join\", \"keep\", \"know\", \"last\", \"late\", \"launch\", \"lawmaker\", \"leak\", \"learn\", \"least\", \"level\", \"lie\", \"low\", \"major\", \"make\", \"man\", \"marriage\", \"medium\", \"member\", \"mile\", \"military\", \"miss\", \"month\", \"need\", \"new\", \"offer\", \"office\", \"officer\", \"official\", \"oil\", \"open\", \"opinion\", \"oppose\", \"order\", \"pandemic\", \"panel\", \"parent\", \"patient\", \"pay\", \"people\", \"performance\", \"place\", \"plan\", \"play\", \"player\", \"plead\", \"politic\", \"political\", \"poll\", \"power\", \"probe\", \"prosecutor\", \"protect\", \"protection\", \"protester\", \"provide\", \"public\", \"racism\", \"racist\", \"raise\", \"rate\", \"reach\", \"real\", \"record\", \"reject\", \"remain\", \"remark\", \"report\", \"republican\", \"request\", \"require\", \"rescue\", \"resign\", \"response\", \"responsible\", \"restore\", \"return\", \"right\", \"rioter\", \"rip\", \"rule\", \"ruling\", \"safety\", \"say\", \"see\", \"seek\", \"send\", \"set\", \"several\", \"show\", \"slam\", \"space\", \"speak\", \"stay\", \"step\", \"still\", \"story\", \"strip\", \"strong\", \"student\", \"study\", \"study_find\", \"support\", \"supreme_court\", \"suspect\", \"suspend\", \"team\", \"teen\", \"tell\", \"test\", \"thing\", \"threat\", \"throw\", \"tie\", \"time\", \"title\", \"together\", \"trial\", \"trip\", \"trump\", \"try\", \"turn\", \"unveil\", \"use\", \"vaccination\", \"vaccine\", \"violence\", \"virus\", \"visit\", \"vote\", \"voting\", \"want\", \"watch\", \"way\", \"weekend\", \"white\", \"worker\", \"worth\", \"year\", \"year_old\", \"young\"]}, \"R\": 30, \"lambda.step\": 0.01, \"plot.opts\": {\"xlab\": \"PC1\", \"ylab\": \"PC2\"}, \"topic.order\": [14, 5, 2, 19, 15, 7, 12, 9, 8, 16, 11, 13, 1, 10, 6, 17, 18, 20, 3, 4]};\n",
       "\n",
       "function LDAvis_load_lib(url, callback){\n",
       "  var s = document.createElement('script');\n",
       "  s.src = url;\n",
       "  s.async = true;\n",
       "  s.onreadystatechange = s.onload = callback;\n",
       "  s.onerror = function(){console.warn(\"failed to load library \" + url);};\n",
       "  document.getElementsByTagName(\"head\")[0].appendChild(s);\n",
       "}\n",
       "\n",
       "if(typeof(LDAvis) !== \"undefined\"){\n",
       "   // already loaded: just create the visualization\n",
       "   !function(LDAvis){\n",
       "       new LDAvis(\"#\" + \"ldavis_el176541404059900113927020288209\", ldavis_el176541404059900113927020288209_data);\n",
       "   }(LDAvis);\n",
       "}else if(typeof define === \"function\" && define.amd){\n",
       "   // require.js is available: use it to load d3/LDAvis\n",
       "   require.config({paths: {d3: \"https://d3js.org/d3.v5\"}});\n",
       "   require([\"d3\"], function(d3){\n",
       "      window.d3 = d3;\n",
       "      LDAvis_load_lib(\"https://cdn.jsdelivr.net/gh/bmabey/pyLDAvis@3.3.1/pyLDAvis/js/ldavis.v3.0.0.js\", function(){\n",
       "        new LDAvis(\"#\" + \"ldavis_el176541404059900113927020288209\", ldavis_el176541404059900113927020288209_data);\n",
       "      });\n",
       "    });\n",
       "}else{\n",
       "    // require.js not available: dynamically load d3 & LDAvis\n",
       "    LDAvis_load_lib(\"https://d3js.org/d3.v5.js\", function(){\n",
       "         LDAvis_load_lib(\"https://cdn.jsdelivr.net/gh/bmabey/pyLDAvis@3.3.1/pyLDAvis/js/ldavis.v3.0.0.js\", function(){\n",
       "                 new LDAvis(\"#\" + \"ldavis_el176541404059900113927020288209\", ldavis_el176541404059900113927020288209_data);\n",
       "            })\n",
       "         });\n",
       "}\n",
       "</script>"
      ],
      "text/plain": [
       "PreparedData(topic_coordinates=              x         y  topics  cluster       Freq\n",
       "topic                                                \n",
       "13     0.427411  0.168991       1        1  19.524433\n",
       "4      0.039490 -0.043001       2        1   8.724584\n",
       "1      0.064427 -0.111303       3        1   7.714320\n",
       "18     0.094054 -0.350852       4        1   7.276660\n",
       "14     0.039066 -0.042583       5        1   6.582084\n",
       "6      0.045449 -0.055025       6        1   6.424238\n",
       "11    -0.026271  0.023743       7        1   4.494141\n",
       "8      0.001593  0.004757       8        1   4.454308\n",
       "7     -0.027770  0.024355       9        1   4.443704\n",
       "15    -0.040549  0.029878      10        1   4.054937\n",
       "10    -0.056526  0.035736      11        1   3.450280\n",
       "12    -0.049798  0.033763      12        1   3.445390\n",
       "0     -0.041722  0.030371      13        1   3.416338\n",
       "9     -0.005699  0.010903      14        1   3.395451\n",
       "5     -0.057366  0.035909      15        1   2.815496\n",
       "16    -0.075467  0.040152      16        1   2.750321\n",
       "17    -0.079595  0.040745      17        1   2.280517\n",
       "19    -0.088309  0.041740      18        1   1.811070\n",
       "2     -0.085744  0.041530      19        1   1.733373\n",
       "3     -0.076674  0.040189      20        1   1.208357, topic_info=         Term          Freq         Total Category  logprob  loglift\n",
       "19      trump  11131.000000  11131.000000  Default  30.0000  30.0000\n",
       "11        say   5363.000000   5363.000000  Default  29.0000  29.0000\n",
       "14       call   2084.000000   2084.000000  Default  28.0000  28.0000\n",
       "74      covid   2314.000000   2314.000000  Default  27.0000  27.0000\n",
       "150     first   2101.000000   2101.000000  Default  26.0000  26.0000\n",
       "...       ...           ...           ...      ...      ...      ...\n",
       "559   federal      0.052892      2.317808  Topic20 -10.1275   0.6358\n",
       "8324     bike      0.052861      2.316531  Topic20 -10.1281   0.6357\n",
       "568      push      0.052871      2.316994  Topic20 -10.1279   0.6357\n",
       "660    school      0.052883      2.319057  Topic20 -10.1276   0.6351\n",
       "917    speech      0.052868      2.317074  Topic20 -10.1279   0.6356\n",
       "\n",
       "[791 rows x 6 columns], token_table=      Topic      Freq      Term\n",
       "term                           \n",
       "351       1  0.969995  abortion\n",
       "318       9  0.964653    access\n",
       "161       6  0.995864    accuse\n",
       "286      15  0.984347       act\n",
       "352       1  0.954202       add\n",
       "...     ...       ...       ...\n",
       "179      13  0.991057    worker\n",
       "206       4  0.944510     worth\n",
       "103       4  0.997927      year\n",
       "148       6  0.989616  year_old\n",
       "149       6  0.990267     young\n",
       "\n",
       "[235 rows x 3 columns], R=30, lambda_step=0.01, plot_opts={'xlab': 'PC1', 'ylab': 'PC2'}, topic_order=[14, 5, 2, 19, 15, 7, 12, 9, 8, 16, 11, 13, 1, 10, 6, 17, 18, 20, 3, 4])"
      ]
     },
     "execution_count": 28,
     "metadata": {},
     "output_type": "execute_result"
    }
   ],
   "source": [
    "# Visualize the topics\n",
    "pyLDAvis.enable_notebook()\n",
    "vis = pyLDAvis.gensim_models.prepare(lda_model, corpus, id2word)\n",
    "vis"
   ]
  },
  {
   "cell_type": "markdown",
   "metadata": {
    "id": "lvtNAgXwJMFD"
   },
   "source": [
    "Each bubble on the left-hand side plot represents a topic. The larger the bubble, the more prevalent is that topic.\n",
    "\n",
    "A good topic model will have fairly big, non-overlapping bubbles scattered throughout the chart instead of being clustered in one quadrant.\n",
    "\n",
    "A model with too many topics, will typically have many overlaps, small sized bubbles clustered in one region of the chart."
   ]
  },
  {
   "cell_type": "markdown",
   "metadata": {
    "id": "wKDDvZbFJMFE"
   },
   "source": [
    "<div class=\"alert alert-info\" style=\"background-color:#5d3a8e; color:white; padding:0px 10px; border-radius:5px;\"><h2 style='margin:10px 5px'> Building LDA Mallet Model</h2>\n",
    "</div>\n",
    "\n",
    "Using Mallet for a better quality of topics.\n",
    "\n",
    "Gensim provides a wrapper to implement Mallet's LDA from within gensim itself. We'll [download](http://mallet.cs.umass.edu/dist/mallet-2.0.8.zip) the zipfile, unzip it and provide the path to mallet in the unzipped directory to `gensim.models.wrappers.LdaMallet`."
   ]
  },
  {
   "cell_type": "code",
   "execution_count": 29,
   "metadata": {},
   "outputs": [],
   "source": [
    "import os\n",
    "os.environ.update({'MALLET_HOME':r'/Users/a206679878/Documents/Untitled Folder/mallet-2.0.8'})"
   ]
  },
  {
   "cell_type": "code",
   "execution_count": 30,
   "metadata": {},
   "outputs": [],
   "source": [
    "import os\n",
    "from gensim.models.wrappers import LdaMallet"
   ]
  },
  {
   "cell_type": "code",
   "execution_count": 31,
   "metadata": {
    "id": "axMNiS5wJMFE"
   },
   "outputs": [],
   "source": [
    "import os\n",
    "os.environ.update({'MALLET_HOME': r'/Users/a206679878/Documents/mallet-2.0.8'})\n",
    "mallet_path = '/Users/a206679878/Documents/mallet-2.0.8/bin/mallet'  # update this path\n",
    "ldamallet = gensim.models.wrappers.LdaMallet(mallet_path, corpus=corpus, num_topics=20, id2word=id2word)"
   ]
  },
  {
   "cell_type": "code",
   "execution_count": 32,
   "metadata": {
    "id": "vkmCE0EzJMFF"
   },
   "outputs": [
    {
     "name": "stdout",
     "output_type": "stream",
     "text": [
      "[(10,\n",
      "  [('trump', 0.17915504184934236),\n",
      "   ('analysis', 0.03965723395775209),\n",
      "   ('back', 0.03308090872857712),\n",
      "   ('fight', 0.03268234356317258),\n",
      "   ('impeachment', 0.0296931048226385),\n",
      "   ('lie', 0.02510960542048625),\n",
      "   ('court', 0.024910322837783976),\n",
      "   ('american', 0.021522518931845355),\n",
      "   ('turn', 0.018931845356715823),\n",
      "   ('threat', 0.01654045436428856)]),\n",
      " (11,\n",
      "  [('covid', 0.20630202140309156),\n",
      "   ('vaccine', 0.1403091557669441),\n",
      "   ('world', 0.030122869599682918),\n",
      "   ('offer', 0.022988505747126436),\n",
      "   ('dose', 0.02100673801030519),\n",
      "   ('receive', 0.020214030915576695),\n",
      "   ('vaccination', 0.019817677368212445),\n",
      "   ('protect', 0.017637732857709077),\n",
      "   ('administration', 0.01605231866825208),\n",
      "   ('vaccinate', 0.014863258026159334)]),\n",
      " (8,\n",
      "  [('mask', 0.06119925819080981),\n",
      "   ('face', 0.05378116628889347),\n",
      "   ('wear', 0.02637543787348032),\n",
      "   ('protester', 0.024933031114774365),\n",
      "   ('refuse', 0.024933031114774365),\n",
      "   ('public', 0.023490624356068412),\n",
      "   ('require', 0.020399752730269935),\n",
      "   ('investigate', 0.019575520296723676),\n",
      "   ('power', 0.018751287863177417),\n",
      "   ('violence', 0.018339171646404286)]),\n",
      " (15,\n",
      "  [('year', 0.09398797595190381),\n",
      "   ('time', 0.06973947895791584),\n",
      "   ('man', 0.05811623246492986),\n",
      "   ('die', 0.04088176352705411),\n",
      "   ('long', 0.0312625250501002),\n",
      "   ('kill', 0.031062124248496994),\n",
      "   ('year_old', 0.01963927855711423),\n",
      "   ('sentence', 0.01903807615230461),\n",
      "   ('murder', 0.018637274549098196),\n",
      "   ('free', 0.015831663326653308)]),\n",
      " (2,\n",
      "  [('state', 0.06840665123131973),\n",
      "   ('police', 0.06293411913281415),\n",
      "   ('video', 0.03451904862134288),\n",
      "   ('sue', 0.031361818564512735),\n",
      "   ('show', 0.029046516522837296),\n",
      "   ('chief', 0.027994106503893917),\n",
      "   ('company', 0.02146916438644496),\n",
      "   ('deal', 0.021258682382656283),\n",
      "   ('gun', 0.018311934329614817),\n",
      "   ('policy', 0.017890970322037465)]),\n",
      " (4,\n",
      "  [('election', 0.181010101010101),\n",
      "   ('win', 0.06707070707070707),\n",
      "   ('presidential', 0.04464646464646465),\n",
      "   ('result', 0.036565656565656565),\n",
      "   ('live', 0.03333333333333333),\n",
      "   ('race', 0.0298989898989899),\n",
      "   ('effort', 0.028282828282828285),\n",
      "   ('reject', 0.028282828282828285),\n",
      "   ('suspend', 0.026060606060606062),\n",
      "   ('victory', 0.025050505050505052)]),\n",
      " (19,\n",
      "  [('opinion', 0.09183886453767481),\n",
      "   ('attack', 0.036944270507201005),\n",
      "   ('lose', 0.03506574827802129),\n",
      "   ('group', 0.029221456898351074),\n",
      "   ('nation', 0.022333542058025464),\n",
      "   ('city', 0.019828845752452515),\n",
      "   ('late', 0.01878522229179712),\n",
      "   ('address', 0.017741598831141726),\n",
      "   ('blast', 0.015236902525568774),\n",
      "   ('book', 0.014610728449175537)]),\n",
      " (7,\n",
      "  [('official', 0.06688755435908056),\n",
      "   ('death', 0.043487264443984264),\n",
      "   ('report', 0.04307310002070822),\n",
      "   ('fire', 0.037896044729757716),\n",
      "   ('member', 0.03023400289915096),\n",
      "   ('warn', 0.03002692068751294),\n",
      "   ('week', 0.02981983847587492),\n",
      "   ('top', 0.029405674052598883),\n",
      "   ('call', 0.02712776972458066),\n",
      "   ('honor', 0.026713605301304618)]),\n",
      " (1,\n",
      "  [('plan', 0.05947271612507664),\n",
      "   ('pay', 0.03903535663192315),\n",
      "   ('move', 0.035561005518087066),\n",
      "   ('worker', 0.032904148783977114),\n",
      "   ('raise', 0.02861230329041488),\n",
      "   ('hit', 0.02534232577151032),\n",
      "   ('tax', 0.02411608420192111),\n",
      "   ('job', 0.023094216227263438),\n",
      "   ('back', 0.022685469037400367),\n",
      "   ('approve', 0.022481095442468832)]),\n",
      " (5,\n",
      "  [('trump', 0.12246569731722302),\n",
      "   ('day', 0.08437436002457506),\n",
      "   ('debate', 0.045463854187999184),\n",
      "   ('leave', 0.04423510137210731),\n",
      "   ('office', 0.030104443989350808),\n",
      "   ('change', 0.024165472045873437),\n",
      "   ('final', 0.02027442146221585),\n",
      "   ('join', 0.018226500102396067),\n",
      "   ('bring', 0.01576899447061233),\n",
      "   ('play', 0.015154618062666393)])]\n",
      "\n",
      "Coherence Score:  0.3992169346463529\n"
     ]
    }
   ],
   "source": [
    "# Show Topics\n",
    "pprint(ldamallet.show_topics(formatted=False))\n",
    "\n",
    "# Compute Coherence Score\n",
    "coherence_model_ldamallet = CoherenceModel(model=ldamallet, texts=data_lemmatized, dictionary=id2word, coherence='c_v')\n",
    "coherence_ldamallet = coherence_model_ldamallet.get_coherence()\n",
    "print('\\nCoherence Score: ', coherence_ldamallet)"
   ]
  },
  {
   "cell_type": "markdown",
   "metadata": {
    "id": "QbLZKoXbJMFG"
   },
   "source": [
    "<div class=\"alert alert-info\" style=\"background-color:#5d3a8e; color:white; padding:0px 10px; border-radius:5px;\"><h2 style='margin:10px 5px'> Finding the optimal number of topics for LDA</h2>\n",
    "</div>"
   ]
  },
  {
   "cell_type": "markdown",
   "metadata": {
    "id": "PFtNpYa_JMFG"
   },
   "source": [
    "The `compute_coherence_values()` (see below) trains multiple LDA models and provides the models and their corresponding coherence scores."
   ]
  },
  {
   "cell_type": "code",
   "execution_count": 33,
   "metadata": {
    "id": "uMFCxJkwJMFG"
   },
   "outputs": [],
   "source": [
    "def compute_coherence_values(dictionary, corpus, texts, limit, start=2, step=3):\n",
    "    \"\"\"\n",
    "    Compute c_v coherence for various number of topics\n",
    "\n",
    "    Parameters:\n",
    "    ----------\n",
    "    dictionary : Gensim dictionary\n",
    "    corpus : Gensim corpus\n",
    "    texts : List of input texts\n",
    "    limit : Max num of topics\n",
    "\n",
    "    Returns:\n",
    "    -------\n",
    "    model_list : List of LDA topic models\n",
    "    coherence_values : Coherence values corresponding to the LDA model with respective number of topics\n",
    "    \"\"\"\n",
    "    coherence_values = []\n",
    "    model_list = []\n",
    "    for num_topics in range(start, limit, step):\n",
    "        model = gensim.models.wrappers.LdaMallet(mallet_path, corpus=corpus, num_topics=num_topics, id2word=id2word)\n",
    "        model_list.append(model)\n",
    "        coherencemodel = CoherenceModel(model=model, texts=texts, dictionary=dictionary, coherence='c_v')\n",
    "        coherence_values.append(coherencemodel.get_coherence())\n",
    "\n",
    "    return model_list, coherence_values"
   ]
  },
  {
   "cell_type": "code",
   "execution_count": 34,
   "metadata": {
    "id": "D0-aktieJMFG"
   },
   "outputs": [],
   "source": [
    "model_list, coherence_values = compute_coherence_values(dictionary=id2word, corpus=corpus, texts=data_lemmatized, start=2, limit=40, step=6)"
   ]
  },
  {
   "cell_type": "code",
   "execution_count": 35,
   "metadata": {
    "id": "RL2BqYroJMFH"
   },
   "outputs": [
    {
     "data": {
      "image/png": "[encoded data removed]",
      "text/plain": [
       "<Figure size 432x288 with 1 Axes>"
      ]
     },
     "metadata": {
      "needs_background": "light"
     },
     "output_type": "display_data"
    }
   ],
   "source": [
    "# Show graph\n",
    "limit=40; start=2; step=6;\n",
    "x = range(start, limit, step)\n",
    "plt.plot(x, coherence_values)\n",
    "plt.xlabel(\"Num Topics\")\n",
    "plt.ylabel(\"Coherence score\")\n",
    "plt.legend((\"coherence_values\"), loc='best')\n",
    "plt.show()"
   ]
  },
  {
   "cell_type": "code",
   "execution_count": 36,
   "metadata": {
    "id": "SRYNvTVRJMFH"
   },
   "outputs": [
    {
     "name": "stdout",
     "output_type": "stream",
     "text": [
      "Num Topics = 2  has Coherence Value of 0.3061\n",
      "Num Topics = 8  has Coherence Value of 0.3647\n",
      "Num Topics = 14  has Coherence Value of 0.3937\n",
      "Num Topics = 20  has Coherence Value of 0.4017\n",
      "Num Topics = 26  has Coherence Value of 0.4245\n",
      "Num Topics = 32  has Coherence Value of 0.4434\n",
      "Num Topics = 38  has Coherence Value of 0.4559\n"
     ]
    }
   ],
   "source": [
    "# Print the coherence scores\n",
    "for m, cv in zip(x, coherence_values):\n",
    "    print(\"Num Topics =\", m, \" has Coherence Value of\", round(cv, 4))"
   ]
  },
  {
   "cell_type": "markdown",
   "metadata": {
    "id": "JYI58TziJMFI"
   },
   "source": [
    "If the coherence score seems to keep increasing, it may make better sense to pick the model that gave the highest CV before flattening out. This is exactly the case here.\n",
    "\n",
    "So for further steps I will choose the model with 20 topics itself."
   ]
  },
  {
   "cell_type": "code",
   "execution_count": 37,
   "metadata": {
    "id": "JS53wUsOJMFI"
   },
   "outputs": [
    {
     "name": "stdout",
     "output_type": "stream",
     "text": [
      "[(0,\n",
      "  '0.121*\"vote\" + 0.057*\"bill\" + 0.047*\"state\" + 0.032*\"pass\" + 0.032*\"law\" + '\n",
      "  '0.030*\"voting\" + 0.027*\"ballot\" + 0.026*\"sign\" + 0.026*\"relief\" + '\n",
      "  '0.025*\"early\"'),\n",
      " (1,\n",
      "  '0.048*\"support\" + 0.041*\"leader\" + 0.032*\"republican\" + 0.031*\"member\" + '\n",
      "  '0.029*\"group\" + 0.029*\"effort\" + 0.026*\"honor\" + 0.026*\"protester\" + '\n",
      "  '0.024*\"lawmaker\" + 0.021*\"begin\"'),\n",
      " (2,\n",
      "  '0.094*\"year\" + 0.055*\"make\" + 0.038*\"record\" + 0.035*\"history\" + '\n",
      "  '0.028*\"set\" + 0.028*\"return\" + 0.027*\"life\" + 0.026*\"break\" + 0.023*\"tax\" + '\n",
      "  '0.019*\"sentence\"'),\n",
      " (3,\n",
      "  '0.249*\"trump\" + 0.045*\"claim\" + 0.038*\"campaign\" + 0.030*\"sue\" + '\n",
      "  '0.029*\"impeachment\" + 0.028*\"reject\" + 0.024*\"lawsuit\" + 0.023*\"make\" + '\n",
      "  '0.019*\"lawyer\" + 0.018*\"false\"'),\n",
      " (4,\n",
      "  '0.092*\"people\" + 0.073*\"trump\" + 0.038*\"coronavirus\" + 0.036*\"lose\" + '\n",
      "  '0.031*\"urge\" + 0.031*\"case\" + 0.027*\"hold\" + 0.027*\"suspend\" + 0.022*\"send\" '\n",
      "  '+ 0.018*\"twitter\"'),\n",
      " (5,\n",
      "  '0.045*\"order\" + 0.029*\"fight\" + 0.026*\"court\" + 0.025*\"seek\" + 0.023*\"end\" '\n",
      "  '+ 0.022*\"nation\" + 0.022*\"release\" + 0.021*\"issue\" + 0.020*\"expect\" + '\n",
      "  '0.018*\"policy\"'),\n",
      " (6,\n",
      "  '0.052*\"analysis\" + 0.041*\"move\" + 0.041*\"remove\" + 0.039*\"school\" + '\n",
      "  '0.037*\"work\" + 0.031*\"office\" + 0.026*\"month\" + 0.022*\"american\" + '\n",
      "  '0.022*\"run\" + 0.021*\"end\"'),\n",
      " (7,\n",
      "  '0.183*\"election\" + 0.045*\"presidential\" + 0.039*\"debate\" + 0.037*\"result\" + '\n",
      "  '0.036*\"state\" + 0.030*\"live\" + 0.025*\"victory\" + 0.025*\"change\" + '\n",
      "  '0.022*\"democratic\" + 0.021*\"senator\"'),\n",
      " (8,\n",
      "  '0.050*\"find\" + 0.044*\"voter\" + 0.041*\"back\" + 0.038*\"poll\" + 0.037*\"child\" '\n",
      "  '+ 0.030*\"student\" + 0.023*\"job\" + 0.022*\"fall\" + 0.020*\"percent\" + '\n",
      "  '0.019*\"late\"'),\n",
      " (9,\n",
      "  '0.061*\"police\" + 0.052*\"die\" + 0.050*\"officer\" + 0.050*\"family\" + '\n",
      "  '0.038*\"fire\" + 0.029*\"home\" + 0.027*\"chief\" + 0.025*\"resign\" + '\n",
      "  '0.021*\"year_old\" + 0.020*\"pick\"'),\n",
      " (10,\n",
      "  '0.095*\"woman\" + 0.061*\"man\" + 0.049*\"arrest\" + 0.035*\"pay\" + 0.031*\"turn\" + '\n",
      "  '0.018*\"free\" + 0.016*\"thousand\" + 0.016*\"play\" + 0.015*\"female\" + '\n",
      "  '0.014*\"dead\"'),\n",
      " (11,\n",
      "  '0.152*\"call\" + 0.065*\"official\" + 0.058*\"trump\" + 0.053*\"report\" + '\n",
      "  '0.028*\"top\" + 0.028*\"open\" + 0.025*\"case\" + 0.023*\"prosecutor\" + '\n",
      "  '0.021*\"investigation\" + 0.017*\"celebrate\"'),\n",
      " (12,\n",
      "  '0.070*\"win\" + 0.052*\"rule\" + 0.049*\"federal\" + 0.031*\"race\" + '\n",
      "  '0.024*\"protest\" + 0.022*\"company\" + 0.022*\"trial\" + 0.019*\"stand\" + '\n",
      "  '0.019*\"head\" + 0.019*\"judge\"'),\n",
      " (13,\n",
      "  '0.074*\"black\" + 0.065*\"trump\" + 0.062*\"show\" + 0.039*\"stop\" + 0.034*\"video\" '\n",
      "  '+ 0.030*\"give\" + 0.022*\"campaign\" + 0.022*\"post\" + 0.021*\"ad\" + '\n",
      "  '0.016*\"talk\"'),\n",
      " (14,\n",
      "  '0.201*\"covid\" + 0.137*\"vaccine\" + 0.030*\"worker\" + 0.025*\"world\" + '\n",
      "  '0.023*\"offer\" + 0.020*\"dose\" + 0.020*\"receive\" + 0.019*\"vaccination\" + '\n",
      "  '0.018*\"vaccinate\" + 0.016*\"protect\"'),\n",
      " (15,\n",
      "  '0.297*\"biden\" + 0.058*\"plan\" + 0.042*\"announce\" + 0.042*\"president\" + '\n",
      "  '0.025*\"ahead\" + 0.024*\"inauguration\" + 0.022*\"team\" + 0.022*\"endorse\" + '\n",
      "  '0.018*\"transition\" + 0.018*\"gun\"'),\n",
      " (16,\n",
      "  '0.187*\"trump\" + 0.100*\"opinion\" + 0.054*\"lead\" + 0.039*\"attack\" + '\n",
      "  '0.031*\"lie\" + 0.024*\"big\" + 0.021*\"country\" + 0.021*\"bad\" + '\n",
      "  '0.019*\"national\" + 0.017*\"capitol\"'),\n",
      " (17,\n",
      "  '0.061*\"mask\" + 0.044*\"leave\" + 0.034*\"ban\" + 0.032*\"long\" + 0.026*\"virus\" + '\n",
      "  '0.026*\"wear\" + 0.025*\"test\" + 0.025*\"refuse\" + 0.024*\"public\" + '\n",
      "  '0.020*\"require\"'),\n",
      " (18,\n",
      "  '0.086*\"charge\" + 0.053*\"face\" + 0.043*\"death\" + 0.033*\"kill\" + '\n",
      "  '0.031*\"speech\" + 0.027*\"shoot\" + 0.024*\"accuse\" + 0.019*\"murder\" + '\n",
      "  '0.019*\"violence\" + 0.018*\"watch\"'),\n",
      " (19,\n",
      "  '0.084*\"day\" + 0.066*\"time\" + 0.065*\"pandemic\" + 0.029*\"week\" + 0.028*\"warn\" '\n",
      "  '+ 0.026*\"close\" + 0.026*\"hit\" + 0.022*\"start\" + 0.019*\"high\" + '\n",
      "  '0.016*\"back\"')]\n"
     ]
    }
   ],
   "source": [
    "# Select the model and print the topics\n",
    "optimal_model = model_list[3]\n",
    "model_topics = optimal_model.show_topics(formatted=False)\n",
    "pprint(optimal_model.print_topics(num_words=10))"
   ]
  },
  {
   "cell_type": "markdown",
   "metadata": {
    "id": "aqEb9HL-JMFI"
   },
   "source": [
    "Those were the topics for the chosen LDA model."
   ]
  },
  {
   "cell_type": "markdown",
   "metadata": {
    "id": "8elTXI8hJMFJ"
   },
   "source": [
    "<div class=\"alert alert-info\" style=\"background-color:#5d3a8e; color:white; padding:0px 10px; border-radius:5px;\"><h2 style='margin:10px 5px'> Finding the dominant topic in each sentence</h2>\n",
    "</div>\n",
    "\n",
    "Determine what topic a given document is about.\n",
    "\n",
    "The topic number that has the highest percentage contribution in that document is what we call out here."
   ]
  },
  {
   "cell_type": "code",
   "execution_count": 38,
   "metadata": {
    "id": "2va-5pS2JMFJ"
   },
   "outputs": [
    {
     "data": {
      "text/html": [
       "<div>\n",
       "<style scoped>\n",
       "    .dataframe tbody tr th:only-of-type {\n",
       "        vertical-align: middle;\n",
       "    }\n",
       "\n",
       "    .dataframe tbody tr th {\n",
       "        vertical-align: top;\n",
       "    }\n",
       "\n",
       "    .dataframe thead th {\n",
       "        text-align: right;\n",
       "    }\n",
       "</style>\n",
       "<table border=\"1\" class=\"dataframe\">\n",
       "  <thead>\n",
       "    <tr style=\"text-align: right;\">\n",
       "      <th></th>\n",
       "      <th>Document_No</th>\n",
       "      <th>Dominant_Topic</th>\n",
       "      <th>Topic_Perc_Contrib</th>\n",
       "      <th>Keywords</th>\n",
       "      <th>Text</th>\n",
       "    </tr>\n",
       "  </thead>\n",
       "  <tbody>\n",
       "    <tr>\n",
       "      <th>0</th>\n",
       "      <td>0</td>\n",
       "      <td>9.0</td>\n",
       "      <td>0.0789</td>\n",
       "      <td>police, die, officer, family, fire, home, chie...</td>\n",
       "      <td>WATCH: 100 protesters show up at home of man w...</td>\n",
       "    </tr>\n",
       "    <tr>\n",
       "      <th>1</th>\n",
       "      <td>1</td>\n",
       "      <td>1.0</td>\n",
       "      <td>0.0660</td>\n",
       "      <td>support, leader, republican, member, group, ef...</td>\n",
       "      <td>Kinzinger says he suspects some lawmakers knew...</td>\n",
       "    </tr>\n",
       "    <tr>\n",
       "      <th>2</th>\n",
       "      <td>2</td>\n",
       "      <td>11.0</td>\n",
       "      <td>0.0843</td>\n",
       "      <td>call, official, trump, report, top, open, case...</td>\n",
       "      <td>Maricopa County official on rejecting Trump al...</td>\n",
       "    </tr>\n",
       "    <tr>\n",
       "      <th>3</th>\n",
       "      <td>3</td>\n",
       "      <td>10.0</td>\n",
       "      <td>0.0804</td>\n",
       "      <td>woman, man, arrest, pay, turn, free, thousand,...</td>\n",
       "      <td>A man who went on a racist rant gave out his a...</td>\n",
       "    </tr>\n",
       "    <tr>\n",
       "      <th>4</th>\n",
       "      <td>4</td>\n",
       "      <td>5.0</td>\n",
       "      <td>0.0848</td>\n",
       "      <td>order, fight, court, seek, end, nation, releas...</td>\n",
       "      <td>Surfside catastrophe raises concerns about San...</td>\n",
       "    </tr>\n",
       "    <tr>\n",
       "      <th>5</th>\n",
       "      <td>5</td>\n",
       "      <td>0.0</td>\n",
       "      <td>0.0500</td>\n",
       "      <td>vote, bill, state, pass, law, voting, ballot, ...</td>\n",
       "      <td>Blake Shelton and Gwen Stefani are married</td>\n",
       "    </tr>\n",
       "    <tr>\n",
       "      <th>6</th>\n",
       "      <td>6</td>\n",
       "      <td>0.0</td>\n",
       "      <td>0.0500</td>\n",
       "      <td>vote, bill, state, pass, law, voting, ballot, ...</td>\n",
       "      <td>Courteney Cox, Jennifer Aniston and Lisa Kudro...</td>\n",
       "    </tr>\n",
       "    <tr>\n",
       "      <th>7</th>\n",
       "      <td>7</td>\n",
       "      <td>4.0</td>\n",
       "      <td>0.0639</td>\n",
       "      <td>people, trump, coronavirus, lose, urge, case, ...</td>\n",
       "      <td>At least 150 people fatally shot in more than ...</td>\n",
       "    </tr>\n",
       "    <tr>\n",
       "      <th>8</th>\n",
       "      <td>8</td>\n",
       "      <td>13.0</td>\n",
       "      <td>0.0744</td>\n",
       "      <td>black, trump, show, stop, video, give, campaig...</td>\n",
       "      <td>Vanessa Williams and PBS slammed for  Black na...</td>\n",
       "    </tr>\n",
       "    <tr>\n",
       "      <th>9</th>\n",
       "      <td>9</td>\n",
       "      <td>11.0</td>\n",
       "      <td>0.0716</td>\n",
       "      <td>call, official, trump, report, top, open, case...</td>\n",
       "      <td>Trump could be called to testify before House ...</td>\n",
       "    </tr>\n",
       "  </tbody>\n",
       "</table>\n",
       "</div>"
      ],
      "text/plain": [
       "   Document_No  Dominant_Topic  Topic_Perc_Contrib  \\\n",
       "0            0             9.0              0.0789   \n",
       "1            1             1.0              0.0660   \n",
       "2            2            11.0              0.0843   \n",
       "3            3            10.0              0.0804   \n",
       "4            4             5.0              0.0848   \n",
       "5            5             0.0              0.0500   \n",
       "6            6             0.0              0.0500   \n",
       "7            7             4.0              0.0639   \n",
       "8            8            13.0              0.0744   \n",
       "9            9            11.0              0.0716   \n",
       "\n",
       "                                            Keywords  \\\n",
       "0  police, die, officer, family, fire, home, chie...   \n",
       "1  support, leader, republican, member, group, ef...   \n",
       "2  call, official, trump, report, top, open, case...   \n",
       "3  woman, man, arrest, pay, turn, free, thousand,...   \n",
       "4  order, fight, court, seek, end, nation, releas...   \n",
       "5  vote, bill, state, pass, law, voting, ballot, ...   \n",
       "6  vote, bill, state, pass, law, voting, ballot, ...   \n",
       "7  people, trump, coronavirus, lose, urge, case, ...   \n",
       "8  black, trump, show, stop, video, give, campaig...   \n",
       "9  call, official, trump, report, top, open, case...   \n",
       "\n",
       "                                                Text  \n",
       "0  WATCH: 100 protesters show up at home of man w...  \n",
       "1  Kinzinger says he suspects some lawmakers knew...  \n",
       "2  Maricopa County official on rejecting Trump al...  \n",
       "3  A man who went on a racist rant gave out his a...  \n",
       "4  Surfside catastrophe raises concerns about San...  \n",
       "5         Blake Shelton and Gwen Stefani are married  \n",
       "6  Courteney Cox, Jennifer Aniston and Lisa Kudro...  \n",
       "7  At least 150 people fatally shot in more than ...  \n",
       "8  Vanessa Williams and PBS slammed for  Black na...  \n",
       "9  Trump could be called to testify before House ...  "
      ]
     },
     "execution_count": 38,
     "metadata": {},
     "output_type": "execute_result"
    }
   ],
   "source": [
    "def format_topics_sentences(ldamodel=lda_model, corpus=corpus, texts=data):\n",
    "    # Init output\n",
    "    sent_topics_df = pd.DataFrame()\n",
    "\n",
    "    # Get main topic in each document\n",
    "    for i, row in enumerate(ldamodel[corpus]):\n",
    "        row = sorted(row, key=lambda x: (x[1]), reverse=True)\n",
    "        # Get the Dominant topic, Perc Contribution and Keywords for each document\n",
    "        for j, (topic_num, prop_topic) in enumerate(row):\n",
    "            if j == 0:  # => dominant topic\n",
    "                wp = ldamodel.show_topic(topic_num)\n",
    "                topic_keywords = \", \".join([word for word, prop in wp])\n",
    "                sent_topics_df = sent_topics_df.append(pd.Series([int(topic_num), round(prop_topic,4), topic_keywords]), ignore_index=True)\n",
    "            else:\n",
    "                break\n",
    "    sent_topics_df.columns = ['Dominant_Topic', 'Perc_Contribution', 'Topic_Keywords']\n",
    "\n",
    "    # Add original text to the end of the output\n",
    "    contents = pd.Series(texts)\n",
    "    sent_topics_df = pd.concat([sent_topics_df, contents], axis=1)\n",
    "    return(sent_topics_df)\n",
    "\n",
    "\n",
    "df_topic_sents_keywords = format_topics_sentences(ldamodel=optimal_model, corpus=corpus, texts=data)\n",
    "\n",
    "# Format\n",
    "df_dominant_topic = df_topic_sents_keywords.reset_index()\n",
    "df_dominant_topic.columns = ['Document_No', 'Dominant_Topic', 'Topic_Perc_Contrib', 'Keywords', 'Text']\n",
    "\n",
    "# Show\n",
    "df_dominant_topic.head(10)"
   ]
  },
  {
   "cell_type": "markdown",
   "metadata": {
    "id": "SAsfgPE4JMFK"
   },
   "source": [
    "The tabular output above had 20 rows, one each for a topic. It has the topic number, the keywords and the most representative document. The `Perc_Contribution` column is nothing but the percentage contribution of the topic in the given document."
   ]
  },
  {
   "cell_type": "markdown",
   "metadata": {
    "id": "DuzxtBiAJMFL"
   },
   "source": [
    "<div class=\"alert alert-info\" style=\"background-color:#5d3a8e; color:white; padding:0px 10px; border-radius:5px;\"><h2 style='margin:10px 5px'> Topic distribution across documents</h2>\n",
    "</div>"
   ]
  },
  {
   "cell_type": "code",
   "execution_count": 39,
   "metadata": {
    "id": "0cFm7x2wJMFL"
   },
   "outputs": [
    {
     "data": {
      "text/html": [
       "<div>\n",
       "<style scoped>\n",
       "    .dataframe tbody tr th:only-of-type {\n",
       "        vertical-align: middle;\n",
       "    }\n",
       "\n",
       "    .dataframe tbody tr th {\n",
       "        vertical-align: top;\n",
       "    }\n",
       "\n",
       "    .dataframe thead th {\n",
       "        text-align: right;\n",
       "    }\n",
       "</style>\n",
       "<table border=\"1\" class=\"dataframe\">\n",
       "  <thead>\n",
       "    <tr style=\"text-align: right;\">\n",
       "      <th></th>\n",
       "      <th>Dominant_Topic</th>\n",
       "      <th>Topic_Keywords</th>\n",
       "      <th>Num_Documents</th>\n",
       "      <th>Perc_Documents</th>\n",
       "    </tr>\n",
       "  </thead>\n",
       "  <tbody>\n",
       "    <tr>\n",
       "      <th>0.0</th>\n",
       "      <td>9.0</td>\n",
       "      <td>police, die, officer, family, fire, home, chie...</td>\n",
       "      <td>2588.0</td>\n",
       "      <td>0.1168</td>\n",
       "    </tr>\n",
       "    <tr>\n",
       "      <th>1.0</th>\n",
       "      <td>1.0</td>\n",
       "      <td>support, leader, republican, member, group, ef...</td>\n",
       "      <td>1393.0</td>\n",
       "      <td>0.0628</td>\n",
       "    </tr>\n",
       "    <tr>\n",
       "      <th>2.0</th>\n",
       "      <td>11.0</td>\n",
       "      <td>call, official, trump, report, top, open, case...</td>\n",
       "      <td>1312.0</td>\n",
       "      <td>0.0592</td>\n",
       "    </tr>\n",
       "    <tr>\n",
       "      <th>3.0</th>\n",
       "      <td>10.0</td>\n",
       "      <td>woman, man, arrest, pay, turn, free, thousand,...</td>\n",
       "      <td>1072.0</td>\n",
       "      <td>0.0484</td>\n",
       "    </tr>\n",
       "    <tr>\n",
       "      <th>4.0</th>\n",
       "      <td>5.0</td>\n",
       "      <td>order, fight, court, seek, end, nation, releas...</td>\n",
       "      <td>1157.0</td>\n",
       "      <td>0.0522</td>\n",
       "    </tr>\n",
       "    <tr>\n",
       "      <th>5.0</th>\n",
       "      <td>0.0</td>\n",
       "      <td>vote, bill, state, pass, law, voting, ballot, ...</td>\n",
       "      <td>1069.0</td>\n",
       "      <td>0.0482</td>\n",
       "    </tr>\n",
       "    <tr>\n",
       "      <th>6.0</th>\n",
       "      <td>0.0</td>\n",
       "      <td>vote, bill, state, pass, law, voting, ballot, ...</td>\n",
       "      <td>1098.0</td>\n",
       "      <td>0.0495</td>\n",
       "    </tr>\n",
       "    <tr>\n",
       "      <th>7.0</th>\n",
       "      <td>4.0</td>\n",
       "      <td>people, trump, coronavirus, lose, urge, case, ...</td>\n",
       "      <td>1105.0</td>\n",
       "      <td>0.0499</td>\n",
       "    </tr>\n",
       "    <tr>\n",
       "      <th>8.0</th>\n",
       "      <td>13.0</td>\n",
       "      <td>black, trump, show, stop, video, give, campaig...</td>\n",
       "      <td>1060.0</td>\n",
       "      <td>0.0478</td>\n",
       "    </tr>\n",
       "    <tr>\n",
       "      <th>9.0</th>\n",
       "      <td>11.0</td>\n",
       "      <td>call, official, trump, report, top, open, case...</td>\n",
       "      <td>1105.0</td>\n",
       "      <td>0.0499</td>\n",
       "    </tr>\n",
       "    <tr>\n",
       "      <th>10.0</th>\n",
       "      <td>4.0</td>\n",
       "      <td>people, trump, coronavirus, lose, urge, case, ...</td>\n",
       "      <td>1003.0</td>\n",
       "      <td>0.0453</td>\n",
       "    </tr>\n",
       "    <tr>\n",
       "      <th>11.0</th>\n",
       "      <td>15.0</td>\n",
       "      <td>biden, plan, announce, president, ahead, inaug...</td>\n",
       "      <td>1036.0</td>\n",
       "      <td>0.0467</td>\n",
       "    </tr>\n",
       "    <tr>\n",
       "      <th>12.0</th>\n",
       "      <td>16.0</td>\n",
       "      <td>trump, opinion, lead, attack, lie, big, countr...</td>\n",
       "      <td>936.0</td>\n",
       "      <td>0.0422</td>\n",
       "    </tr>\n",
       "    <tr>\n",
       "      <th>13.0</th>\n",
       "      <td>5.0</td>\n",
       "      <td>order, fight, court, seek, end, nation, releas...</td>\n",
       "      <td>844.0</td>\n",
       "      <td>0.0381</td>\n",
       "    </tr>\n",
       "    <tr>\n",
       "      <th>14.0</th>\n",
       "      <td>6.0</td>\n",
       "      <td>analysis, move, remove, school, work, office, ...</td>\n",
       "      <td>1136.0</td>\n",
       "      <td>0.0513</td>\n",
       "    </tr>\n",
       "    <tr>\n",
       "      <th>15.0</th>\n",
       "      <td>2.0</td>\n",
       "      <td>year, make, record, history, set, return, life...</td>\n",
       "      <td>868.0</td>\n",
       "      <td>0.0392</td>\n",
       "    </tr>\n",
       "    <tr>\n",
       "      <th>16.0</th>\n",
       "      <td>13.0</td>\n",
       "      <td>black, trump, show, stop, video, give, campaig...</td>\n",
       "      <td>921.0</td>\n",
       "      <td>0.0416</td>\n",
       "    </tr>\n",
       "    <tr>\n",
       "      <th>17.0</th>\n",
       "      <td>11.0</td>\n",
       "      <td>call, official, trump, report, top, open, case...</td>\n",
       "      <td>851.0</td>\n",
       "      <td>0.0384</td>\n",
       "    </tr>\n",
       "    <tr>\n",
       "      <th>18.0</th>\n",
       "      <td>14.0</td>\n",
       "      <td>covid, vaccine, worker, world, offer, dose, re...</td>\n",
       "      <td>842.0</td>\n",
       "      <td>0.0380</td>\n",
       "    </tr>\n",
       "    <tr>\n",
       "      <th>19.0</th>\n",
       "      <td>19.0</td>\n",
       "      <td>day, time, pandemic, week, warn, close, hit, s...</td>\n",
       "      <td>768.0</td>\n",
       "      <td>0.0347</td>\n",
       "    </tr>\n",
       "  </tbody>\n",
       "</table>\n",
       "</div>"
      ],
      "text/plain": [
       "      Dominant_Topic                                     Topic_Keywords  \\\n",
       "0.0              9.0  police, die, officer, family, fire, home, chie...   \n",
       "1.0              1.0  support, leader, republican, member, group, ef...   \n",
       "2.0             11.0  call, official, trump, report, top, open, case...   \n",
       "3.0             10.0  woman, man, arrest, pay, turn, free, thousand,...   \n",
       "4.0              5.0  order, fight, court, seek, end, nation, releas...   \n",
       "5.0              0.0  vote, bill, state, pass, law, voting, ballot, ...   \n",
       "6.0              0.0  vote, bill, state, pass, law, voting, ballot, ...   \n",
       "7.0              4.0  people, trump, coronavirus, lose, urge, case, ...   \n",
       "8.0             13.0  black, trump, show, stop, video, give, campaig...   \n",
       "9.0             11.0  call, official, trump, report, top, open, case...   \n",
       "10.0             4.0  people, trump, coronavirus, lose, urge, case, ...   \n",
       "11.0            15.0  biden, plan, announce, president, ahead, inaug...   \n",
       "12.0            16.0  trump, opinion, lead, attack, lie, big, countr...   \n",
       "13.0             5.0  order, fight, court, seek, end, nation, releas...   \n",
       "14.0             6.0  analysis, move, remove, school, work, office, ...   \n",
       "15.0             2.0  year, make, record, history, set, return, life...   \n",
       "16.0            13.0  black, trump, show, stop, video, give, campaig...   \n",
       "17.0            11.0  call, official, trump, report, top, open, case...   \n",
       "18.0            14.0  covid, vaccine, worker, world, offer, dose, re...   \n",
       "19.0            19.0  day, time, pandemic, week, warn, close, hit, s...   \n",
       "\n",
       "      Num_Documents  Perc_Documents  \n",
       "0.0          2588.0          0.1168  \n",
       "1.0          1393.0          0.0628  \n",
       "2.0          1312.0          0.0592  \n",
       "3.0          1072.0          0.0484  \n",
       "4.0          1157.0          0.0522  \n",
       "5.0          1069.0          0.0482  \n",
       "6.0          1098.0          0.0495  \n",
       "7.0          1105.0          0.0499  \n",
       "8.0          1060.0          0.0478  \n",
       "9.0          1105.0          0.0499  \n",
       "10.0         1003.0          0.0453  \n",
       "11.0         1036.0          0.0467  \n",
       "12.0          936.0          0.0422  \n",
       "13.0          844.0          0.0381  \n",
       "14.0         1136.0          0.0513  \n",
       "15.0          868.0          0.0392  \n",
       "16.0          921.0          0.0416  \n",
       "17.0          851.0          0.0384  \n",
       "18.0          842.0          0.0380  \n",
       "19.0          768.0          0.0347  "
      ]
     },
     "execution_count": 39,
     "metadata": {},
     "output_type": "execute_result"
    }
   ],
   "source": [
    "# Number of Documents for Each Topic\n",
    "topic_counts = df_topic_sents_keywords['Dominant_Topic'].value_counts()\n",
    "\n",
    "# Percentage of Documents for Each Topic\n",
    "topic_contribution = round(topic_counts/topic_counts.sum(), 4)\n",
    "\n",
    "# Topic Number and Keywords\n",
    "topic_num_keywords = df_topic_sents_keywords[['Dominant_Topic', 'Topic_Keywords']]\n",
    "\n",
    "# Concatenate Column wise\n",
    "df_dominant_topics = pd.concat([topic_num_keywords, topic_counts, topic_contribution], axis=1)\n",
    "\n",
    "# Change Column names\n",
    "df_dominant_topics.columns = ['Dominant_Topic', 'Topic_Keywords', 'Num_Documents', 'Perc_Documents']\n",
    "\n",
    "# Show\n",
    "df_dominant_topics.head(20)"
   ]
  }
 ],
 "metadata": {
  "colab": {
   "collapsed_sections": [],
   "name": "Topic Modeling with Gensim.ipynb",
   "provenance": [],
   "toc_visible": true
  },
  "kernelspec": {
   "display_name": "Python 3",
   "language": "python",
   "name": "python3"
  },
  "language_info": {
   "codemirror_mode": {
    "name": "ipython",
    "version": 3
   },
   "file_extension": ".py",
   "mimetype": "text/x-python",
   "name": "python",
   "nbconvert_exporter": "python",
   "pygments_lexer": "ipython3",
   "version": "3.8.5"
  }
 },
 "nbformat": 4,
 "nbformat_minor": 4
}
